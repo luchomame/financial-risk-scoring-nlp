{
 "cells": [
  {
   "cell_type": "markdown",
   "metadata": {},
   "source": [
    "# **Predicting Stock Price Movements using VIX, Sentiment, and ARIMA-GARCH Predictions**\n",
    "\n",
    "## **1. Objective**\n",
    "The goal of this experiment is to predict **extreme stock price movements (drops/surges)** using a combination of:\n",
    "- **VIX (Volatility Index)**\n",
    "- **Stock-Specific Sentiment Analysis**\n",
    "- **Historical Stock Prices**\n",
    "\n",
    "We aim to develop a **7-day ahead prediction model** that can be used to assess short-term risk in individual S&P 500 stocks.\n",
    "\n",
    "---\n",
    "\n",
    "## **2. Data Features & Structure**\n",
    "\n",
    "### **2.1 Training Dataset (Using Observed VIX Data)**\n",
    "For each date **t**, we include:\n",
    "- **VIX Information:**\n",
    "  - `VIX (t)`: Current VIX value\n",
    "  - `VIX (t - 7)`: VIX value 7 days ago\n",
    "  - `VIX (t + 7) (Observed)`: Actual VIX value 7 days in the future (only used in training)\n",
    "\n",
    "- **Sentiment Data:**\n",
    "  - `Sentiment Label (t)`: Positive, Neutral, Negative\n",
    "  - `Sentiment Score (t)`: Scaled score (-1 to +1)\n",
    "\n",
    "- **Stock Price Data:**\n",
    "  - `Lagged Price (t - 7)`: Closing price 7 days ago\n",
    "  - `Percent Change (t - 7 to t)`: Price movement in the last 7 days\n",
    "\n",
    "- **Target Variable:**\n",
    "  - `Target (t + 7)`: 1 if the price drops/surges by a defined threshold in 7 days, 0 otherwise\n",
    "\n",
    "\n",
    "# *ADDED VOLUME NEED TO UPDATE*\n",
    "| Date (t) | Ticker | VIX (t) | VIX (t - 7) | **VIX (t + 7) (Observed)** | Positive score |  Negative Score | Neutral Score | Highest Sentiment Label | Lagged Price (t - 7) | % Change (t - 7 to t) | Target (t + 7) | \n",
    "|----------|--------|---------|------------|---------------------------|------------|-----------|--------|--|-----------------|---------------------|--------------|\n",
    "| 01/01/22 | AAPL   | 20      | 22         | 25                        | 0.2        | 0.5       | 0.3    | Negative           | $150            | -2%                 | 1 (drop)     |\n",
    "| 01/01/22 | TSLA   | 20      | 22         | 25                        | 0.5        | 0.3       | 0.2    | Positive       |  $1,000          | +3%                 | 0 (no drop)  |\n",
    "\n",
    "---\n",
    "\n",
    "### **2.2 Testing Dataset (Using Predicted VIX from ARIMA-GARCH)**\n",
    "For future predictions, we **replace observed VIX(t+7) with a predicted value** from the ARIMA-GARCH model.\n",
    "\n",
    "| Date (t) | Ticker | VIX (t) | VIX (t - 7) | **VIX (t + 7) (Predicted)** | Positive score |  Negative Score | Neutral Score | Highest Sentiment Label | Lagged Price (t - 7) | % Change (t - 7 to t) | Target (t + 7) | \n",
    "|----------|--------|---------|------------|---------------------------|------------|-----------|--------|--|-----------------|---------------------|--------------|\n",
    "| 01/02/25 | AAPL   | 18      | 20         | **23 (Predicted)**        | 0.2        | 0.2       | 0.6    | Neutral           | $150            | -2%                 | 0 (no drop)     |\n",
    "| 01/02/25 | TSLA   | 22      | 24         | **28 (Predicted)**        | 0.1        | 0.8       | 0.1    | Positive       |  $950          | +3%                 | 1 (drop)  |\n",
    "\n",
    "---\n",
    "\n",
    "## **3. Data Splitting Strategy**\n",
    "To ensure proper model evaluation, we **split the dataset** into:\n",
    "1. **Training Set (2015 - 2022)**\n",
    "   - Uses **observed VIX(t+7)** for model learning.\n",
    "   \n",
    "2. **Validation Set (2023)**\n",
    "   - Used for hyperparameter tuning.\n",
    "   \n",
    "3. **Testing Set (2024 - 2025)**\n",
    "   - **Uses precomputed VIX predictions for t+7**, not observed values.\n",
    "   - This simulates **real-world market conditions**.\n",
    "\n",
    "---\n",
    "\n",
    "## **4. Model Workflow**\n",
    "1. **Train Initial ARIMA-GARCH Model (R)**\n",
    "   - Fit ARIMA-GARCH using **VIX data from 01/01/2022 - 08/01/2024**.\n",
    "   - Predict **VIX for 08/08/2024** and store it in **DuckDB**.\n",
    "\n",
    "2. **Run Rolling Retraining for Future Predictions**\n",
    "   - Every day, **retrain the model using up-to-date data**.\n",
    "   - Predict **VIX for t+7**.\n",
    "   - Store **VIX predictions** in **DuckDB**.\n",
    "\n",
    "3. **Prepare Data in DuckDB**\n",
    "   - Store **training and testing datasets** in DuckDB for easy retrieval.\n",
    "   - Allow the user to set the threshold. Training data **will not** contain target, user must make that.\n",
    "   \n",
    "4. **Train a Machine Learning Model**\n",
    "   - Input: VIX, Sentiment, and Price data.\n",
    "   - Output: Binary classification (drop/no drop).\n",
    "   \n",
    "5. **Evaluate Performance**\n",
    "   - Compare accuracy using **observed vs. predicted VIX**.\n",
    "\n",
    "---\n",
    "\n",
    "## **5. Key Questions for Validation**\n",
    "- Does **VIX (t-7)** provide additional predictive power?\n",
    "- How does **sentiment influence stock-specific movements**?\n",
    "- Does the model perform well when using **predicted VIX instead of observed VIX**?\n",
    "\n",
    "---\n",
    "\n",
    "## **6. Next Steps**\n",
    "- Store **training dataset in DuckDB**.\n",
    "- Train & test a **classification model (Logistic Regression, XGBoost, or LSTM)**.\n",
    "- Validate **performance against unseen data**.\n",
    "\n",
    "---\n",
    "\n",
    "### **End of Documentation**"
   ]
  },
  {
   "cell_type": "code",
   "execution_count": 1,
   "metadata": {},
   "outputs": [],
   "source": [
    "import pandas as pd\n",
    "import duckdb\n",
    "from sklearn.preprocessing import StandardScaler, OneHotEncoder\n",
    "from sklearn.linear_model import LogisticRegression\n",
    "from sklearn.metrics import classification_report, confusion_matrix\n",
    "import xgboost as xgb"
   ]
  },
  {
   "cell_type": "code",
   "execution_count": 2,
   "metadata": {},
   "outputs": [],
   "source": [
    "con = duckdb.connect(r\"C:/Users/jovan/Documents/CSE 6748 Practicum WITH DATA/financial_news.db\", read_only=True)\n",
    "df = con.execute(\"SELECT * FROM Headlines.weekly_training_data\").fetchdf()\n",
    "con.close()"
   ]
  },
  {
   "cell_type": "code",
   "execution_count": 3,
   "metadata": {},
   "outputs": [
    {
     "data": {
      "text/plain": [
       "Target_t_7\n",
       " 0    169018\n",
       " 1     16569\n",
       "-1     15480\n",
       "Name: count, dtype: int64"
      ]
     },
     "execution_count": 3,
     "metadata": {},
     "output_type": "execute_result"
    }
   ],
   "source": [
    "THRESHOLD = 2.5\n",
    "\n",
    "df[\"Target_t_7\"] = 0  # Default to 'No Movement'\n",
    "df.loc[df[\"price_change_t_7\"] >= THRESHOLD, \"Target_t_7\"] = 1  # Surge\n",
    "df.loc[df[\"price_change_t_7\"] <= -THRESHOLD, \"Target_t_7\"] = -1  # Drop\n",
    "\n",
    "df[\"Target_t_7\"].value_counts() # honestly this is pretty balanced"
   ]
  },
  {
   "cell_type": "code",
   "execution_count": null,
   "metadata": {},
   "outputs": [
    {
     "name": "stdout",
     "output_type": "stream",
     "text": [
      "Before removing -1s (201067, 18)\n",
      "After removing -1s (198113, 18)\n",
      "Before removing nulls (198113, 18)\n",
      "After removing nulls (198113, 18)\n"
     ]
    }
   ],
   "source": [
    "# drop rows that have -1 for price_t, price_t_7_past, volume_t, volume_t_7_past\n",
    "print(f\"Before removing -1s {df.shape}\")\n",
    "filtered_df = df[(df[\"price_t\"] != -1) & (df[\"price_t_7_past\"] != -1) & (df[\"volume_t\"] != -1) & (df[\"volume_t_7_past\"] != -1)]\n",
    "print(f\"After removing -1s {filtered_df.shape}\")\n",
    "\n",
    "# remove everything with subindustry as null \n",
    "# print(f\"Before removing nulls {filtered_df.shape}\")\n",
    "# filtered_df = filtered_df[filtered_df[\"subindustry\"].notnull()]\n",
    "# print(f\"After removing nulls {filtered_df.shape}\")"
   ]
  },
  {
   "cell_type": "code",
   "execution_count": 5,
   "metadata": {},
   "outputs": [
    {
     "data": {
      "text/plain": [
       "Target_t_7\n",
       " 0    166074\n",
       " 1     16565\n",
       "-1     15474\n",
       "Name: count, dtype: int64"
      ]
     },
     "execution_count": 5,
     "metadata": {},
     "output_type": "execute_result"
    }
   ],
   "source": [
    "filtered_df[\"Target_t_7\"].value_counts() # honestly this is pretty balanced"
   ]
  },
  {
   "cell_type": "code",
   "execution_count": 6,
   "metadata": {},
   "outputs": [
    {
     "name": "stderr",
     "output_type": "stream",
     "text": [
      "C:\\Users\\jovan\\AppData\\Local\\Temp\\ipykernel_27232\\1738527749.py:4: SettingWithCopyWarning: \n",
      "A value is trying to be set on a copy of a slice from a DataFrame.\n",
      "Try using .loc[row_indexer,col_indexer] = value instead\n",
      "\n",
      "See the caveats in the documentation: https://pandas.pydata.org/pandas-docs/stable/user_guide/indexing.html#returning-a-view-versus-a-copy\n",
      "  filtered_df[\"volume_change_t_7\"] = filtered_df[\"volume_change_t_7\"].fillna(0)\n"
     ]
    }
   ],
   "source": [
    "# see what rows have NaN values \n",
    "filtered_df[filtered_df.isna().any(axis=1)]\n",
    "# okay looks like we have one weird case where no volume data for BIIB @ 2023-06-12 so its NaN??? lets make it 0 I guess \n",
    "filtered_df[\"volume_change_t_7\"] = filtered_df[\"volume_change_t_7\"].fillna(0)\n",
    "# filtered_df[filtered_df.isna().any(axis=1)]\n"
   ]
  },
  {
   "cell_type": "markdown",
   "metadata": {},
   "source": [
    "handle categorical"
   ]
  },
  {
   "cell_type": "code",
   "execution_count": 7,
   "metadata": {},
   "outputs": [],
   "source": [
    "categorical_features = [\"ticker\", \"subindustry\"]\n",
    "\n",
    "encoder = OneHotEncoder(handle_unknown=\"ignore\", sparse_output=False)\n",
    "encoded_cats = encoder.fit_transform(filtered_df[categorical_features])\n",
    "encoded_df = pd.DataFrame(encoded_cats, columns=encoder.get_feature_names_out(categorical_features))"
   ]
  },
  {
   "cell_type": "code",
   "execution_count": 8,
   "metadata": {},
   "outputs": [
    {
     "data": {
      "text/plain": [
       "Index(['date_t', 'vix_t', 'vix_t_7_past', 'vix_t_7_future', 'price_t',\n",
       "       'price_t_7_past', 'price_change_t_7', 'volume_t', 'volume_t_7_past',\n",
       "       'volume_change_t_7', 'sentiment_positive_t', 'sentiment_neutral_t',\n",
       "       'sentiment_negative_t', 'Target_t_7'],\n",
       "      dtype='object')"
      ]
     },
     "execution_count": 8,
     "metadata": {},
     "output_type": "execute_result"
    }
   ],
   "source": [
    "processed_df = filtered_df.drop(columns=categorical_features)\n",
    "processed_df = processed_df.drop(columns=[\"guid\", \"sentiment_label_t\"])\n",
    "# processed_df = pd.concat([processed_df, encoded_df], axis=1)\n",
    "processed_df.columns"
   ]
  },
  {
   "cell_type": "code",
   "execution_count": 9,
   "metadata": {},
   "outputs": [
    {
     "name": "stdout",
     "output_type": "stream",
     "text": [
      "0\n",
      "Index(['date_t', 'vix_t', 'vix_t_7_past', 'vix_t_7_future', 'price_t',\n",
      "       'price_t_7_past', 'price_change_t_7', 'volume_t', 'volume_t_7_past',\n",
      "       'volume_change_t_7', 'sentiment_positive_t', 'sentiment_neutral_t',\n",
      "       'sentiment_negative_t', 'Target_t_7'],\n",
      "      dtype='object')\n"
     ]
    }
   ],
   "source": [
    "scaler = StandardScaler()\n",
    "\n",
    "date_col = processed_df[\"date_t\"].reset_index(drop=True)  # Reset index\n",
    "target_col = processed_df[\"Target_t_7\"].reset_index(drop=True)  # Reset index\n",
    "processed_df_no_date = processed_df.drop(columns=[\"date_t\", \"Target_t_7\"]).reset_index(drop=True)\n",
    "\n",
    "scaled_features = scaler.fit_transform(processed_df_no_date)\n",
    "scaled_df = pd.DataFrame(scaled_features, columns=processed_df_no_date.columns)\n",
    "print(scaled_df[scaled_df.isna().any(axis=1)].size)\n",
    "if date_col.index.equals(scaled_df.index) and target_col.index.equals(scaled_df.index):\n",
    "    scaled_df = pd.concat([date_col, scaled_df, target_col], axis=1)    \n",
    "    print(scaled_df.columns)\n",
    "else:\n",
    "    raise ValueError(\"Index mismatch\")"
   ]
  },
  {
   "cell_type": "code",
   "execution_count": 10,
   "metadata": {},
   "outputs": [
    {
     "data": {
      "text/html": [
       "<div>\n",
       "<style scoped>\n",
       "    .dataframe tbody tr th:only-of-type {\n",
       "        vertical-align: middle;\n",
       "    }\n",
       "\n",
       "    .dataframe tbody tr th {\n",
       "        vertical-align: top;\n",
       "    }\n",
       "\n",
       "    .dataframe thead th {\n",
       "        text-align: right;\n",
       "    }\n",
       "</style>\n",
       "<table border=\"1\" class=\"dataframe\">\n",
       "  <thead>\n",
       "    <tr style=\"text-align: right;\">\n",
       "      <th></th>\n",
       "      <th>date_t</th>\n",
       "      <th>vix_t</th>\n",
       "      <th>vix_t_7_past</th>\n",
       "      <th>vix_t_7_future</th>\n",
       "      <th>price_t</th>\n",
       "      <th>price_t_7_past</th>\n",
       "      <th>price_change_t_7</th>\n",
       "      <th>volume_t</th>\n",
       "      <th>volume_t_7_past</th>\n",
       "      <th>volume_change_t_7</th>\n",
       "      <th>...</th>\n",
       "      <th>subindustry_60106010</th>\n",
       "      <th>subindustry_60106020</th>\n",
       "      <th>subindustry_60107010</th>\n",
       "      <th>subindustry_60108010</th>\n",
       "      <th>subindustry_60108020</th>\n",
       "      <th>subindustry_60108030</th>\n",
       "      <th>subindustry_60108040</th>\n",
       "      <th>subindustry_60108050</th>\n",
       "      <th>subindustry_60201040</th>\n",
       "      <th>subindustry_None</th>\n",
       "    </tr>\n",
       "  </thead>\n",
       "  <tbody>\n",
       "    <tr>\n",
       "      <th>0</th>\n",
       "      <td>2024-07-22</td>\n",
       "      <td>-0.440606</td>\n",
       "      <td>-0.419025</td>\n",
       "      <td>0.742287</td>\n",
       "      <td>0.045056</td>\n",
       "      <td>0.044638</td>\n",
       "      <td>0.190594</td>\n",
       "      <td>-0.186053</td>\n",
       "      <td>-0.175984</td>\n",
       "      <td>-0.044958</td>\n",
       "      <td>...</td>\n",
       "      <td>0.0</td>\n",
       "      <td>0.0</td>\n",
       "      <td>0.0</td>\n",
       "      <td>0.0</td>\n",
       "      <td>0.0</td>\n",
       "      <td>0.0</td>\n",
       "      <td>0.0</td>\n",
       "      <td>0.0</td>\n",
       "      <td>0.0</td>\n",
       "      <td>0.0</td>\n",
       "    </tr>\n",
       "    <tr>\n",
       "      <th>1</th>\n",
       "      <td>2024-07-22</td>\n",
       "      <td>-0.440606</td>\n",
       "      <td>-0.419025</td>\n",
       "      <td>0.742287</td>\n",
       "      <td>-0.026319</td>\n",
       "      <td>-0.026421</td>\n",
       "      <td>0.474186</td>\n",
       "      <td>-0.021495</td>\n",
       "      <td>-0.004783</td>\n",
       "      <td>-0.027092</td>\n",
       "      <td>...</td>\n",
       "      <td>0.0</td>\n",
       "      <td>0.0</td>\n",
       "      <td>0.0</td>\n",
       "      <td>0.0</td>\n",
       "      <td>0.0</td>\n",
       "      <td>0.0</td>\n",
       "      <td>0.0</td>\n",
       "      <td>0.0</td>\n",
       "      <td>0.0</td>\n",
       "      <td>0.0</td>\n",
       "    </tr>\n",
       "    <tr>\n",
       "      <th>2</th>\n",
       "      <td>2024-07-22</td>\n",
       "      <td>-0.440606</td>\n",
       "      <td>-0.419025</td>\n",
       "      <td>0.742287</td>\n",
       "      <td>-0.021417</td>\n",
       "      <td>-0.021351</td>\n",
       "      <td>-0.200590</td>\n",
       "      <td>-0.017216</td>\n",
       "      <td>-0.024530</td>\n",
       "      <td>-0.014323</td>\n",
       "      <td>...</td>\n",
       "      <td>0.0</td>\n",
       "      <td>0.0</td>\n",
       "      <td>0.0</td>\n",
       "      <td>0.0</td>\n",
       "      <td>0.0</td>\n",
       "      <td>0.0</td>\n",
       "      <td>0.0</td>\n",
       "      <td>0.0</td>\n",
       "      <td>0.0</td>\n",
       "      <td>0.0</td>\n",
       "    </tr>\n",
       "    <tr>\n",
       "      <th>3</th>\n",
       "      <td>2024-07-22</td>\n",
       "      <td>-0.440606</td>\n",
       "      <td>-0.419025</td>\n",
       "      <td>0.742287</td>\n",
       "      <td>-0.033713</td>\n",
       "      <td>-0.033720</td>\n",
       "      <td>0.355548</td>\n",
       "      <td>1.980879</td>\n",
       "      <td>2.274551</td>\n",
       "      <td>-0.032749</td>\n",
       "      <td>...</td>\n",
       "      <td>0.0</td>\n",
       "      <td>0.0</td>\n",
       "      <td>0.0</td>\n",
       "      <td>0.0</td>\n",
       "      <td>0.0</td>\n",
       "      <td>0.0</td>\n",
       "      <td>0.0</td>\n",
       "      <td>0.0</td>\n",
       "      <td>0.0</td>\n",
       "      <td>0.0</td>\n",
       "    </tr>\n",
       "    <tr>\n",
       "      <th>4</th>\n",
       "      <td>2024-07-22</td>\n",
       "      <td>-0.440606</td>\n",
       "      <td>-0.419025</td>\n",
       "      <td>0.742287</td>\n",
       "      <td>-0.030759</td>\n",
       "      <td>-0.030782</td>\n",
       "      <td>0.235853</td>\n",
       "      <td>-0.113726</td>\n",
       "      <td>-0.134520</td>\n",
       "      <td>0.022861</td>\n",
       "      <td>...</td>\n",
       "      <td>0.0</td>\n",
       "      <td>0.0</td>\n",
       "      <td>0.0</td>\n",
       "      <td>0.0</td>\n",
       "      <td>0.0</td>\n",
       "      <td>0.0</td>\n",
       "      <td>0.0</td>\n",
       "      <td>0.0</td>\n",
       "      <td>0.0</td>\n",
       "      <td>0.0</td>\n",
       "    </tr>\n",
       "  </tbody>\n",
       "</table>\n",
       "<p>5 rows × 1545 columns</p>\n",
       "</div>"
      ],
      "text/plain": [
       "      date_t     vix_t  vix_t_7_past  vix_t_7_future   price_t  \\\n",
       "0 2024-07-22 -0.440606     -0.419025        0.742287  0.045056   \n",
       "1 2024-07-22 -0.440606     -0.419025        0.742287 -0.026319   \n",
       "2 2024-07-22 -0.440606     -0.419025        0.742287 -0.021417   \n",
       "3 2024-07-22 -0.440606     -0.419025        0.742287 -0.033713   \n",
       "4 2024-07-22 -0.440606     -0.419025        0.742287 -0.030759   \n",
       "\n",
       "   price_t_7_past  price_change_t_7  volume_t  volume_t_7_past  \\\n",
       "0        0.044638          0.190594 -0.186053        -0.175984   \n",
       "1       -0.026421          0.474186 -0.021495        -0.004783   \n",
       "2       -0.021351         -0.200590 -0.017216        -0.024530   \n",
       "3       -0.033720          0.355548  1.980879         2.274551   \n",
       "4       -0.030782          0.235853 -0.113726        -0.134520   \n",
       "\n",
       "   volume_change_t_7  ...  subindustry_60106010  subindustry_60106020  \\\n",
       "0          -0.044958  ...                   0.0                   0.0   \n",
       "1          -0.027092  ...                   0.0                   0.0   \n",
       "2          -0.014323  ...                   0.0                   0.0   \n",
       "3          -0.032749  ...                   0.0                   0.0   \n",
       "4           0.022861  ...                   0.0                   0.0   \n",
       "\n",
       "   subindustry_60107010  subindustry_60108010  subindustry_60108020  \\\n",
       "0                   0.0                   0.0                   0.0   \n",
       "1                   0.0                   0.0                   0.0   \n",
       "2                   0.0                   0.0                   0.0   \n",
       "3                   0.0                   0.0                   0.0   \n",
       "4                   0.0                   0.0                   0.0   \n",
       "\n",
       "   subindustry_60108030  subindustry_60108040  subindustry_60108050  \\\n",
       "0                   0.0                   0.0                   0.0   \n",
       "1                   0.0                   0.0                   0.0   \n",
       "2                   0.0                   0.0                   0.0   \n",
       "3                   0.0                   0.0                   0.0   \n",
       "4                   0.0                   0.0                   0.0   \n",
       "\n",
       "   subindustry_60201040  subindustry_None  \n",
       "0                   0.0               0.0  \n",
       "1                   0.0               0.0  \n",
       "2                   0.0               0.0  \n",
       "3                   0.0               0.0  \n",
       "4                   0.0               0.0  \n",
       "\n",
       "[5 rows x 1545 columns]"
      ]
     },
     "execution_count": 10,
     "metadata": {},
     "output_type": "execute_result"
    }
   ],
   "source": [
    "final_df = pd.concat([scaled_df, encoded_df], axis=1)\n",
    "final_df.head()"
   ]
  },
  {
   "cell_type": "code",
   "execution_count": 11,
   "metadata": {},
   "outputs": [
    {
     "name": "stdout",
     "output_type": "stream",
     "text": [
      "107.2\n",
      "2024-01-29 00:00:00\n"
     ]
    }
   ],
   "source": [
    "# find unique dates \n",
    "final_df = final_df.sort_values(by=\"date_t\", ascending=True)\n",
    "dates = final_df[\"date_t\"].unique()\n",
    "print(len(dates) * 0.8)\n",
    "print(dates[108])\n",
    "\n",
    "# so the middle is at index 108 \n",
    "train_dates = dates[:108]\n",
    "test_dates = dates[108:]\n",
    "\n",
    "train_df = final_df[final_df[\"date_t\"].isin(train_dates)]\n",
    "test_df = final_df[final_df[\"date_t\"].isin(test_dates)]\n",
    "\n",
    "X_train = train_df.drop(columns=[\"Target_t_7\", \"date_t\"])\n",
    "y_train = train_df[\"Target_t_7\"]\n",
    "\n",
    "X_test = test_df.drop(columns=[\"Target_t_7\", \"date_t\"])\n",
    "y_test = test_df[\"Target_t_7\"]"
   ]
  },
  {
   "cell_type": "code",
   "execution_count": 12,
   "metadata": {},
   "outputs": [
    {
     "name": "stdout",
     "output_type": "stream",
     "text": [
      "              precision    recall  f1-score   support\n",
      "\n",
      "          -1       0.94      1.00      0.97      2784\n",
      "           0       1.00      0.99      0.99     41234\n",
      "           1       0.94      1.00      0.97      3861\n",
      "\n",
      "    accuracy                           0.99     47879\n",
      "   macro avg       0.96      1.00      0.98     47879\n",
      "weighted avg       0.99      0.99      0.99     47879\n",
      "\n"
     ]
    }
   ],
   "source": [
    "model = LogisticRegression(class_weight=\"balanced\", max_iter=1000)\n",
    "\n",
    "model.fit(X_train, y_train)\n",
    "\n",
    "y_pred = model.predict(X_test)\n",
    "\n",
    "print(classification_report(y_test, y_pred))"
   ]
  },
  {
   "cell_type": "code",
   "execution_count": 13,
   "metadata": {},
   "outputs": [
    {
     "data": {
      "text/plain": [
       "array([[ 2784,     0,     0],\n",
       "       [  189, 40789,   256],\n",
       "       [    0,    11,  3850]])"
      ]
     },
     "execution_count": 13,
     "metadata": {},
     "output_type": "execute_result"
    }
   ],
   "source": [
    "# confusion matrix\n",
    "confusion_matrix(y_test, y_pred)"
   ]
  },
  {
   "cell_type": "code",
   "execution_count": 14,
   "metadata": {},
   "outputs": [
    {
     "name": "stderr",
     "output_type": "stream",
     "text": [
      "c:\\Users\\jovan\\anaconda3\\envs\\cs7643-a2\\Lib\\site-packages\\xgboost\\core.py:158: UserWarning: [21:53:25] WARNING: C:\\buildkite-agent\\builds\\buildkite-windows-cpu-autoscaling-group-i-08cbc0333d8d4aae1-1\\xgboost\\xgboost-ci-windows\\src\\learner.cc:740: \n",
      "Parameters: { \"use_label_encoder\" } are not used.\n",
      "\n",
      "  warnings.warn(smsg, UserWarning)\n"
     ]
    },
    {
     "data": {
      "text/plain": [
       "'              precision    recall  f1-score   support\\n\\n           0       0.98      0.99      0.98      2784\\n           1       1.00      1.00      1.00     41234\\n           2       0.98      0.99      0.98      3861\\n\\n    accuracy                           1.00     47879\\n   macro avg       0.98      0.99      0.99     47879\\nweighted avg       1.00      1.00      1.00     47879\\n'"
      ]
     },
     "execution_count": 14,
     "metadata": {},
     "output_type": "execute_result"
    }
   ],
   "source": [
    "\n",
    "y_train_fixed = y_train + 1\n",
    "y_test_fixed = y_test + 1\n",
    "\n",
    "\n",
    "# Initialize XGBoost classifier\n",
    "xgb_model = xgb.XGBClassifier(\n",
    "    objective=\"multi:softmax\",  # Multi-class classification\n",
    "    num_class=3,  # Three classes (-1, 0, 1)\n",
    "    eval_metric=\"mlogloss\",  # Multi-class log loss\n",
    "    use_label_encoder=False,\n",
    "    seed=42\n",
    ")\n",
    "\n",
    "# Train the model\n",
    "xgb_model.fit(X_train, y_train_fixed)\n",
    "\n",
    "# Make predictions\n",
    "y_pred_xgb = xgb_model.predict(X_test)\n",
    "\n",
    "# Evaluate model\n",
    "classification_report(y_test_fixed, y_pred_xgb)"
   ]
  },
  {
   "cell_type": "code",
   "execution_count": 15,
   "metadata": {},
   "outputs": [
    {
     "data": {
      "text/plain": [
       "array([[ 2748,    36,     0],\n",
       "       [   65, 41072,    97],\n",
       "       [    0,    41,  3820]])"
      ]
     },
     "execution_count": 15,
     "metadata": {},
     "output_type": "execute_result"
    }
   ],
   "source": [
    "confusion_matrix(y_test_fixed, y_pred_xgb)"
   ]
  },
  {
   "cell_type": "markdown",
   "metadata": {},
   "source": [
    "weird okay so both the models did great with training data\n",
    "\n",
    "are we overfitting? did we memorize?"
   ]
  },
  {
   "cell_type": "code",
   "execution_count": 17,
   "metadata": {},
   "outputs": [
    {
     "data": {
      "text/plain": [
       "Target_t_7\n",
       " 0    36359\n",
       "-1     3705\n",
       " 1     3552\n",
       "Name: count, dtype: int64"
      ]
     },
     "execution_count": 17,
     "metadata": {},
     "output_type": "execute_result"
    }
   ],
   "source": [
    "# okay lets load Headlines.weekly_test_data, take it through the same process and see how it does\n",
    "con = duckdb.connect(r\"C:/Users/jovan/Documents/CSE 6748 Practicum WITH DATA/financial_news.db\", read_only=True)\n",
    "df = con.execute(\"SELECT * FROM Headlines.weekly_test_data\").fetchdf()\n",
    "con.close()\n",
    "\n",
    "df[\"Target_t_7\"] = 0  # Default to 'No Movement'\n",
    "df.loc[df[\"price_change_t_7\"] >= THRESHOLD, \"Target_t_7\"] = 1  # Surge\n",
    "df.loc[df[\"price_change_t_7\"] <= -THRESHOLD, \"Target_t_7\"] = -1  # Drop\n",
    "\n",
    "df[\"Target_t_7\"].value_counts() # honestly this is pretty balanced"
   ]
  },
  {
   "cell_type": "code",
   "execution_count": 25,
   "metadata": {},
   "outputs": [
    {
     "data": {
      "text/html": [
       "<div>\n",
       "<style scoped>\n",
       "    .dataframe tbody tr th:only-of-type {\n",
       "        vertical-align: middle;\n",
       "    }\n",
       "\n",
       "    .dataframe tbody tr th {\n",
       "        vertical-align: top;\n",
       "    }\n",
       "\n",
       "    .dataframe thead th {\n",
       "        text-align: right;\n",
       "    }\n",
       "</style>\n",
       "<table border=\"1\" class=\"dataframe\">\n",
       "  <thead>\n",
       "    <tr style=\"text-align: right;\">\n",
       "      <th></th>\n",
       "      <th>guid</th>\n",
       "      <th>date_t</th>\n",
       "      <th>ticker</th>\n",
       "      <th>subindustry</th>\n",
       "      <th>vix_t</th>\n",
       "      <th>vix_t_7_past</th>\n",
       "      <th>vix_t_7_future</th>\n",
       "      <th>price_t</th>\n",
       "      <th>price_t_7_past</th>\n",
       "      <th>price_change_t_7</th>\n",
       "      <th>volume_t</th>\n",
       "      <th>volume_t_7_past</th>\n",
       "      <th>volume_change_t_7</th>\n",
       "      <th>sentiment_label_t</th>\n",
       "      <th>sentiment_positive_t</th>\n",
       "      <th>sentiment_neutral_t</th>\n",
       "      <th>sentiment_negative_t</th>\n",
       "      <th>Target_t_7</th>\n",
       "    </tr>\n",
       "  </thead>\n",
       "  <tbody>\n",
       "    <tr>\n",
       "      <th>0</th>\n",
       "      <td>9b2ce942-fe3a-33f1-8d05-42731b3044cf</td>\n",
       "      <td>2024-07-29</td>\n",
       "      <td>TPH</td>\n",
       "      <td>None</td>\n",
       "      <td>23.389999</td>\n",
       "      <td>16.389999</td>\n",
       "      <td>23.739477</td>\n",
       "      <td>46.029999</td>\n",
       "      <td>46.119999</td>\n",
       "      <td>-0.195143</td>\n",
       "      <td>1010214</td>\n",
       "      <td>1213797</td>\n",
       "      <td>-16.772409</td>\n",
       "      <td>NEGATIVE</td>\n",
       "      <td>6.552353e-05</td>\n",
       "      <td>0.000629</td>\n",
       "      <td>9.993052e-01</td>\n",
       "      <td>0</td>\n",
       "    </tr>\n",
       "    <tr>\n",
       "      <th>1</th>\n",
       "      <td>6b979d74-28cd-33a5-b0b8-7f50b136c299</td>\n",
       "      <td>2024-07-29</td>\n",
       "      <td>ANET</td>\n",
       "      <td>45201020</td>\n",
       "      <td>23.389999</td>\n",
       "      <td>16.389999</td>\n",
       "      <td>23.739477</td>\n",
       "      <td>20.034374</td>\n",
       "      <td>19.950624</td>\n",
       "      <td>0.419785</td>\n",
       "      <td>45150192</td>\n",
       "      <td>37617648</td>\n",
       "      <td>20.023963</td>\n",
       "      <td>NEGATIVE</td>\n",
       "      <td>3.016462e-06</td>\n",
       "      <td>0.000002</td>\n",
       "      <td>9.999951e-01</td>\n",
       "      <td>0</td>\n",
       "    </tr>\n",
       "    <tr>\n",
       "      <th>2</th>\n",
       "      <td>868669ed-4c3b-3ffe-b403-3fc62470cc47</td>\n",
       "      <td>2024-07-29</td>\n",
       "      <td>ALLE</td>\n",
       "      <td>20102010</td>\n",
       "      <td>23.389999</td>\n",
       "      <td>16.389999</td>\n",
       "      <td>23.739477</td>\n",
       "      <td>137.660004</td>\n",
       "      <td>136.770004</td>\n",
       "      <td>0.650727</td>\n",
       "      <td>757731</td>\n",
       "      <td>1089860</td>\n",
       "      <td>-30.474465</td>\n",
       "      <td>NEUTRAL</td>\n",
       "      <td>2.495872e-02</td>\n",
       "      <td>0.753420</td>\n",
       "      <td>2.216212e-01</td>\n",
       "      <td>0</td>\n",
       "    </tr>\n",
       "    <tr>\n",
       "      <th>3</th>\n",
       "      <td>4d013850-1182-3ae5-8404-a66875d88ded</td>\n",
       "      <td>2024-07-29</td>\n",
       "      <td>ON</td>\n",
       "      <td>45301020</td>\n",
       "      <td>23.389999</td>\n",
       "      <td>16.389999</td>\n",
       "      <td>23.739477</td>\n",
       "      <td>78.269997</td>\n",
       "      <td>70.169998</td>\n",
       "      <td>11.543392</td>\n",
       "      <td>22282731</td>\n",
       "      <td>7764342</td>\n",
       "      <td>186.988015</td>\n",
       "      <td>NEUTRAL</td>\n",
       "      <td>8.019854e-05</td>\n",
       "      <td>0.999838</td>\n",
       "      <td>8.158579e-05</td>\n",
       "      <td>1</td>\n",
       "    </tr>\n",
       "    <tr>\n",
       "      <th>4</th>\n",
       "      <td>b6266589-784a-3b21-a62f-c4842ef233f5</td>\n",
       "      <td>2024-07-29</td>\n",
       "      <td>GDDY</td>\n",
       "      <td>45102030</td>\n",
       "      <td>23.389999</td>\n",
       "      <td>16.389999</td>\n",
       "      <td>23.739477</td>\n",
       "      <td>143.839996</td>\n",
       "      <td>143.649994</td>\n",
       "      <td>0.132268</td>\n",
       "      <td>1307186</td>\n",
       "      <td>1395490</td>\n",
       "      <td>-6.327813</td>\n",
       "      <td>NEUTRAL</td>\n",
       "      <td>5.580548e-09</td>\n",
       "      <td>1.000000</td>\n",
       "      <td>1.250599e-09</td>\n",
       "      <td>0</td>\n",
       "    </tr>\n",
       "  </tbody>\n",
       "</table>\n",
       "</div>"
      ],
      "text/plain": [
       "                                   guid     date_t ticker subindustry  \\\n",
       "0  9b2ce942-fe3a-33f1-8d05-42731b3044cf 2024-07-29    TPH        None   \n",
       "1  6b979d74-28cd-33a5-b0b8-7f50b136c299 2024-07-29   ANET    45201020   \n",
       "2  868669ed-4c3b-3ffe-b403-3fc62470cc47 2024-07-29   ALLE    20102010   \n",
       "3  4d013850-1182-3ae5-8404-a66875d88ded 2024-07-29     ON    45301020   \n",
       "4  b6266589-784a-3b21-a62f-c4842ef233f5 2024-07-29   GDDY    45102030   \n",
       "\n",
       "       vix_t  vix_t_7_past  vix_t_7_future     price_t  price_t_7_past  \\\n",
       "0  23.389999     16.389999       23.739477   46.029999       46.119999   \n",
       "1  23.389999     16.389999       23.739477   20.034374       19.950624   \n",
       "2  23.389999     16.389999       23.739477  137.660004      136.770004   \n",
       "3  23.389999     16.389999       23.739477   78.269997       70.169998   \n",
       "4  23.389999     16.389999       23.739477  143.839996      143.649994   \n",
       "\n",
       "   price_change_t_7  volume_t  volume_t_7_past  volume_change_t_7  \\\n",
       "0         -0.195143   1010214          1213797         -16.772409   \n",
       "1          0.419785  45150192         37617648          20.023963   \n",
       "2          0.650727    757731          1089860         -30.474465   \n",
       "3         11.543392  22282731          7764342         186.988015   \n",
       "4          0.132268   1307186          1395490          -6.327813   \n",
       "\n",
       "  sentiment_label_t  sentiment_positive_t  sentiment_neutral_t  \\\n",
       "0          NEGATIVE          6.552353e-05             0.000629   \n",
       "1          NEGATIVE          3.016462e-06             0.000002   \n",
       "2           NEUTRAL          2.495872e-02             0.753420   \n",
       "3           NEUTRAL          8.019854e-05             0.999838   \n",
       "4           NEUTRAL          5.580548e-09             1.000000   \n",
       "\n",
       "   sentiment_negative_t  Target_t_7  \n",
       "0          9.993052e-01           0  \n",
       "1          9.999951e-01           0  \n",
       "2          2.216212e-01           0  \n",
       "3          8.158579e-05           1  \n",
       "4          1.250599e-09           0  "
      ]
     },
     "execution_count": 25,
     "metadata": {},
     "output_type": "execute_result"
    }
   ],
   "source": [
    "df.head()"
   ]
  },
  {
   "cell_type": "code",
   "execution_count": 26,
   "metadata": {},
   "outputs": [],
   "source": [
    "test_df = df\n",
    "test_df[\"volume_change_t_7\"] = df[\"volume_change_t_7\"].fillna(0)\n",
    "categorical_features = [\"ticker\", \"subindustry\"]"
   ]
  },
  {
   "cell_type": "code",
   "execution_count": 32,
   "metadata": {},
   "outputs": [
    {
     "data": {
      "text/plain": [
       "Index(['vix_t', 'vix_t_7_past', 'vix_t_7_future', 'price_t', 'price_t_7_past',\n",
       "       'price_change_t_7', 'volume_t', 'volume_t_7_past', 'volume_change_t_7',\n",
       "       'sentiment_positive_t', 'sentiment_neutral_t', 'sentiment_negative_t'],\n",
       "      dtype='object')"
      ]
     },
     "execution_count": 32,
     "metadata": {},
     "output_type": "execute_result"
    }
   ],
   "source": [
    "encoded_cats = encoder.transform(test_df[categorical_features])  # Use trained encoder\n",
    "encoded_df = pd.DataFrame(encoded_cats, columns=encoder.get_feature_names_out(categorical_features))\n",
    "test_df = test_df.drop(columns=categorical_features)\n",
    "test_df = test_df.drop(columns=[\"guid\", \"sentiment_label_t\"])\n",
    "date_col = test_df[\"date_t\"].reset_index(drop=True)  # Reset index\n",
    "target_col = test_df[\"Target_t_7\"].reset_index(drop=True)  # Reset index\n",
    "test_df_no_date = test_df.drop(columns=[\"date_t\", \"Target_t_7\"]).reset_index(drop=True)\n",
    "test_df_no_date.columns"
   ]
  },
  {
   "cell_type": "code",
   "execution_count": 34,
   "metadata": {},
   "outputs": [
    {
     "data": {
      "text/html": [
       "<div>\n",
       "<style scoped>\n",
       "    .dataframe tbody tr th:only-of-type {\n",
       "        vertical-align: middle;\n",
       "    }\n",
       "\n",
       "    .dataframe tbody tr th {\n",
       "        vertical-align: top;\n",
       "    }\n",
       "\n",
       "    .dataframe thead th {\n",
       "        text-align: right;\n",
       "    }\n",
       "</style>\n",
       "<table border=\"1\" class=\"dataframe\">\n",
       "  <thead>\n",
       "    <tr style=\"text-align: right;\">\n",
       "      <th></th>\n",
       "      <th>date_t</th>\n",
       "      <th>Target_t_7</th>\n",
       "      <th>vix_t</th>\n",
       "      <th>vix_t_7_past</th>\n",
       "      <th>vix_t_7_future</th>\n",
       "      <th>price_t</th>\n",
       "      <th>price_t_7_past</th>\n",
       "      <th>price_change_t_7</th>\n",
       "      <th>volume_t</th>\n",
       "      <th>volume_t_7_past</th>\n",
       "      <th>...</th>\n",
       "      <th>subindustry_60106010</th>\n",
       "      <th>subindustry_60106020</th>\n",
       "      <th>subindustry_60107010</th>\n",
       "      <th>subindustry_60108010</th>\n",
       "      <th>subindustry_60108020</th>\n",
       "      <th>subindustry_60108030</th>\n",
       "      <th>subindustry_60108040</th>\n",
       "      <th>subindustry_60108050</th>\n",
       "      <th>subindustry_60201040</th>\n",
       "      <th>subindustry_None</th>\n",
       "    </tr>\n",
       "  </thead>\n",
       "  <tbody>\n",
       "    <tr>\n",
       "      <th>0</th>\n",
       "      <td>2024-07-29</td>\n",
       "      <td>0</td>\n",
       "      <td>0.753557</td>\n",
       "      <td>-0.441203</td>\n",
       "      <td>0.801831</td>\n",
       "      <td>-0.031332</td>\n",
       "      <td>-0.031321</td>\n",
       "      <td>-0.109811</td>\n",
       "      <td>-0.159862</td>\n",
       "      <td>-0.151242</td>\n",
       "      <td>...</td>\n",
       "      <td>0.0</td>\n",
       "      <td>0.0</td>\n",
       "      <td>0.0</td>\n",
       "      <td>0.0</td>\n",
       "      <td>0.0</td>\n",
       "      <td>0.0</td>\n",
       "      <td>0.0</td>\n",
       "      <td>0.0</td>\n",
       "      <td>0.0</td>\n",
       "      <td>1.0</td>\n",
       "    </tr>\n",
       "    <tr>\n",
       "      <th>1</th>\n",
       "      <td>2024-07-29</td>\n",
       "      <td>0</td>\n",
       "      <td>0.753557</td>\n",
       "      <td>-0.441203</td>\n",
       "      <td>0.801831</td>\n",
       "      <td>-0.033271</td>\n",
       "      <td>-0.033275</td>\n",
       "      <td>0.129340</td>\n",
       "      <td>1.466899</td>\n",
       "      <td>1.031421</td>\n",
       "      <td>...</td>\n",
       "      <td>0.0</td>\n",
       "      <td>0.0</td>\n",
       "      <td>0.0</td>\n",
       "      <td>0.0</td>\n",
       "      <td>0.0</td>\n",
       "      <td>0.0</td>\n",
       "      <td>0.0</td>\n",
       "      <td>0.0</td>\n",
       "      <td>0.0</td>\n",
       "      <td>0.0</td>\n",
       "    </tr>\n",
       "    <tr>\n",
       "      <th>2</th>\n",
       "      <td>2024-07-29</td>\n",
       "      <td>0</td>\n",
       "      <td>0.753557</td>\n",
       "      <td>-0.441203</td>\n",
       "      <td>0.801831</td>\n",
       "      <td>-0.024494</td>\n",
       "      <td>-0.024554</td>\n",
       "      <td>0.219156</td>\n",
       "      <td>-0.169167</td>\n",
       "      <td>-0.155268</td>\n",
       "      <td>...</td>\n",
       "      <td>0.0</td>\n",
       "      <td>0.0</td>\n",
       "      <td>0.0</td>\n",
       "      <td>0.0</td>\n",
       "      <td>0.0</td>\n",
       "      <td>0.0</td>\n",
       "      <td>0.0</td>\n",
       "      <td>0.0</td>\n",
       "      <td>0.0</td>\n",
       "      <td>0.0</td>\n",
       "    </tr>\n",
       "    <tr>\n",
       "      <th>3</th>\n",
       "      <td>2024-07-29</td>\n",
       "      <td>1</td>\n",
       "      <td>0.753557</td>\n",
       "      <td>-0.441203</td>\n",
       "      <td>0.801831</td>\n",
       "      <td>-0.028926</td>\n",
       "      <td>-0.029526</td>\n",
       "      <td>4.455404</td>\n",
       "      <td>0.624128</td>\n",
       "      <td>0.061568</td>\n",
       "      <td>...</td>\n",
       "      <td>0.0</td>\n",
       "      <td>0.0</td>\n",
       "      <td>0.0</td>\n",
       "      <td>0.0</td>\n",
       "      <td>0.0</td>\n",
       "      <td>0.0</td>\n",
       "      <td>0.0</td>\n",
       "      <td>0.0</td>\n",
       "      <td>0.0</td>\n",
       "      <td>0.0</td>\n",
       "    </tr>\n",
       "    <tr>\n",
       "      <th>4</th>\n",
       "      <td>2024-07-29</td>\n",
       "      <td>0</td>\n",
       "      <td>0.753557</td>\n",
       "      <td>-0.441203</td>\n",
       "      <td>0.801831</td>\n",
       "      <td>-0.024033</td>\n",
       "      <td>-0.024040</td>\n",
       "      <td>0.017522</td>\n",
       "      <td>-0.148917</td>\n",
       "      <td>-0.145339</td>\n",
       "      <td>...</td>\n",
       "      <td>0.0</td>\n",
       "      <td>0.0</td>\n",
       "      <td>0.0</td>\n",
       "      <td>0.0</td>\n",
       "      <td>0.0</td>\n",
       "      <td>0.0</td>\n",
       "      <td>0.0</td>\n",
       "      <td>0.0</td>\n",
       "      <td>0.0</td>\n",
       "      <td>0.0</td>\n",
       "    </tr>\n",
       "  </tbody>\n",
       "</table>\n",
       "<p>5 rows × 1545 columns</p>\n",
       "</div>"
      ],
      "text/plain": [
       "      date_t  Target_t_7     vix_t  vix_t_7_past  vix_t_7_future   price_t  \\\n",
       "0 2024-07-29           0  0.753557     -0.441203        0.801831 -0.031332   \n",
       "1 2024-07-29           0  0.753557     -0.441203        0.801831 -0.033271   \n",
       "2 2024-07-29           0  0.753557     -0.441203        0.801831 -0.024494   \n",
       "3 2024-07-29           1  0.753557     -0.441203        0.801831 -0.028926   \n",
       "4 2024-07-29           0  0.753557     -0.441203        0.801831 -0.024033   \n",
       "\n",
       "   price_t_7_past  price_change_t_7  volume_t  volume_t_7_past  ...  \\\n",
       "0       -0.031321         -0.109811 -0.159862        -0.151242  ...   \n",
       "1       -0.033275          0.129340  1.466899         1.031421  ...   \n",
       "2       -0.024554          0.219156 -0.169167        -0.155268  ...   \n",
       "3       -0.029526          4.455404  0.624128         0.061568  ...   \n",
       "4       -0.024040          0.017522 -0.148917        -0.145339  ...   \n",
       "\n",
       "   subindustry_60106010  subindustry_60106020  subindustry_60107010  \\\n",
       "0                   0.0                   0.0                   0.0   \n",
       "1                   0.0                   0.0                   0.0   \n",
       "2                   0.0                   0.0                   0.0   \n",
       "3                   0.0                   0.0                   0.0   \n",
       "4                   0.0                   0.0                   0.0   \n",
       "\n",
       "   subindustry_60108010  subindustry_60108020  subindustry_60108030  \\\n",
       "0                   0.0                   0.0                   0.0   \n",
       "1                   0.0                   0.0                   0.0   \n",
       "2                   0.0                   0.0                   0.0   \n",
       "3                   0.0                   0.0                   0.0   \n",
       "4                   0.0                   0.0                   0.0   \n",
       "\n",
       "   subindustry_60108040  subindustry_60108050  subindustry_60201040  \\\n",
       "0                   0.0                   0.0                   0.0   \n",
       "1                   0.0                   0.0                   0.0   \n",
       "2                   0.0                   0.0                   0.0   \n",
       "3                   0.0                   0.0                   0.0   \n",
       "4                   0.0                   0.0                   0.0   \n",
       "\n",
       "   subindustry_None  \n",
       "0               1.0  \n",
       "1               0.0  \n",
       "2               0.0  \n",
       "3               0.0  \n",
       "4               0.0  \n",
       "\n",
       "[5 rows x 1545 columns]"
      ]
     },
     "execution_count": 34,
     "metadata": {},
     "output_type": "execute_result"
    }
   ],
   "source": [
    "scaled_features = scaler.transform(test_df_no_date)  # Use trained scaler\n",
    "scaled_df = pd.DataFrame(scaled_features, columns=test_df_no_date.columns)\n",
    "\n",
    "date_col = test_df[\"date_t\"].reset_index(drop=True)\n",
    "final_test_df = pd.concat([date_col,target_col, scaled_df, encoded_df], axis=1)\n",
    "final_test_df.head()"
   ]
  },
  {
   "cell_type": "code",
   "execution_count": 37,
   "metadata": {},
   "outputs": [],
   "source": [
    "# fill nans for 0 for now. don't feel liek fixing it \n",
    "final_test_df = final_test_df.fillna(0)"
   ]
  },
  {
   "cell_type": "code",
   "execution_count": null,
   "metadata": {},
   "outputs": [],
   "source": [
    "X_test_new = final_test_df.drop(columns=[\"Target_t_7\", \"date_t\"])\n",
    "y_test_new = final_test_df[\"Target_t_7\"]\n",
    "\n",
    "y_pred_new = model.predict(X_test_new)"
   ]
  },
  {
   "cell_type": "code",
   "execution_count": 43,
   "metadata": {},
   "outputs": [
    {
     "name": "stdout",
     "output_type": "stream",
     "text": [
      "              precision    recall  f1-score   support\n",
      "\n",
      "          -1       0.92      1.00      0.96      3705\n",
      "           0       1.00      0.99      0.99     36359\n",
      "           1       0.94      1.00      0.97      3552\n",
      "\n",
      "    accuracy                           0.99     43616\n",
      "   macro avg       0.95      0.99      0.97     43616\n",
      "weighted avg       0.99      0.99      0.99     43616\n",
      "\n"
     ]
    }
   ],
   "source": [
    "print(classification_report(y_test_new, y_pred_new))"
   ]
  },
  {
   "cell_type": "code",
   "execution_count": 45,
   "metadata": {},
   "outputs": [
    {
     "name": "stdout",
     "output_type": "stream",
     "text": [
      "[[ 3705     0     0]\n",
      " [  301 35815   243]\n",
      " [    0     1  3551]]\n"
     ]
    }
   ],
   "source": [
    "print(confusion_matrix(y_test_new, y_pred_new))"
   ]
  },
  {
   "cell_type": "code",
   "execution_count": 44,
   "metadata": {},
   "outputs": [
    {
     "name": "stdout",
     "output_type": "stream",
     "text": [
      "              precision    recall  f1-score   support\n",
      "\n",
      "           0       0.98      0.99      0.99      3705\n",
      "           1       1.00      1.00      1.00     36359\n",
      "           2       0.98      1.00      0.99      3552\n",
      "\n",
      "    accuracy                           1.00     43616\n",
      "   macro avg       0.99      0.99      0.99     43616\n",
      "weighted avg       1.00      1.00      1.00     43616\n",
      "\n"
     ]
    }
   ],
   "source": [
    "# now for xgboost\n",
    "y_test_new_fixed = y_test_new + 1\n",
    "y_pred_xgb_new = xgb_model.predict(X_test_new)\n",
    "\n",
    "print(classification_report(y_test_new_fixed, y_pred_xgb_new))"
   ]
  },
  {
   "cell_type": "code",
   "execution_count": 46,
   "metadata": {},
   "outputs": [
    {
     "name": "stdout",
     "output_type": "stream",
     "text": [
      "[[ 3677    28     0]\n",
      " [   61 36232    66]\n",
      " [    0    16  3536]]\n"
     ]
    }
   ],
   "source": [
    "print(confusion_matrix(y_test_new_fixed, y_pred_xgb_new))"
   ]
  }
 ],
 "metadata": {
  "kernelspec": {
   "display_name": "cs7643-a2",
   "language": "python",
   "name": "python3"
  },
  "language_info": {
   "codemirror_mode": {
    "name": "ipython",
    "version": 3
   },
   "file_extension": ".py",
   "mimetype": "text/x-python",
   "name": "python",
   "nbconvert_exporter": "python",
   "pygments_lexer": "ipython3",
   "version": "3.12.0"
  }
 },
 "nbformat": 4,
 "nbformat_minor": 2
}
