{
 "cells": [
  {
   "cell_type": "code",
   "execution_count": 2,
   "metadata": {},
   "outputs": [
    {
     "name": "stderr",
     "output_type": "stream",
     "text": [
      "C:\\Users\\jovan\\AppData\\Roaming\\Python\\Python312\\site-packages\\tqdm\\auto.py:21: TqdmWarning: IProgress not found. Please update jupyter and ipywidgets. See https://ipywidgets.readthedocs.io/en/stable/user_install.html\n",
      "  from .autonotebook import tqdm as notebook_tqdm\n"
     ]
    }
   ],
   "source": [
    "import duckdb\n",
    "import pandas as pd \n",
    "import spacy\n",
    "from nltk.corpus import stopwords\n",
    "import string\n",
    "from transformers import AutoTokenizer, AutoModelForSequenceClassification, pipeline"
   ]
  },
  {
   "cell_type": "code",
   "execution_count": 3,
   "metadata": {},
   "outputs": [],
   "source": [
    "model_name = \"yiyanghkust/finbert-tone\"\n",
    "tokenizer = AutoTokenizer.from_pretrained(model_name)\n",
    "model = AutoModelForSequenceClassification.from_pretrained(model_name)"
   ]
  },
  {
   "cell_type": "code",
   "execution_count": null,
   "metadata": {},
   "outputs": [],
   "source": [
    "import os \n",
    "from dotenv import load_dotenv\n",
    "from pathlib import Path\n",
    "load_dotenv()\n",
    "DB_PATH = Path(os.getenv(\"DB_PATH\"))\n",
    "DB_FILE = os.getenv(\"DB_FILE\")\n",
    "duckdb_path = DB_PATH / DB_FILE"
   ]
  },
  {
   "cell_type": "code",
   "execution_count": null,
   "metadata": {},
   "outputs": [],
   "source": [
    "con = duckdb.connect(duckdb_path)"
   ]
  },
  {
   "cell_type": "code",
   "execution_count": 6,
   "metadata": {},
   "outputs": [
    {
     "data": {
      "text/html": [
       "<div>\n",
       "<style scoped>\n",
       "    .dataframe tbody tr th:only-of-type {\n",
       "        vertical-align: middle;\n",
       "    }\n",
       "\n",
       "    .dataframe tbody tr th {\n",
       "        vertical-align: top;\n",
       "    }\n",
       "\n",
       "    .dataframe thead th {\n",
       "        text-align: right;\n",
       "    }\n",
       "</style>\n",
       "<table border=\"1\" class=\"dataframe\">\n",
       "  <thead>\n",
       "    <tr style=\"text-align: right;\">\n",
       "      <th></th>\n",
       "      <th>guid</th>\n",
       "      <th>description</th>\n",
       "      <th>article_title</th>\n",
       "      <th>ticker</th>\n",
       "    </tr>\n",
       "  </thead>\n",
       "  <tbody>\n",
       "    <tr>\n",
       "      <th>0</th>\n",
       "      <td>76ceb11d-33eb-3af8-82f1-74e4068911f5</td>\n",
       "      <td>Agilent (A) adds a water immersion and confoca...</td>\n",
       "      <td>Agilent (A) Enhances BioTek Cytation C10 With ...</td>\n",
       "      <td>A</td>\n",
       "    </tr>\n",
       "    <tr>\n",
       "      <th>1</th>\n",
       "      <td>56dc485e-c740-3fcc-ab3a-4e0d707a8f4d</td>\n",
       "      <td>SANTA CLARA, Calif., December 07, 2023--Agilen...</td>\n",
       "      <td>Agilent Resolve Raman Receives Multiple Recogn...</td>\n",
       "      <td>A</td>\n",
       "    </tr>\n",
       "    <tr>\n",
       "      <th>2</th>\n",
       "      <td>367bed80-8d07-3dce-8092-fd53d70578fe</td>\n",
       "      <td>Artisan Partners, an investment management com...</td>\n",
       "      <td>Hereâs Why Artisan Partners Mid Cap Fund Har...</td>\n",
       "      <td>A</td>\n",
       "    </tr>\n",
       "    <tr>\n",
       "      <th>3</th>\n",
       "      <td>7bf92827-a505-3d56-98a3-4c9d60794e64</td>\n",
       "      <td>Generally speaking the aim of active stock pic...</td>\n",
       "      <td>Agilent Technologies' (NYSE:A) 14% CAGR outpac...</td>\n",
       "      <td>A</td>\n",
       "    </tr>\n",
       "    <tr>\n",
       "      <th>4</th>\n",
       "      <td>8e5bdc52-73a9-30b1-ae97-493cd82da360</td>\n",
       "      <td>SANTA CLARA, Calif., December 04, 2023--Agilen...</td>\n",
       "      <td>Agilent BioTek Cytation C10 Confocal Imaging R...</td>\n",
       "      <td>A</td>\n",
       "    </tr>\n",
       "  </tbody>\n",
       "</table>\n",
       "</div>"
      ],
      "text/plain": [
       "                                   guid  \\\n",
       "0  76ceb11d-33eb-3af8-82f1-74e4068911f5   \n",
       "1  56dc485e-c740-3fcc-ab3a-4e0d707a8f4d   \n",
       "2  367bed80-8d07-3dce-8092-fd53d70578fe   \n",
       "3  7bf92827-a505-3d56-98a3-4c9d60794e64   \n",
       "4  8e5bdc52-73a9-30b1-ae97-493cd82da360   \n",
       "\n",
       "                                         description  \\\n",
       "0  Agilent (A) adds a water immersion and confoca...   \n",
       "1  SANTA CLARA, Calif., December 07, 2023--Agilen...   \n",
       "2  Artisan Partners, an investment management com...   \n",
       "3  Generally speaking the aim of active stock pic...   \n",
       "4  SANTA CLARA, Calif., December 04, 2023--Agilen...   \n",
       "\n",
       "                                       article_title ticker  \n",
       "0  Agilent (A) Enhances BioTek Cytation C10 With ...      A  \n",
       "1  Agilent Resolve Raman Receives Multiple Recogn...      A  \n",
       "2  Hereâs Why Artisan Partners Mid Cap Fund Har...      A  \n",
       "3  Agilent Technologies' (NYSE:A) 14% CAGR outpac...      A  \n",
       "4  Agilent BioTek Cytation C10 Confocal Imaging R...      A  "
      ]
     },
     "execution_count": 6,
     "metadata": {},
     "output_type": "execute_result"
    }
   ],
   "source": [
    "df = con.execute(\"SELECT guid, description, article_title, ticker FROM headlines.articles\").fetchdf()\n",
    "df.head()"
   ]
  },
  {
   "cell_type": "code",
   "execution_count": 8,
   "metadata": {},
   "outputs": [
    {
     "data": {
      "text/html": [
       "<div>\n",
       "<style scoped>\n",
       "    .dataframe tbody tr th:only-of-type {\n",
       "        vertical-align: middle;\n",
       "    }\n",
       "\n",
       "    .dataframe tbody tr th {\n",
       "        vertical-align: top;\n",
       "    }\n",
       "\n",
       "    .dataframe thead th {\n",
       "        text-align: right;\n",
       "    }\n",
       "</style>\n",
       "<table border=\"1\" class=\"dataframe\">\n",
       "  <thead>\n",
       "    <tr style=\"text-align: right;\">\n",
       "      <th></th>\n",
       "      <th>guid</th>\n",
       "      <th>description</th>\n",
       "      <th>article_title</th>\n",
       "      <th>ticker</th>\n",
       "      <th>combined_text</th>\n",
       "    </tr>\n",
       "  </thead>\n",
       "  <tbody>\n",
       "    <tr>\n",
       "      <th>0</th>\n",
       "      <td>76ceb11d-33eb-3af8-82f1-74e4068911f5</td>\n",
       "      <td>Agilent (A) adds a water immersion and confoca...</td>\n",
       "      <td>Agilent (A) Enhances BioTek Cytation C10 With ...</td>\n",
       "      <td>A</td>\n",
       "      <td>Agilent (A) Enhances BioTek Cytation C10 With ...</td>\n",
       "    </tr>\n",
       "    <tr>\n",
       "      <th>1</th>\n",
       "      <td>56dc485e-c740-3fcc-ab3a-4e0d707a8f4d</td>\n",
       "      <td>SANTA CLARA, Calif., December 07, 2023--Agilen...</td>\n",
       "      <td>Agilent Resolve Raman Receives Multiple Recogn...</td>\n",
       "      <td>A</td>\n",
       "      <td>Agilent Resolve Raman Receives Multiple Recogn...</td>\n",
       "    </tr>\n",
       "    <tr>\n",
       "      <th>2</th>\n",
       "      <td>367bed80-8d07-3dce-8092-fd53d70578fe</td>\n",
       "      <td>Artisan Partners, an investment management com...</td>\n",
       "      <td>Hereâs Why Artisan Partners Mid Cap Fund Har...</td>\n",
       "      <td>A</td>\n",
       "      <td>Hereâs Why Artisan Partners Mid Cap Fund Har...</td>\n",
       "    </tr>\n",
       "    <tr>\n",
       "      <th>3</th>\n",
       "      <td>7bf92827-a505-3d56-98a3-4c9d60794e64</td>\n",
       "      <td>Generally speaking the aim of active stock pic...</td>\n",
       "      <td>Agilent Technologies' (NYSE:A) 14% CAGR outpac...</td>\n",
       "      <td>A</td>\n",
       "      <td>Agilent Technologies' (NYSE:A) 14% CAGR outpac...</td>\n",
       "    </tr>\n",
       "    <tr>\n",
       "      <th>4</th>\n",
       "      <td>8e5bdc52-73a9-30b1-ae97-493cd82da360</td>\n",
       "      <td>SANTA CLARA, Calif., December 04, 2023--Agilen...</td>\n",
       "      <td>Agilent BioTek Cytation C10 Confocal Imaging R...</td>\n",
       "      <td>A</td>\n",
       "      <td>Agilent BioTek Cytation C10 Confocal Imaging R...</td>\n",
       "    </tr>\n",
       "  </tbody>\n",
       "</table>\n",
       "</div>"
      ],
      "text/plain": [
       "                                   guid  \\\n",
       "0  76ceb11d-33eb-3af8-82f1-74e4068911f5   \n",
       "1  56dc485e-c740-3fcc-ab3a-4e0d707a8f4d   \n",
       "2  367bed80-8d07-3dce-8092-fd53d70578fe   \n",
       "3  7bf92827-a505-3d56-98a3-4c9d60794e64   \n",
       "4  8e5bdc52-73a9-30b1-ae97-493cd82da360   \n",
       "\n",
       "                                         description  \\\n",
       "0  Agilent (A) adds a water immersion and confoca...   \n",
       "1  SANTA CLARA, Calif., December 07, 2023--Agilen...   \n",
       "2  Artisan Partners, an investment management com...   \n",
       "3  Generally speaking the aim of active stock pic...   \n",
       "4  SANTA CLARA, Calif., December 04, 2023--Agilen...   \n",
       "\n",
       "                                       article_title ticker  \\\n",
       "0  Agilent (A) Enhances BioTek Cytation C10 With ...      A   \n",
       "1  Agilent Resolve Raman Receives Multiple Recogn...      A   \n",
       "2  Hereâs Why Artisan Partners Mid Cap Fund Har...      A   \n",
       "3  Agilent Technologies' (NYSE:A) 14% CAGR outpac...      A   \n",
       "4  Agilent BioTek Cytation C10 Confocal Imaging R...      A   \n",
       "\n",
       "                                       combined_text  \n",
       "0  Agilent (A) Enhances BioTek Cytation C10 With ...  \n",
       "1  Agilent Resolve Raman Receives Multiple Recogn...  \n",
       "2  Hereâs Why Artisan Partners Mid Cap Fund Har...  \n",
       "3  Agilent Technologies' (NYSE:A) 14% CAGR outpac...  \n",
       "4  Agilent BioTek Cytation C10 Confocal Imaging R...  "
      ]
     },
     "execution_count": 8,
     "metadata": {},
     "output_type": "execute_result"
    }
   ],
   "source": [
    "df['combined_text'] = df['article_title'].fillna('') + \" \" + df['description'].fillna('')\n",
    "df.head()"
   ]
  },
  {
   "cell_type": "code",
   "execution_count": 9,
   "metadata": {},
   "outputs": [],
   "source": [
    "finbert_pipeline = pipeline(\"sentiment-analysis\", model=model, tokenizer=tokenizer)\n"
   ]
  },
  {
   "cell_type": "code",
   "execution_count": 10,
   "metadata": {},
   "outputs": [],
   "source": [
    "def classify_sentiment(text):\n",
    "    if not isinstance(text, str) or text.strip() == \"\":\n",
    "        return {\"label\": \"NEUTRAL\", \"score\": 0.0}  # Default for empty or invalid text\n",
    "    \n",
    "    result = finbert_pipeline(text[:512])  # Truncate text to 512 tokens\n",
    "    return result[0]  # Return the first result\n"
   ]
  },
  {
   "cell_type": "code",
   "execution_count": null,
   "metadata": {},
   "outputs": [],
   "source": [
    "# Apply FinBERT to the title\n",
    "df['finbert_title'] = df['article_title'].apply(lambda x: classify_sentiment(x))\n",
    "df['finbert_title_label'] = df['finbert_title'].apply(lambda x: x['label'])\n",
    "df['finbert_title_score'] = df['finbert_title'].apply(lambda x: x['score'])\n",
    "\n",
    "# Apply FinBERT to the description\n",
    "df['finbert_description'] = df['description'].apply(lambda x: classify_sentiment(x))\n",
    "df['finbert_description_label'] = df['finbert_description'].apply(lambda x: x['label'])\n",
    "df['finbert_description_score'] = df['finbert_description'].apply(lambda x: x['score'])\n",
    "\n",
    "# Apply FinBERT to the combined title and description\n",
    "df['finbert_combined'] = df['combined_text'].apply(lambda x: classify_sentiment(x))\n",
    "df['finbert_combined_label'] = df['finbert_combined'].apply(lambda x: x['label'])\n",
    "df['finbert_combined_score'] = df['finbert_combined'].apply(lambda x: x['score'])\n",
    "\n",
    "# Save the results back to a CSV file\n",
    "df.to_csv(\"articles_with_all_finbert_scores.csv\", index=False)\n",
    "\n",
    "# Display a sample of the DataFrame to verify\n",
    "print(df[['guid', 'article_title', 'description', \n",
    "          'finbert_title_label', 'finbert_title_score',\n",
    "          'finbert_description_label', 'finbert_description_score',\n",
    "          'finbert_combined_label', 'finbert_combined_score']].head())"
   ]
  },
  {
   "cell_type": "code",
   "execution_count": null,
   "metadata": {},
   "outputs": [],
   "source": [
    "# df.tail()\n",
    "# check if finbert_title columns is null \n",
    "# df.to_csv(\"articles_with_all_finbert_scores.csv\", index=False)"
   ]
  }
 ],
 "metadata": {
  "kernelspec": {
   "display_name": "Python 3",
   "language": "python",
   "name": "python3"
  },
  "language_info": {
   "codemirror_mode": {
    "name": "ipython",
    "version": 3
   },
   "file_extension": ".py",
   "mimetype": "text/x-python",
   "name": "python",
   "nbconvert_exporter": "python",
   "pygments_lexer": "ipython3",
   "version": "3.12.6"
  }
 },
 "nbformat": 4,
 "nbformat_minor": 2
}
