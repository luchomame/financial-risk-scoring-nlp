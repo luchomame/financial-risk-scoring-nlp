{
 "cells": [
  {
   "cell_type": "code",
   "execution_count": 1,
   "metadata": {},
   "outputs": [],
   "source": [
    "import duckdb\n",
    "import pandas as pd \n",
    "import spacy\n",
    "from nltk.corpus import stopwords\n",
    "import string\n",
    "from transformers import AutoTokenizer, AutoModelForSequenceClassification, pipeline"
   ]
  },
  {
   "cell_type": "code",
   "execution_count": 2,
   "metadata": {},
   "outputs": [
    {
     "data": {
      "application/vnd.jupyter.widget-view+json": {
       "model_id": "c83cbfa933db43918a21ba1adc103403",
       "version_major": 2,
       "version_minor": 0
      },
      "text/plain": [
       "model.safetensors:   0%|          | 0.00/439M [00:00<?, ?B/s]"
      ]
     },
     "metadata": {},
     "output_type": "display_data"
    }
   ],
   "source": [
    "model_name = \"yiyanghkust/finbert-tone\"\n",
    "tokenizer = AutoTokenizer.from_pretrained(model_name)\n",
    "model = AutoModelForSequenceClassification.from_pretrained(model_name)"
   ]
  },
  {
   "cell_type": "code",
   "execution_count": 3,
   "metadata": {},
   "outputs": [],
   "source": [
    "con = duckdb.connect(\"financial_news.db\")"
   ]
  },
  {
   "cell_type": "code",
   "execution_count": 4,
   "metadata": {},
   "outputs": [
    {
     "data": {
      "application/vnd.jupyter.widget-view+json": {
       "model_id": "e51e72a1dcd940599ccb3ff1d580655b",
       "version_major": 2,
       "version_minor": 0
      },
      "text/plain": [
       "FloatProgress(value=0.0, layout=Layout(width='auto'), style=ProgressStyle(bar_color='black'))"
      ]
     },
     "metadata": {},
     "output_type": "display_data"
    },
    {
     "data": {
      "text/html": [
       "<div>\n",
       "<style scoped>\n",
       "    .dataframe tbody tr th:only-of-type {\n",
       "        vertical-align: middle;\n",
       "    }\n",
       "\n",
       "    .dataframe tbody tr th {\n",
       "        vertical-align: top;\n",
       "    }\n",
       "\n",
       "    .dataframe thead th {\n",
       "        text-align: right;\n",
       "    }\n",
       "</style>\n",
       "<table border=\"1\" class=\"dataframe\">\n",
       "  <thead>\n",
       "    <tr style=\"text-align: right;\">\n",
       "      <th></th>\n",
       "      <th>cik</th>\n",
       "      <th>filing_ts</th>\n",
       "      <th>item_filing</th>\n",
       "      <th>type</th>\n",
       "      <th>item_description</th>\n",
       "    </tr>\n",
       "  </thead>\n",
       "  <tbody>\n",
       "    <tr>\n",
       "      <th>0</th>\n",
       "      <td>66740</td>\n",
       "      <td>2022-02-09 20:13:29</td>\n",
       "      <td>7</td>\n",
       "      <td>10-K</td>\n",
       "      <td>Item 7. Managements Discussion and Analysis o...</td>\n",
       "    </tr>\n",
       "    <tr>\n",
       "      <th>1</th>\n",
       "      <td>66740</td>\n",
       "      <td>2021-02-04 18:53:11</td>\n",
       "      <td>7</td>\n",
       "      <td>10-K</td>\n",
       "      <td>Item 7. Managements Discussion and Analysis o...</td>\n",
       "    </tr>\n",
       "    <tr>\n",
       "      <th>2</th>\n",
       "      <td>66740</td>\n",
       "      <td>2020-02-06 21:16:31</td>\n",
       "      <td>7</td>\n",
       "      <td>10-K</td>\n",
       "      <td>Item 7. Managements Discussion and Analysis o...</td>\n",
       "    </tr>\n",
       "    <tr>\n",
       "      <th>3</th>\n",
       "      <td>66740</td>\n",
       "      <td>2019-02-07 22:15:37</td>\n",
       "      <td>7</td>\n",
       "      <td>10-K</td>\n",
       "      <td>Item 7. Managements Discussion and Analysis o...</td>\n",
       "    </tr>\n",
       "    <tr>\n",
       "      <th>4</th>\n",
       "      <td>66740</td>\n",
       "      <td>2018-02-08 22:14:52</td>\n",
       "      <td>7</td>\n",
       "      <td>10-K</td>\n",
       "      <td>Item 7. Managements Discussion and Analysis o...</td>\n",
       "    </tr>\n",
       "  </tbody>\n",
       "</table>\n",
       "</div>"
      ],
      "text/plain": [
       "     cik           filing_ts item_filing  type  \\\n",
       "0  66740 2022-02-09 20:13:29           7  10-K   \n",
       "1  66740 2021-02-04 18:53:11           7  10-K   \n",
       "2  66740 2020-02-06 21:16:31           7  10-K   \n",
       "3  66740 2019-02-07 22:15:37           7  10-K   \n",
       "4  66740 2018-02-08 22:14:52           7  10-K   \n",
       "\n",
       "                                    item_description  \n",
       "0   Item 7. Managements Discussion and Analysis o...  \n",
       "1   Item 7. Managements Discussion and Analysis o...  \n",
       "2   Item 7. Managements Discussion and Analysis o...  \n",
       "3   Item 7. Managements Discussion and Analysis o...  \n",
       "4   Item 7. Managements Discussion and Analysis o...  "
      ]
     },
     "execution_count": 4,
     "metadata": {},
     "output_type": "execute_result"
    }
   ],
   "source": [
    "df = con.execute(\"SELECT cik, filing_ts, item_filing, type, item_description FROM sp500.sec_item_filings\").fetchdf()\n",
    "df.head()"
   ]
  },
  {
   "cell_type": "code",
   "execution_count": 8,
   "metadata": {},
   "outputs": [],
   "source": [
    "con.close()"
   ]
  },
  {
   "cell_type": "code",
   "execution_count": 8,
   "metadata": {},
   "outputs": [
    {
     "data": {
      "text/html": [
       "<div>\n",
       "<style scoped>\n",
       "    .dataframe tbody tr th:only-of-type {\n",
       "        vertical-align: middle;\n",
       "    }\n",
       "\n",
       "    .dataframe tbody tr th {\n",
       "        vertical-align: top;\n",
       "    }\n",
       "\n",
       "    .dataframe thead th {\n",
       "        text-align: right;\n",
       "    }\n",
       "</style>\n",
       "<table border=\"1\" class=\"dataframe\">\n",
       "  <thead>\n",
       "    <tr style=\"text-align: right;\">\n",
       "      <th></th>\n",
       "      <th>guid</th>\n",
       "      <th>description</th>\n",
       "      <th>article_title</th>\n",
       "      <th>ticker</th>\n",
       "      <th>combined_text</th>\n",
       "    </tr>\n",
       "  </thead>\n",
       "  <tbody>\n",
       "    <tr>\n",
       "      <th>0</th>\n",
       "      <td>76ceb11d-33eb-3af8-82f1-74e4068911f5</td>\n",
       "      <td>Agilent (A) adds a water immersion and confoca...</td>\n",
       "      <td>Agilent (A) Enhances BioTek Cytation C10 With ...</td>\n",
       "      <td>A</td>\n",
       "      <td>Agilent (A) Enhances BioTek Cytation C10 With ...</td>\n",
       "    </tr>\n",
       "    <tr>\n",
       "      <th>1</th>\n",
       "      <td>56dc485e-c740-3fcc-ab3a-4e0d707a8f4d</td>\n",
       "      <td>SANTA CLARA, Calif., December 07, 2023--Agilen...</td>\n",
       "      <td>Agilent Resolve Raman Receives Multiple Recogn...</td>\n",
       "      <td>A</td>\n",
       "      <td>Agilent Resolve Raman Receives Multiple Recogn...</td>\n",
       "    </tr>\n",
       "    <tr>\n",
       "      <th>2</th>\n",
       "      <td>367bed80-8d07-3dce-8092-fd53d70578fe</td>\n",
       "      <td>Artisan Partners, an investment management com...</td>\n",
       "      <td>Hereâs Why Artisan Partners Mid Cap Fund Har...</td>\n",
       "      <td>A</td>\n",
       "      <td>Hereâs Why Artisan Partners Mid Cap Fund Har...</td>\n",
       "    </tr>\n",
       "    <tr>\n",
       "      <th>3</th>\n",
       "      <td>7bf92827-a505-3d56-98a3-4c9d60794e64</td>\n",
       "      <td>Generally speaking the aim of active stock pic...</td>\n",
       "      <td>Agilent Technologies' (NYSE:A) 14% CAGR outpac...</td>\n",
       "      <td>A</td>\n",
       "      <td>Agilent Technologies' (NYSE:A) 14% CAGR outpac...</td>\n",
       "    </tr>\n",
       "    <tr>\n",
       "      <th>4</th>\n",
       "      <td>8e5bdc52-73a9-30b1-ae97-493cd82da360</td>\n",
       "      <td>SANTA CLARA, Calif., December 04, 2023--Agilen...</td>\n",
       "      <td>Agilent BioTek Cytation C10 Confocal Imaging R...</td>\n",
       "      <td>A</td>\n",
       "      <td>Agilent BioTek Cytation C10 Confocal Imaging R...</td>\n",
       "    </tr>\n",
       "  </tbody>\n",
       "</table>\n",
       "</div>"
      ],
      "text/plain": [
       "                                   guid  \\\n",
       "0  76ceb11d-33eb-3af8-82f1-74e4068911f5   \n",
       "1  56dc485e-c740-3fcc-ab3a-4e0d707a8f4d   \n",
       "2  367bed80-8d07-3dce-8092-fd53d70578fe   \n",
       "3  7bf92827-a505-3d56-98a3-4c9d60794e64   \n",
       "4  8e5bdc52-73a9-30b1-ae97-493cd82da360   \n",
       "\n",
       "                                         description  \\\n",
       "0  Agilent (A) adds a water immersion and confoca...   \n",
       "1  SANTA CLARA, Calif., December 07, 2023--Agilen...   \n",
       "2  Artisan Partners, an investment management com...   \n",
       "3  Generally speaking the aim of active stock pic...   \n",
       "4  SANTA CLARA, Calif., December 04, 2023--Agilen...   \n",
       "\n",
       "                                       article_title ticker  \\\n",
       "0  Agilent (A) Enhances BioTek Cytation C10 With ...      A   \n",
       "1  Agilent Resolve Raman Receives Multiple Recogn...      A   \n",
       "2  Hereâs Why Artisan Partners Mid Cap Fund Har...      A   \n",
       "3  Agilent Technologies' (NYSE:A) 14% CAGR outpac...      A   \n",
       "4  Agilent BioTek Cytation C10 Confocal Imaging R...      A   \n",
       "\n",
       "                                       combined_text  \n",
       "0  Agilent (A) Enhances BioTek Cytation C10 With ...  \n",
       "1  Agilent Resolve Raman Receives Multiple Recogn...  \n",
       "2  Hereâs Why Artisan Partners Mid Cap Fund Har...  \n",
       "3  Agilent Technologies' (NYSE:A) 14% CAGR outpac...  \n",
       "4  Agilent BioTek Cytation C10 Confocal Imaging R...  "
      ]
     },
     "execution_count": 8,
     "metadata": {},
     "output_type": "execute_result"
    }
   ],
   "source": [
    "df['combined_text'] = df['article_title'].fillna('') + \" \" + df['description'].fillna('')\n",
    "df.head()"
   ]
  },
  {
   "cell_type": "code",
   "execution_count": 5,
   "metadata": {},
   "outputs": [],
   "source": [
    "finbert_pipeline = pipeline(\"sentiment-analysis\", model=model, tokenizer=tokenizer)"
   ]
  },
  {
   "cell_type": "code",
   "execution_count": 6,
   "metadata": {},
   "outputs": [],
   "source": [
    "def classify_sentiment(text):\n",
    "    if not isinstance(text, str) or text.strip() == \"\":\n",
    "        return {\"label\": \"NEUTRAL\", \"score\": 0.0}  # Default for empty or invalid text\n",
    "    \n",
    "    result = finbert_pipeline(text[:512])  # Truncate text to 512 tokens\n",
    "    return result[0]  # Return the first result\n"
   ]
  },
  {
   "cell_type": "code",
   "execution_count": 9,
   "metadata": {},
   "outputs": [
    {
     "data": {
      "text/html": [
       "<div>\n",
       "<style scoped>\n",
       "    .dataframe tbody tr th:only-of-type {\n",
       "        vertical-align: middle;\n",
       "    }\n",
       "\n",
       "    .dataframe tbody tr th {\n",
       "        vertical-align: top;\n",
       "    }\n",
       "\n",
       "    .dataframe thead th {\n",
       "        text-align: right;\n",
       "    }\n",
       "</style>\n",
       "<table border=\"1\" class=\"dataframe\">\n",
       "  <thead>\n",
       "    <tr style=\"text-align: right;\">\n",
       "      <th></th>\n",
       "      <th>cik</th>\n",
       "      <th>filing_ts</th>\n",
       "      <th>item_filing</th>\n",
       "      <th>type</th>\n",
       "      <th>item_description</th>\n",
       "      <th>finbert_description</th>\n",
       "      <th>finbert_description_label</th>\n",
       "      <th>finbert_description_score</th>\n",
       "    </tr>\n",
       "  </thead>\n",
       "  <tbody>\n",
       "    <tr>\n",
       "      <th>0</th>\n",
       "      <td>66740</td>\n",
       "      <td>2022-02-09 20:13:29</td>\n",
       "      <td>7</td>\n",
       "      <td>10-K</td>\n",
       "      <td>Item 7. Managements Discussion and Analysis o...</td>\n",
       "      <td>{'label': 'Neutral', 'score': 0.9999117851257324}</td>\n",
       "      <td>Neutral</td>\n",
       "      <td>0.999912</td>\n",
       "    </tr>\n",
       "    <tr>\n",
       "      <th>1</th>\n",
       "      <td>66740</td>\n",
       "      <td>2021-02-04 18:53:11</td>\n",
       "      <td>7</td>\n",
       "      <td>10-K</td>\n",
       "      <td>Item 7. Managements Discussion and Analysis o...</td>\n",
       "      <td>{'label': 'Neutral', 'score': 0.9999666213989258}</td>\n",
       "      <td>Neutral</td>\n",
       "      <td>0.999967</td>\n",
       "    </tr>\n",
       "    <tr>\n",
       "      <th>2</th>\n",
       "      <td>66740</td>\n",
       "      <td>2020-02-06 21:16:31</td>\n",
       "      <td>7</td>\n",
       "      <td>10-K</td>\n",
       "      <td>Item 7. Managements Discussion and Analysis o...</td>\n",
       "      <td>{'label': 'Neutral', 'score': 0.9999666213989258}</td>\n",
       "      <td>Neutral</td>\n",
       "      <td>0.999967</td>\n",
       "    </tr>\n",
       "    <tr>\n",
       "      <th>3</th>\n",
       "      <td>66740</td>\n",
       "      <td>2019-02-07 22:15:37</td>\n",
       "      <td>7</td>\n",
       "      <td>10-K</td>\n",
       "      <td>Item 7. Managements Discussion and Analysis o...</td>\n",
       "      <td>{'label': 'Neutral', 'score': 0.999957799911499}</td>\n",
       "      <td>Neutral</td>\n",
       "      <td>0.999958</td>\n",
       "    </tr>\n",
       "    <tr>\n",
       "      <th>4</th>\n",
       "      <td>66740</td>\n",
       "      <td>2018-02-08 22:14:52</td>\n",
       "      <td>7</td>\n",
       "      <td>10-K</td>\n",
       "      <td>Item 7. Managements Discussion and Analysis o...</td>\n",
       "      <td>{'label': 'Neutral', 'score': 0.999957799911499}</td>\n",
       "      <td>Neutral</td>\n",
       "      <td>0.999958</td>\n",
       "    </tr>\n",
       "  </tbody>\n",
       "</table>\n",
       "</div>"
      ],
      "text/plain": [
       "     cik           filing_ts item_filing  type  \\\n",
       "0  66740 2022-02-09 20:13:29           7  10-K   \n",
       "1  66740 2021-02-04 18:53:11           7  10-K   \n",
       "2  66740 2020-02-06 21:16:31           7  10-K   \n",
       "3  66740 2019-02-07 22:15:37           7  10-K   \n",
       "4  66740 2018-02-08 22:14:52           7  10-K   \n",
       "\n",
       "                                    item_description  \\\n",
       "0   Item 7. Managements Discussion and Analysis o...   \n",
       "1   Item 7. Managements Discussion and Analysis o...   \n",
       "2   Item 7. Managements Discussion and Analysis o...   \n",
       "3   Item 7. Managements Discussion and Analysis o...   \n",
       "4   Item 7. Managements Discussion and Analysis o...   \n",
       "\n",
       "                                 finbert_description  \\\n",
       "0  {'label': 'Neutral', 'score': 0.9999117851257324}   \n",
       "1  {'label': 'Neutral', 'score': 0.9999666213989258}   \n",
       "2  {'label': 'Neutral', 'score': 0.9999666213989258}   \n",
       "3   {'label': 'Neutral', 'score': 0.999957799911499}   \n",
       "4   {'label': 'Neutral', 'score': 0.999957799911499}   \n",
       "\n",
       "  finbert_description_label  finbert_description_score  \n",
       "0                   Neutral                   0.999912  \n",
       "1                   Neutral                   0.999967  \n",
       "2                   Neutral                   0.999967  \n",
       "3                   Neutral                   0.999958  \n",
       "4                   Neutral                   0.999958  "
      ]
     },
     "execution_count": 9,
     "metadata": {},
     "output_type": "execute_result"
    }
   ],
   "source": [
    "# Apply FinBERT to the description\n",
    "df['finbert_description'] = df['item_description'].apply(lambda x: classify_sentiment(x))\n",
    "df['finbert_description_label'] = df['finbert_description'].apply(lambda x: x['label'])\n",
    "df['finbert_description_score'] = df['finbert_description'].apply(lambda x: x['score'])\n",
    "\n",
    "# Save the results back to a CSV file\n",
    "df.to_csv(\"10ks_with_all_finbert_scores.csv\", index=False)\n",
    "\n",
    "# Display a sample of the DataFrame to verify\n",
    "df.head()"
   ]
  },
  {
   "cell_type": "code",
   "execution_count": 10,
   "metadata": {},
   "outputs": [],
   "source": [
    "# df.tail()\n",
    "# check if finbert_title columns is null \n",
    "df.to_csv(\"sp500_with_all_finbert_scores.csv\", index=False)"
   ]
  }
 ],
 "metadata": {
  "kernelspec": {
   "display_name": "cs7643-a2",
   "language": "python",
   "name": "python3"
  },
  "language_info": {
   "codemirror_mode": {
    "name": "ipython",
    "version": 3
   },
   "file_extension": ".py",
   "mimetype": "text/x-python",
   "name": "python",
   "nbconvert_exporter": "python",
   "pygments_lexer": "ipython3",
   "version": "3.12.0"
  }
 },
 "nbformat": 4,
 "nbformat_minor": 2
}
