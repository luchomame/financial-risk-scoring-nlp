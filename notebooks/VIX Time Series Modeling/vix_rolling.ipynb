{
 "cells": [
  {
   "cell_type": "code",
   "execution_count": null,
   "metadata": {
    "vscode": {
     "languageId": "r"
    }
   },
   "outputs": [],
   "source": [
    "suppressWarnings(suppressPackageStartupMessages(library(\"dplyr\")))\n",
    "suppressWarnings(suppressPackageStartupMessages(library(\"duckdb\")))\n",
    "suppressWarnings(suppressPackageStartupMessages(library(rugarch)))\n",
    "suppressWarnings(suppressPackageStartupMessages(library(tidyr)))\n",
    "suppressWarnings(suppressPackageStartupMessages(library(zoo)))\n",
    "suppressWarnings(suppressPackageStartupMessages(library(forecast)))\n",
    "suppressWarnings(suppressPackageStartupMessages(library(lubridate)))\n",
    "library(fs)\n",
    "library(dotenv)\n",
    "load_dot_env()"
   ]
  },
  {
   "cell_type": "code",
   "execution_count": null,
   "metadata": {
    "vscode": {
     "languageId": "r"
    }
   },
   "outputs": [],
   "source": [
    "DB_PATH = Sys.getenv(\"DB_PATH\")\n",
    "DB_FILE = Sys.getenv(\"DB_FILE\")\n",
    "duckdb_path = path(DB_PATH, DB_FILE)"
   ]
  },
  {
   "cell_type": "code",
   "execution_count": null,
   "metadata": {
    "vscode": {
     "languageId": "r"
    }
   },
   "outputs": [],
   "source": [
    "# con = dbConnect(duckdb::duckdb(), \"../financial_news.db\", read_only = FALSE)\n",
    "con = dbConnect(duckdb::duckdb(), duckdb_path, read_only = TRUE)"
   ]
  },
  {
   "cell_type": "code",
   "execution_count": null,
   "metadata": {
    "vscode": {
     "languageId": "r"
    }
   },
   "outputs": [
    {
     "data": {
      "text/html": [
       "0"
      ],
      "text/latex": [
       "0"
      ],
      "text/markdown": [
       "0"
      ],
      "text/plain": [
       "[1] 0"
      ]
     },
     "metadata": {},
     "output_type": "display_data"
    },
    {
     "data": {
      "text/html": [
       "0"
      ],
      "text/latex": [
       "0"
      ],
      "text/markdown": [
       "0"
      ],
      "text/plain": [
       "[1] 0"
      ]
     },
     "metadata": {},
     "output_type": "display_data"
    },
    {
     "data": {
      "text/html": [
       "0"
      ],
      "text/latex": [
       "0"
      ],
      "text/markdown": [
       "0"
      ],
      "text/plain": [
       "[1] 0"
      ]
     },
     "metadata": {},
     "output_type": "display_data"
    },
    {
     "data": {
      "text/html": [
       "0"
      ],
      "text/latex": [
       "0"
      ],
      "text/markdown": [
       "0"
      ],
      "text/plain": [
       "[1] 0"
      ]
     },
     "metadata": {},
     "output_type": "display_data"
    }
   ],
   "source": [
    "# # drop table first \n",
    "# dbExecute(con, \"DROP TABLE IF EXISTS headlines.rolling_predictions_daily;\")\n",
    "# dbExecute(con, \"\n",
    "#     CREATE TABLE IF NOT EXISTS headlines.rolling_predictions_daily (\n",
    "#         date DATE,\n",
    "#         actual_vix FLOAT,\n",
    "#         predicted_vix FLOAT,\n",
    "#         primary key (date)\n",
    "#     );\n",
    "# \")\n",
    "\n",
    "# # drop table first\n",
    "# dbExecute(con, \"DROP TABLE IF EXISTS headlines.rolling_predictions_weekly;\")\n",
    "# dbExecute(con, \"\n",
    "#     CREATE TABLE IF NOT EXISTS headlines.rolling_predictions_weekly (\n",
    "#         date DATE,\n",
    "#         actual_vix FLOAT,\n",
    "#         predicted_vix FLOAT,\n",
    "#         primary key (date)\n",
    "#     );\n",
    "# \")\n"
   ]
  },
  {
   "cell_type": "code",
   "execution_count": null,
   "metadata": {
    "vscode": {
     "languageId": "r"
    }
   },
   "outputs": [],
   "source": [
    "# Pull VIX data from the database\n",
    "df = dbGetQuery(con, \"SELECT * FROM SP500.vix_index\")\n",
    "# df2 = dbGetQuery(con, \"SELECT * FROM headlines.trading_calendar\")\n",
    "dbDisconnect(con, shutdown = TRUE)\n",
    "\n",
    "# want to limit data to start at 2022/01/01 and end at 2025-01-02\n",
    "df = df %>% filter(vix_date >= \"2022-01-01\" & vix_date <= \"2025-01-02\")\n",
    "\n",
    "df$vix_date = as.Date(df$vix_date)\n",
    "# head(df)\n",
    "# tail(df2)\n",
    "# tail(df)\n",
    "\n",
    "df_weekly = df %>%\n",
    "    mutate(week = format(vix_date, \"%Y-%U\")) %>% # this does YYYY-WW where WW is week #\n",
    "    group_by(week) %>%\n",
    "    summarise(vix_last = last(vix_value))\n",
    "\n",
    "n_weekly = nrow(df_weekly)\n",
    "train_df_weekly = df_weekly[1:(n_weekly * 0.85), ]\n",
    "test_df_weekly = df_weekly[(floor(n_weekly * 0.85) + 1):n_weekly, ]\n",
    "\n",
    "# Train-Test Split (85% Train, 15% Test)\n",
    "n = nrow(df)\n",
    "train_df = df[1:(n * 0.85), ]\n",
    "test_df = df[floor((n * 0.85) + 1):n, ]"
   ]
  },
  {
   "cell_type": "code",
   "execution_count": 5,
   "metadata": {
    "vscode": {
     "languageId": "r"
    }
   },
   "outputs": [],
   "source": [
    "vix_weekly_ts_last = ts(df_weekly$vix_last, start = c(2022, 1), frequency = 52, end=c(2025, 2))\n",
    "vix_ts = ts(df$vix_value, start = c(2022, 1), frequency = 251)\n",
    "\n",
    "n = length(vix_weekly_ts_last)\n",
    "vix_weekly_ts_last.train = vix_weekly_ts_last[1:(n*0.85)]\n",
    "vix_weekly_ts_last.test = vix_weekly_ts_last[floor((n*0.85)+1):n]\n",
    "\n",
    "n = length(vix_ts)\n",
    "vix_ts.train = vix_ts[1:(n*0.85)]\n",
    "vix_ts.test = vix_ts[floor((n*0.85)+1):n]\n"
   ]
  },
  {
   "cell_type": "code",
   "execution_count": null,
   "metadata": {
    "vscode": {
     "languageId": "r"
    }
   },
   "outputs": [],
   "source": [
    "garch_pred = function(spec, training_df, testing_df){\n",
    "    # lets predict garch\n",
    "    wnfore = length(testing_df)\n",
    "    vix_ts.fore.series_new = NULL\n",
    "    vix_ts.fore.sigma_new = NULL\n",
    "    pred_values = numeric(wnfore)\n",
    "\n",
    "\n",
    "    for(f in 1: wnfore) {\n",
    "    \n",
    "        #Fit models\n",
    "        wdata = training_df\n",
    "        if(f>=2)\n",
    "            # need to use the dataset you wanna predict. goal is to predict the next value in the validation set so roll it\n",
    "            wdata = c(training_df, testing_df[1:(f - 1)])  \n",
    "        wdata = ts(wdata, start = start(training_df), frequency = frequency(training_df))\n",
    "\n",
    "        # Fit ARIMA-GARCH Model\n",
    "        w.final.model.1 = tryCatch(\n",
    "            suppressWarnings(ugarchfit(spec, wdata, solver = \"hybrid\")),\n",
    "            error = function(e) NULL\n",
    "        )\n",
    "        \n",
    "        #Forecast\n",
    "        if (!is.null(w.final.model.1)) {\n",
    "            forecast = ugarchforecast(w.final.model.1, n.ahead = 1)\n",
    "            pred_values[f] = forecast@forecast$seriesFor[1]\n",
    "        } else {\n",
    "            pred_values[f] = 0\n",
    "        }\n",
    "    }\n",
    "\n",
    "    return(pred_values)\n",
    "}"
   ]
  },
  {
   "cell_type": "code",
   "execution_count": null,
   "metadata": {
    "vscode": {
     "languageId": "r"
    }
   },
   "outputs": [
    {
     "data": {
      "text/html": [
       "<table class=\"dataframe\">\n",
       "<caption>A data.frame: 6 × 3</caption>\n",
       "<thead>\n",
       "\t<tr><th></th><th scope=col>date</th><th scope=col>actual_vix</th><th scope=col>predicted_vix</th></tr>\n",
       "\t<tr><th></th><th scope=col>&lt;chr&gt;</th><th scope=col>&lt;dbl&gt;</th><th scope=col>&lt;dbl&gt;</th></tr>\n",
       "</thead>\n",
       "<tbody>\n",
       "\t<tr><th scope=row>1</th><td>2024-30</td><td>23.39</td><td>16.95253</td></tr>\n",
       "\t<tr><th scope=row>2</th><td>2024-31</td><td>20.37</td><td>23.73948</td></tr>\n",
       "\t<tr><th scope=row>3</th><td>2024-32</td><td>14.80</td><td>19.44520</td></tr>\n",
       "\t<tr><th scope=row>4</th><td>2024-33</td><td>15.86</td><td>15.54554</td></tr>\n",
       "\t<tr><th scope=row>5</th><td>2024-34</td><td>15.00</td><td>16.30197</td></tr>\n",
       "\t<tr><th scope=row>6</th><td>2024-35</td><td>22.38</td><td>15.12041</td></tr>\n",
       "</tbody>\n",
       "</table>\n"
      ],
      "text/latex": [
       "A data.frame: 6 × 3\n",
       "\\begin{tabular}{r|lll}\n",
       "  & date & actual\\_vix & predicted\\_vix\\\\\n",
       "  & <chr> & <dbl> & <dbl>\\\\\n",
       "\\hline\n",
       "\t1 & 2024-30 & 23.39 & 16.95253\\\\\n",
       "\t2 & 2024-31 & 20.37 & 23.73948\\\\\n",
       "\t3 & 2024-32 & 14.80 & 19.44520\\\\\n",
       "\t4 & 2024-33 & 15.86 & 15.54554\\\\\n",
       "\t5 & 2024-34 & 15.00 & 16.30197\\\\\n",
       "\t6 & 2024-35 & 22.38 & 15.12041\\\\\n",
       "\\end{tabular}\n"
      ],
      "text/markdown": [
       "\n",
       "A data.frame: 6 × 3\n",
       "\n",
       "| <!--/--> | date &lt;chr&gt; | actual_vix &lt;dbl&gt; | predicted_vix &lt;dbl&gt; |\n",
       "|---|---|---|---|\n",
       "| 1 | 2024-30 | 23.39 | 16.95253 |\n",
       "| 2 | 2024-31 | 20.37 | 23.73948 |\n",
       "| 3 | 2024-32 | 14.80 | 19.44520 |\n",
       "| 4 | 2024-33 | 15.86 | 15.54554 |\n",
       "| 5 | 2024-34 | 15.00 | 16.30197 |\n",
       "| 6 | 2024-35 | 22.38 | 15.12041 |\n",
       "\n"
      ],
      "text/plain": [
       "  date    actual_vix predicted_vix\n",
       "1 2024-30 23.39      16.95253     \n",
       "2 2024-31 20.37      23.73948     \n",
       "3 2024-32 14.80      19.44520     \n",
       "4 2024-33 15.86      15.54554     \n",
       "5 2024-34 15.00      16.30197     \n",
       "6 2024-35 22.38      15.12041     "
      ]
     },
     "metadata": {},
     "output_type": "display_data"
    }
   ],
   "source": [
    "weekly.spec = ugarchspec(variance.model=list(garchOrder= c(0,1)),\n",
    "                        mean.model=list(armaOrder=c(2,2), include.mean=T), # update order!\n",
    "                        distribution.model=\"std\")\n",
    "weekly_pred  = garch_pred(weekly.spec, vix_weekly_ts_last.train, vix_weekly_ts_last.test)\n",
    "weekly_results_df = data.frame(\n",
    "    date = test_df_weekly$week,\n",
    "    actual_vix = test_df_weekly$vix_last,\n",
    "    predicted_vix = weekly_pred\n",
    ")\n",
    "\n",
    "\n",
    "# daily.spec = ugarchspec(variance.model=list(garchOrder=c(0,0)),\n",
    "#                         mean.model=list(armaOrder=c(5,4), include.mean=T), # update order!\n",
    "#                         distribution.model=\"std\")\n",
    "# daily_pred  = garch_pred(daily.spec, vix_ts.train, vix_ts.test)\n",
    "# daily_results_df = data.frame(\n",
    "#     date = test_df$vix_date,\n",
    "#     actual_vix = test_df$vix_value,\n",
    "#     predicted_vix = daily_pred\n",
    "# )\n",
    "\n",
    "# head(daily_results_df)\n",
    "head(weekly_results_df)"
   ]
  },
  {
   "cell_type": "code",
   "execution_count": null,
   "metadata": {
    "vscode": {
     "languageId": "r"
    }
   },
   "outputs": [
    {
     "name": "stdout",
     "output_type": "stream",
     "text": [
      "[1] \"writing to database\"\n"
     ]
    },
    {
     "name": "stdout",
     "output_type": "stream",
     "text": [
      "[1] \"Daily rolling predictions complete!\"\n",
      "[1] \"Weekly rolling predictions complete!\"\n"
     ]
    }
   ],
   "source": [
    "# print(\"writing to database\")\n",
    "# dbWriteTable(con, \"headlines.rolling_predictions_daily\", daily_results_df, overwrite=T)\n",
    "# dbWriteTable(con, \"headlines.rolling_predictions_weekly\", weekly_results_df, overwrite=T)\n",
    "\n",
    "# dbDisconnect(con, shutdown=TRUE)\n",
    "\n",
    "# print(\"Daily rolling predictions complete!\")\n",
    "# print(\"Weekly rolling predictions complete!\")\n"
   ]
  },
  {
   "cell_type": "code",
   "execution_count": null,
   "metadata": {
    "vscode": {
     "languageId": "r"
    }
   },
   "outputs": [],
   "source": [
    "write = function(df, filename) {\n",
    "    write.csv(df, file = filename, row.names = FALSE)\n",
    "}\n",
    "\n",
    "# weekly_results_df = weekly_results_df %>%\n",
    "#   mutate(date = as.Date(paste0(date, \"-1\"), format = \"%Y-%U-%u\")) # Monday as start of the week\n",
    "\n",
    "train_df_weekly = train_df_weekly %>%\n",
    "  mutate(week = as.Date(paste0(week, \"-1\"), format = \"%Y-%U-%u\")) # Monday as start of the week\n",
    "\n",
    "\n",
    "write(daily_results_df, \"daily_results.csv\")\n",
    "write(weekly_results_df, \"weekly_results.csv\")\n",
    "write(train_df, \"daily_train_df.csv\")\n",
    "write(train_df_weekly, \"weekly_train_df.csv\")"
   ]
  }
 ],
 "metadata": {
  "kernelspec": {
   "display_name": "R",
   "language": "R",
   "name": "ir"
  },
  "language_info": {
   "codemirror_mode": "r",
   "file_extension": ".r",
   "mimetype": "text/x-r-source",
   "name": "R",
   "pygments_lexer": "r",
   "version": "4.3.1"
  }
 },
 "nbformat": 4,
 "nbformat_minor": 2
}
