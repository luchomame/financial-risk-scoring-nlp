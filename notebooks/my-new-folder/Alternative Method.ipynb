{
 "cells": [
  {
   "cell_type": "code",
   "execution_count": 1,
   "id": "aeaea71f-7ac3-4fe9-af94-a630b03b9c71",
   "metadata": {},
   "outputs": [],
   "source": [
    "#import all libraries\n",
    "import pandas as pd\n",
    "import duckdb\n",
    "import nltk\n",
    "from nltk.tokenize import word_tokenize\n",
    "from nltk.corpus import stopwords\n",
    "from xgboost import XGBRegressor\n",
    "import pandas_market_calendars as mcal\n",
    "from sklearn.metrics import mean_absolute_error, r2_score, accuracy_score\n",
    "import numpy as np\n",
    "import spacy\n",
    "import time"
   ]
  },
  {
   "cell_type": "code",
   "execution_count": 2,
   "id": "f92a5577-937d-4f47-ac5d-3480b1ecd0d0",
   "metadata": {},
   "outputs": [
    {
     "name": "stderr",
     "output_type": "stream",
     "text": [
      "[nltk_data] Downloading package stopwords to\n",
      "[nltk_data]     C:\\Users\\hilun\\AppData\\Roaming\\nltk_data...\n",
      "[nltk_data]   Package stopwords is already up-to-date!\n",
      "[nltk_data] Downloading package punkt to\n",
      "[nltk_data]     C:\\Users\\hilun\\AppData\\Roaming\\nltk_data...\n",
      "[nltk_data]   Package punkt is already up-to-date!\n"
     ]
    }
   ],
   "source": [
    "# Ensure stopwords and tokenizer are available\n",
    "nltk.download('stopwords')\n",
    "nltk.download('punkt')\n",
    "# Define stopwords\n",
    "stop_words = set(stopwords.words('english'))"
   ]
  },
  {
   "cell_type": "code",
   "execution_count": 3,
   "id": "643f033a-3010-48a3-a45a-ed20ace345e2",
   "metadata": {},
   "outputs": [],
   "source": [
    "#This will extract all ticker names and save it in a list \n",
    "\n",
    "# Database connection\n",
    "db_file_path = r\"C:\\Users\\hilun\\OneDrive\\Desktop\\OMS\\Practitam\\financial_news.db\"\n",
    "conn = duckdb.connect(database=db_file_path, read_only=False)    \n",
    "\n",
    "query = \"\"\"\n",
    "    SELECT DISTINCT ticker FROM \"Headlines\".\"Daily_Price_Movement\";\n",
    "\"\"\"\n",
    "\n",
    "# Execute query and fetch results into a DataFrame\n",
    "ticker_a = conn.execute(query).fetchdf()\n",
    "\n",
    "#Convert to a unique ticker list\n",
    "unique_tickers = ticker_a[\"ticker\"].tolist()\n",
    "ticker_all=unique_tickers\n",
    "# ticker_file=pd.read_csv('ticker with over1000 AC.csv')\n",
    "# ticker_all = ticker_file[\"symbol\"]  # Extract column\n",
    "\n",
    "#ticker_all=['AAPL'] #uncomment this for troubleshooting with one stock\n",
    "\n",
    "# **Close Database Connection**\n",
    "conn.close()"
   ]
  },
  {
   "cell_type": "code",
   "execution_count": 4,
   "id": "1d284eee-ce05-4db8-9b4b-1bd2eb9e815a",
   "metadata": {},
   "outputs": [],
   "source": [
    "# Load NYSE trading calendar\n",
    "nyse = mcal.get_calendar('NYSE')\n",
    "nlp = spacy.load(\"en_core_web_sm\")\n",
    "\n",
    "start_time = time.time()  # Start time measurement"
   ]
  },
  {
   "cell_type": "code",
   "execution_count": 5,
   "id": "f3d693af-7e4c-4fc7-88e4-ebf635a46bce",
   "metadata": {},
   "outputs": [],
   "source": [
    "# Function to find the next trading day\n",
    "def next_trading_day(date):\n",
    "    date = pd.Timestamp(date)\n",
    "    while len(nyse.valid_days(start_date=date.strftime('%Y-%m-%d'), end_date=date.strftime('%Y-%m-%d'))) == 0:\n",
    "        date += pd.Timedelta(days=1)\n",
    "    return date"
   ]
  },
  {
   "cell_type": "code",
   "execution_count": 6,
   "id": "bf28c636-c1e5-4945-abf2-648b0622ce2a",
   "metadata": {},
   "outputs": [],
   "source": [
    "#text tokenization including NER removal\n",
    "def tokenize_text(text):\n",
    "    # Process the text using spaCy\n",
    "    doc = nlp(text.lower())\n",
    "\n",
    "    # Extract named entities\n",
    "    named_entities = {ent.text.lower() for ent in doc.ents}\n",
    "\n",
    "    # Tokenize and filter words\n",
    "    words = word_tokenize(text.lower())\n",
    "    words = [\n",
    "        word for word in words \n",
    "        if word.isalpha() and len(word) > 2 and \n",
    "        word not in stop_words and \n",
    "        word not in named_entities  # Remove named entities\n",
    "    ]\n",
    "    \n",
    "    return words"
   ]
  },
  {
   "cell_type": "code",
   "execution_count": 7,
   "id": "3282c3de-4a5b-473c-83c5-52fde43b683f",
   "metadata": {},
   "outputs": [],
   "source": [
    "#function to calculate bollinger band\n",
    "def bb(price, lookback):\n",
    "    std=price.rolling(window=lookback, min_periods=lookback).std()\n",
    "    sma=price.rolling(window=lookback, min_periods=lookback).mean()\n",
    "    bottom=sma-(2*std)\n",
    "    top=sma+(2*std)\n",
    "    return sma, top, bottom\n",
    "\n",
    "#function to calculate relative strength index\n",
    "def get_rsi(price, lookback):\n",
    "    daily_ret=price.diff()\n",
    "    up = daily_ret.clip(lower=0)\n",
    "    down = -1 * daily_ret.clip(upper=0)\n",
    "    sma_up = up.rolling(window = lookback).mean()\n",
    "    sma_down = down.rolling(window = lookback).mean()  \n",
    "    rs=sma_up/sma_down\n",
    "    rsi=100-(100/(1+rs))\n",
    "    return rsi        \t   \t\t  \t\t \t\t\t  \t\t \t\t\t     \t\t\t  \t \n",
    "\n",
    "#function to calculate stochastic osillator\n",
    "def get_so(price, lookback):\n",
    "    high = price.rolling(window=lookback).max()\n",
    "    low = price.rolling(window=lookback).min()\n",
    "    K = 100*(price-low)/(high-low)\n",
    "    D = K.rolling(window=3).mean()\n",
    "\n",
    "    return(K,D)\t"
   ]
  },
  {
   "cell_type": "code",
   "execution_count": 8,
   "id": "dbc84f0d-11df-4576-9c8b-9c09976cea1e",
   "metadata": {},
   "outputs": [],
   "source": [
    "# This the main function to process a single ticker\n",
    "def process_ticker(ticker, nyse, stop_words, result_df):\n",
    "    print(f\"Processing {ticker}...\")\n",
    "    # Database connection\n",
    "    # I chose to open and close a db connection inside this function to avoid issues\n",
    "    # I encountered inaccurate results when I opened and close a connect outside of loop\n",
    "\n",
    "    #*****************************************************************************\n",
    "    #change this to your local path\n",
    "    db_file_path = r\"C:\\Users\\hilun\\OneDrive\\Desktop\\OMS\\Practitam\\financial_news.db\" \n",
    "    #*****************************************************************************\n",
    "    conn = duckdb.connect(database=db_file_path, read_only=False)    \n",
    "    query = \"\"\"\n",
    "        SELECT \n",
    "            a.mapped_trading_date AS publish_date,\n",
    "            a.description, \n",
    "            a.article_pubDate,\n",
    "            dpm.close_price\n",
    "        FROM \"Headlines\".\"Articles_Trading_Day\" a\n",
    "        INNER JOIN \"Headlines\".\"Daily_Price_Movement\" dpm\n",
    "        ON a.mapped_trading_date = dpm.trading_date  \n",
    "        WHERE a.ticker = ?\n",
    "        AND dpm.ticker = ?;\n",
    "    \"\"\"\n",
    "    \n",
    "    news_df = conn.execute(query, [ticker, ticker]).fetchdf()\n",
    "    article_count=len(news_df)\n",
    "    if news_df.empty:\n",
    "        print(f\"Skipping {ticker}: No data found.\")\n",
    "        return\n",
    "\n",
    "    news_df[\"publish_date\"] = pd.to_datetime(news_df[\"publish_date\"]).dt.date\n",
    "    news_df[\"description\"] = news_df[\"description\"].fillna(\"\")\n",
    "\n",
    "    # Group descriptions by date\n",
    "    news_df = news_df.groupby(\"publish_date\", as_index=False).agg({\n",
    "        \"description\": lambda x: \" \".join(x),\n",
    "        \"close_price\": \"first\",\n",
    "    })\n",
    "\n",
    "    # Adjust for non-trading days\n",
    "    news_df[\"adjusted_date\"] = news_df[\"publish_date\"].apply(next_trading_day)\n",
    "\n",
    "    # Re-group after adjusting trading days\n",
    "    news_df = news_df.groupby(\"adjusted_date\", as_index=False).agg({\n",
    "        \"description\": lambda x: \" \".join(x),\n",
    "        \"close_price\": \"last\",\n",
    "    })\n",
    "    \n",
    "    news_df[\"price_change_percentage\"] = ((news_df[\"close_price\"].shift(-1) - news_df[\"close_price\"]) / news_df[\"close_price\"]) * 100\n",
    "    news_df[\"tokenized_words\"] = news_df[\"description\"].astype(str).apply(tokenize_text)\n",
    "\n",
    "    # Calculate token scores\n",
    "    unique_words = set(word for words_list in news_df[\"tokenized_words\"] for word in words_list)\n",
    "    w_count=len(unique_words)\n",
    "    word_scores = {word: [] for word in unique_words}\n",
    "\n",
    "    for _, row in news_df.iterrows():\n",
    "        words_list = row[\"tokenized_words\"]\n",
    "        price_change = row[\"price_change_percentage\"]\n",
    "        total_words = len(words_list)\n",
    "\n",
    "        if total_words > 0:\n",
    "            word_counts = {word: words_list.count(word) / total_words for word in words_list}\n",
    "            for word, ratio in word_counts.items():\n",
    "                word_scores[word].append(ratio * price_change)\n",
    "\n",
    "    tk_info = pd.DataFrame({\n",
    "        \"word\": list(word_scores.keys()),\n",
    "        \"score\": [np.mean(scores) if scores else 0 for scores in word_scores.values()]\n",
    "    }).dropna()\n",
    "    token_scores_dict = dict(zip(tk_info[\"word\"], tk_info[\"score\"]))\n",
    "    \n",
    "    def calculate_token_score(tokens):\n",
    "        return sum(token_scores_dict.get(token, 0) for token in tokens)\n",
    "\n",
    "    news_df[\"token_score\"] = news_df[\"tokenized_words\"].apply(calculate_token_score)\n",
    "\n",
    "    # Ensure no missing values in price change\n",
    "    news_df = news_df.dropna()\n",
    "    \n",
    "    # Define the SQL query\n",
    "    query = \"\"\"\n",
    "        SELECT trading_day_date, price \n",
    "        FROM Headlines.Pricing_News\n",
    "        WHERE ticker = ?\n",
    "    \"\"\"\n",
    "    \n",
    "    # Execute the query and load the data into a pandas DataFrame\n",
    "    df_p=conn.execute(query,[ticker]).fetchdf()\n",
    "\n",
    "    # Adjust for non-trading days\n",
    "    df_p = df_p.rename(columns={\"trading_day_date\": \"trading_date\"})\n",
    "    df_p = df_p.rename(columns={\"price\": \"close_price\"})\n",
    "\n",
    "    df_p[\"adjusted_trading_date\"] =df_p[\"trading_date\"].apply(next_trading_day)\n",
    "    df_p = df_p.drop_duplicates(subset=['adjusted_trading_date'], keep='last')\n",
    "\n",
    "    # Ensure 'trading_date' is in datetime format\n",
    "    df_p['trading_date'] = pd.to_datetime(df_p['trading_date'])\n",
    "    news_df['adjusted_date'] = pd.to_datetime(news_df['adjusted_date'])  # Ensure news_df dates are also datetime\n",
    "\n",
    "    if news_df['adjusted_date'].empty:\n",
    "        print(f\"Skipping {ticker}: No data found.\")\n",
    "        return\n",
    "    \n",
    "    # Get start_date and end_date\n",
    "    start_date = news_df['adjusted_date'].iloc[0]  # First news date\n",
    "    end_date = news_df['adjusted_date'].iloc[-1]   # Last news date\n",
    "    \n",
    "    # Compute the date range\n",
    "    date_lower_bound = start_date - pd.Timedelta(days=30)\n",
    "    date_upper_bound = end_date + pd.Timedelta(days=30)\n",
    "    \n",
    "    #print(date_lower_bound, date_upper_bound )\n",
    "    \n",
    "    # Filter df_p to include only trading dates within this range\n",
    "    df_p = df_p[(df_p['trading_date'] >= date_lower_bound) & (df_p['trading_date'] <= date_upper_bound)]\n",
    "    # Convert to a pandas Series\n",
    "    price = df_p['close_price']\n",
    "    \n",
    "    #add BB columns: SMA, Bottom, Top\n",
    "    sma, bot, top=bb(price,14)\n",
    "    rsi=get_rsi(price,4)\n",
    "    #Stochastic Oscillator\n",
    "    K, D=get_so(price,14)\n",
    "    \n",
    "    df_p['bb_sma']=sma\n",
    "    df_p['bb_bottom']=bot\n",
    "    df_p['bb_top']=top\n",
    "    df_p['rsi']=rsi\n",
    "    df_p['K']=K\n",
    "    df_p['D']=D\n",
    "\n",
    "    df_p['sma_future_7'] = df_p['close_price'].rolling(window=7, min_periods=1).mean().shift(-7)\n",
    "    \n",
    "    df_p = df_p.reset_index(drop=True)  # Reset index and remove old index\n",
    "    #handling edge cases for the last 7 days\n",
    "    t_len=len(df_p)\n",
    "    for i in range(6):\n",
    "        future_values = df_p['close_price'].iloc[t_len-1-i:t_len]  # Get up to 6 future values\n",
    "        df_p.at[t_len-i-2, 'sma_future_7'] = future_values.mean()  # Assign safely  # Compute mean of available values\n",
    "\n",
    "    news_df = news_df.merge(\n",
    "    df_p[['adjusted_trading_date', 'bb_sma', 'bb_bottom', 'bb_top', 'rsi', 'K','D', 'sma_future_7']],\n",
    "    left_on='adjusted_date',\n",
    "    right_on='adjusted_trading_date',\n",
    "    how='left'\n",
    "    )\n",
    "    \n",
    "    news_df = news_df.drop(columns=['adjusted_trading_date'])\n",
    "    \n",
    "    #calculate the trigger column\n",
    "    news_df[\"bb_trigger\"] = 0  # Default value\n",
    "    news_df.loc[(news_df[\"close_price\"].shift(1) > news_df[\"bb_top\"].shift(1)) & (news_df[\"close_price\"] < news_df[\"bb_top\"]), \"bb_trigger\"] = -1\n",
    "    news_df.loc[(news_df[\"close_price\"].shift(1) < news_df[\"bb_bottom\"].shift(1)) & (news_df[\"close_price\"] > news_df[\"bb_bottom\"]), \"bb_trigger\"] = 1\n",
    "    # Calculate the RSI trigger column\n",
    "    news_df[\"rsi_trigger\"] = 0  # Default value\n",
    "    news_df.loc[news_df[\"rsi\"] > 70, \"rsi_trigger\"] = -1\n",
    "    news_df.loc[news_df[\"rsi\"] < 30, \"rsi_trigger\"] = 1 \n",
    "    \n",
    "    news_df['bb_sma']=sma\n",
    "    news_df['bb_bottom']=bot\n",
    "    news_df['bb_top']=top\n",
    "    news_df['rsi']=rsi\n",
    "    news_df['K']=K\n",
    "    news_df['D']=D\n",
    "\n",
    "    #************************************************************\n",
    "    #Make sure you add this file to your local path\n",
    "    #add vix column\n",
    "    vix_df = pd.read_csv(\"vixGaTechSP25.csv\")\n",
    "    #************************************************************\n",
    "    \n",
    "    # Rename columns (assumes first column is date and second is VIX value)\n",
    "    vix_df = vix_df.rename(columns={vix_df.columns[0]: \"adjusted_date\", vix_df.columns[1]: \"vix\"})\n",
    "    \n",
    "    # Convert both date columns to datetime\n",
    "    news_df[\"adjusted_date\"] = pd.to_datetime(news_df[\"adjusted_date\"])\n",
    "    vix_df[\"adjusted_date\"] = pd.to_datetime(vix_df[\"adjusted_date\"])\n",
    "\n",
    "    # Now merge\n",
    "    news_df = pd.merge(news_df, vix_df, on=\"adjusted_date\", how=\"left\")\n",
    "   \n",
    "    #select single variable\n",
    "    #X_combined = news_df[\"token_score\"].values.reshape(-1, 1)  # Use token score as feature\n",
    "    \n",
    "    # Select multiple feature columns\n",
    "    X_combined = news_df[[\"token_score\", \"vix\"]].values \n",
    "    X_combined = np.array(X_combined).reshape(-1, 2)  # 2 features  \n",
    "\n",
    "    #This is for Technical Analysis addtion\n",
    "    # X_combined = news_df[[\"token_score\", \"vix\",\"rsi\",\"K\",\"D\",'bb_sma','bb_bottom','bb_top']].values \n",
    "    # X_combined = np.array(X_combined).reshape(-1, 8)  # 8 features\n",
    "    y = news_df[\"price_change_percentage\"].values\n",
    "\n",
    "    # Train-Test Split\n",
    "    split_index = int(len(news_df) * 0.8)\n",
    "    X_train, X_test = X_combined[:split_index], X_combined[split_index:]\n",
    "    y_train, y_test = y[:split_index], y[split_index:]\n",
    "    \n",
    "    # Train XGBoost Model\n",
    "    xgb_model = XGBRegressor(objective=\"reg:squarederror\", n_estimators=100, learning_rate=0.1)\n",
    "    xgb_model.fit(X_train, y_train)\n",
    "\n",
    "    # Predict on test data\n",
    "    y_pred = xgb_model.predict(X_test)\n",
    "\n",
    "    # Evaluate model performance\n",
    "    mae = mean_absolute_error(y_test, y_pred)\n",
    "    r2 = r2_score(y_test, y_pred)\n",
    "\n",
    "    #4 average groups with 6 categories\n",
    "    ave = news_df[\"price_change_percentage\"].abs().mean()\n",
    "    if ave > 3:\n",
    "        l = [7, 3.5, 0, -3.5, -7]\n",
    "    elif ave >= 2:\n",
    "        l = [4, 2, 0, -2, -4]\n",
    "    elif ave >= 1:\n",
    "        l = [3, 1.5, 0, -1.5, -3]\n",
    "    else:\n",
    "        l = [2.5, 1.25, 0, -1.25, -2.5]\n",
    "\n",
    "    # Categorization/Classification function\n",
    "    def categorize_value(x):\n",
    "        if x > l[0]:\n",
    "            return 0\n",
    "        elif l[1] <= x <= l[0]:\n",
    "            return 1\n",
    "        elif l[2] <= x < l[1]:\n",
    "            return 2\n",
    "        elif l[3] <= x < l[2]:\n",
    "            return 3\n",
    "        elif l[4] <= x < l[3]:\n",
    "            return 4\n",
    "        else:\n",
    "            return 5\n",
    "        \n",
    "    start_row = split_index - 1\n",
    "\n",
    "    # Apply categorization\n",
    "    news_df.loc[news_df.index > start_row, \"actual category\"] = news_df.loc[news_df.index > start_row, \"price_change_percentage\"].apply(categorize_value)\n",
    "    news_df[\"predicted_price_change\"] = np.concatenate([np.full(split_index, np.nan), y_pred])\n",
    "    news_df.loc[news_df.index > start_row, \"predicted category\"] = news_df.loc[news_df.index > start_row, \"predicted_price_change\"].apply(categorize_value)\n",
    "\n",
    "    # Compute classification accuracy\n",
    "    df_filtered = news_df.iloc[split_index:].reset_index(drop=True)[[\"actual category\", \"predicted category\"]]\n",
    "    accuracy = accuracy_score(df_filtered[\"actual category\"], df_filtered[\"predicted category\"])\n",
    "    \n",
    "    true_p = ((news_df[\"actual category\"] > 3) & (news_df[\"predicted category\"] > 3)).sum()\n",
    "    false_neg=((news_df[\"actual category\"] > 3) & (news_df[\"predicted category\"] < 4)).sum()\n",
    "    false_p=((news_df[\"actual category\"] < 4) & (news_df[\"predicted category\"] > 3)).sum()\n",
    "    true_neg=((news_df[\"actual category\"] <4) & (news_df[\"predicted category\"] <4)).sum()\n",
    "    precision=true_p/(true_p+false_p)\n",
    "    recall=true_p/(true_p+false_neg)\n",
    "    f1=2*precision*recall/(precision+recall)\n",
    "    # Store results\n",
    "    result_df.loc[len(result_df)] = [ticker, mae, r2, accuracy, article_count,w_count, len(news_df),precision,recall, f1,true_p,false_neg,false_p,true_neg]\n",
    "    \n",
    "    # **Close Database Connection**\n",
    "    conn.close()"
   ]
  },
  {
   "cell_type": "code",
   "execution_count": 9,
   "id": "4aa83cc3-31a5-44e9-9315-43ff8ad3d309",
   "metadata": {},
   "outputs": [
    {
     "name": "stdout",
     "output_type": "stream",
     "text": [
      "Processing JNPR...\n",
      "Processing TPG...\n",
      "Processing AVY...\n",
      "Processing WY...\n",
      "Processing KRC...\n",
      "Processing LIN...\n"
     ]
    },
    {
     "name": "stderr",
     "output_type": "stream",
     "text": [
      "C:\\Users\\hilun\\AppData\\Local\\Temp\\ipykernel_16436\\1872005112.py:252: RuntimeWarning: invalid value encountered in scalar divide\n",
      "  precision=true_p/(true_p+false_p)\n"
     ]
    },
    {
     "name": "stdout",
     "output_type": "stream",
     "text": [
      "Processing NTLA...\n"
     ]
    },
    {
     "name": "stderr",
     "output_type": "stream",
     "text": [
      "C:\\Users\\hilun\\AppData\\Local\\Temp\\ipykernel_16436\\1872005112.py:252: RuntimeWarning: invalid value encountered in scalar divide\n",
      "  precision=true_p/(true_p+false_p)\n",
      "C:\\Users\\hilun\\AppData\\Local\\Temp\\ipykernel_16436\\1872005112.py:253: RuntimeWarning: invalid value encountered in scalar divide\n",
      "  recall=true_p/(true_p+false_neg)\n"
     ]
    },
    {
     "name": "stdout",
     "output_type": "stream",
     "text": [
      "Processing ST...\n",
      "Processing VRNS...\n",
      "Processing IONS...\n",
      "Processing SNX...\n",
      "Processing VTRS...\n",
      "Processing TRV...\n",
      "Processing VNO...\n",
      "Processing MAR...\n",
      "Processing SEIC...\n",
      "Processing MPC...\n",
      "Processing KMPR...\n",
      "Processing ABT...\n",
      "Processing PINS...\n",
      "Processing SLB...\n",
      "Processing AMLP...\n"
     ]
    },
    {
     "name": "stderr",
     "output_type": "stream",
     "text": [
      "C:\\Users\\hilun\\AppData\\Local\\Temp\\ipykernel_16436\\1872005112.py:252: RuntimeWarning: invalid value encountered in scalar divide\n",
      "  precision=true_p/(true_p+false_p)\n",
      "C:\\Users\\hilun\\AppData\\Local\\Temp\\ipykernel_16436\\1872005112.py:253: RuntimeWarning: invalid value encountered in scalar divide\n",
      "  recall=true_p/(true_p+false_neg)\n"
     ]
    },
    {
     "name": "stdout",
     "output_type": "stream",
     "text": [
      "Processing AZPN...\n"
     ]
    },
    {
     "name": "stderr",
     "output_type": "stream",
     "text": [
      "C:\\Users\\hilun\\AppData\\Local\\Temp\\ipykernel_16436\\1872005112.py:254: RuntimeWarning: invalid value encountered in scalar divide\n",
      "  f1=2*precision*recall/(precision+recall)\n"
     ]
    },
    {
     "name": "stdout",
     "output_type": "stream",
     "text": [
      "Processing RDDT...\n",
      "Processing SYM...\n",
      "Processing T...\n",
      "Processing MDB...\n",
      "Processing SOFI...\n",
      "Processing LCID...\n",
      "Processing GPI...\n"
     ]
    },
    {
     "name": "stderr",
     "output_type": "stream",
     "text": [
      "C:\\Users\\hilun\\AppData\\Local\\Temp\\ipykernel_16436\\1872005112.py:254: RuntimeWarning: invalid value encountered in scalar divide\n",
      "  f1=2*precision*recall/(precision+recall)\n"
     ]
    },
    {
     "name": "stdout",
     "output_type": "stream",
     "text": [
      "Processing BLKB...\n",
      "Processing FANG...\n",
      "Processing RMD...\n",
      "Processing WAT...\n",
      "Processing VNOM...\n",
      "Processing TRU...\n",
      "Processing GPN...\n",
      "Processing CNP...\n",
      "Processing CABO...\n"
     ]
    },
    {
     "name": "stderr",
     "output_type": "stream",
     "text": [
      "C:\\Users\\hilun\\AppData\\Local\\Temp\\ipykernel_16436\\1872005112.py:252: RuntimeWarning: invalid value encountered in scalar divide\n",
      "  precision=true_p/(true_p+false_p)\n"
     ]
    },
    {
     "name": "stdout",
     "output_type": "stream",
     "text": [
      "Processing CBOE.A...\n",
      "Skipping CBOE.A: No data found.\n",
      "Processing EXTR...\n",
      "Processing AGCO...\n",
      "Processing GS...\n",
      "Processing ESAB...\n",
      "Processing CCOI...\n",
      "Processing DOX...\n",
      "Processing S...\n",
      "Processing KHC...\n",
      "Processing ROIV...\n"
     ]
    },
    {
     "name": "stderr",
     "output_type": "stream",
     "text": [
      "C:\\Users\\hilun\\AppData\\Local\\Temp\\ipykernel_16436\\1872005112.py:252: RuntimeWarning: invalid value encountered in scalar divide\n",
      "  precision=true_p/(true_p+false_p)\n",
      "C:\\Users\\hilun\\AppData\\Local\\Temp\\ipykernel_16436\\1872005112.py:253: RuntimeWarning: invalid value encountered in scalar divide\n",
      "  recall=true_p/(true_p+false_neg)\n"
     ]
    },
    {
     "name": "stdout",
     "output_type": "stream",
     "text": [
      "Processing BMI...\n",
      "Processing FE...\n",
      "Processing GGG...\n",
      "Processing LITE...\n",
      "Processing AVAV...\n",
      "Processing SH...\n",
      "Skipping SH: No data found.\n",
      "Processing BEN...\n",
      "Processing CME...\n",
      "Processing COLD...\n",
      "Processing WMG...\n",
      "Processing MGM...\n",
      "Processing JPM...\n",
      "Processing SKX...\n",
      "Processing CUZ...\n",
      "Processing OMC...\n",
      "Processing UNG...\n",
      "Skipping UNG: No data found.\n",
      "Processing BFAM...\n",
      "Processing CLH...\n",
      "Processing DOCS...\n",
      "Processing OBDC...\n"
     ]
    },
    {
     "name": "stderr",
     "output_type": "stream",
     "text": [
      "C:\\Users\\hilun\\AppData\\Local\\Temp\\ipykernel_16436\\1872005112.py:252: RuntimeWarning: invalid value encountered in scalar divide\n",
      "  precision=true_p/(true_p+false_p)\n"
     ]
    },
    {
     "name": "stdout",
     "output_type": "stream",
     "text": [
      "Processing PLD...\n",
      "Processing RGA...\n",
      "Processing ALE...\n"
     ]
    },
    {
     "name": "stderr",
     "output_type": "stream",
     "text": [
      "C:\\Users\\hilun\\AppData\\Local\\Temp\\ipykernel_16436\\1872005112.py:252: RuntimeWarning: invalid value encountered in scalar divide\n",
      "  precision=true_p/(true_p+false_p)\n",
      "C:\\Users\\hilun\\AppData\\Local\\Temp\\ipykernel_16436\\1872005112.py:253: RuntimeWarning: invalid value encountered in scalar divide\n",
      "  recall=true_p/(true_p+false_neg)\n"
     ]
    },
    {
     "name": "stdout",
     "output_type": "stream",
     "text": [
      "Processing CVS...\n",
      "Processing TDY...\n",
      "Processing RS...\n",
      "Processing LBTYK...\n",
      "Processing INTC...\n",
      "Processing EXAS...\n",
      "Processing STNG...\n",
      "Processing HEI.A...\n",
      "Skipping HEI.A: No data found.\n",
      "Processing IONQ...\n",
      "Processing NOV...\n"
     ]
    },
    {
     "name": "stderr",
     "output_type": "stream",
     "text": [
      "C:\\Users\\hilun\\AppData\\Local\\Temp\\ipykernel_16436\\1872005112.py:254: RuntimeWarning: invalid value encountered in scalar divide\n",
      "  f1=2*precision*recall/(precision+recall)\n"
     ]
    },
    {
     "name": "stdout",
     "output_type": "stream",
     "text": [
      "Processing SIRI...\n",
      "Processing ALRM...\n",
      "Processing QLYS...\n",
      "Processing CTRA...\n",
      "Processing ACGL...\n",
      "Processing PEN...\n",
      "Processing NLY...\n",
      "Processing EPRT...\n",
      "Processing AZO...\n",
      "Processing BDX...\n",
      "Processing PNC...\n",
      "Processing CGNX...\n",
      "Processing ROST...\n",
      "Processing RIVN...\n",
      "Processing CCI...\n",
      "Processing POST...\n",
      "Processing CC...\n",
      "Processing LVS...\n",
      "Processing FIZZ...\n",
      "Processing DAR...\n",
      "Processing EXR...\n",
      "Processing JBHT...\n",
      "Processing WFC...\n",
      "Processing TMHC...\n",
      "Processing FROG...\n"
     ]
    },
    {
     "name": "stderr",
     "output_type": "stream",
     "text": [
      "C:\\Users\\hilun\\AppData\\Local\\Temp\\ipykernel_16436\\1872005112.py:254: RuntimeWarning: invalid value encountered in scalar divide\n",
      "  f1=2*precision*recall/(precision+recall)\n"
     ]
    },
    {
     "name": "stdout",
     "output_type": "stream",
     "text": [
      "Processing NYT...\n",
      "Processing QRVO...\n",
      "Processing GTLS...\n"
     ]
    },
    {
     "name": "stderr",
     "output_type": "stream",
     "text": [
      "C:\\Users\\hilun\\AppData\\Local\\Temp\\ipykernel_16436\\1872005112.py:253: RuntimeWarning: invalid value encountered in scalar divide\n",
      "  recall=true_p/(true_p+false_neg)\n"
     ]
    },
    {
     "name": "stdout",
     "output_type": "stream",
     "text": [
      "Processing BOX...\n",
      "Processing CPT...\n",
      "Processing DYN...\n",
      "Processing NVST...\n"
     ]
    },
    {
     "name": "stderr",
     "output_type": "stream",
     "text": [
      "C:\\Users\\hilun\\AppData\\Local\\Temp\\ipykernel_16436\\1872005112.py:253: RuntimeWarning: invalid value encountered in scalar divide\n",
      "  recall=true_p/(true_p+false_neg)\n"
     ]
    },
    {
     "name": "stdout",
     "output_type": "stream",
     "text": [
      "Processing ADP...\n",
      "Processing BBIO...\n",
      "Processing R...\n",
      "Processing ITGR...\n"
     ]
    },
    {
     "name": "stderr",
     "output_type": "stream",
     "text": [
      "C:\\Users\\hilun\\AppData\\Local\\Temp\\ipykernel_16436\\1872005112.py:254: RuntimeWarning: invalid value encountered in scalar divide\n",
      "  f1=2*precision*recall/(precision+recall)\n"
     ]
    },
    {
     "name": "stdout",
     "output_type": "stream",
     "text": [
      "Processing ZM...\n",
      "Processing RNR...\n",
      "Processing SNAP...\n",
      "Processing FSLY...\n"
     ]
    },
    {
     "name": "stderr",
     "output_type": "stream",
     "text": [
      "C:\\Users\\hilun\\AppData\\Local\\Temp\\ipykernel_16436\\1872005112.py:252: RuntimeWarning: invalid value encountered in scalar divide\n",
      "  precision=true_p/(true_p+false_p)\n",
      "C:\\Users\\hilun\\AppData\\Local\\Temp\\ipykernel_16436\\1872005112.py:253: RuntimeWarning: invalid value encountered in scalar divide\n",
      "  recall=true_p/(true_p+false_neg)\n"
     ]
    },
    {
     "name": "stdout",
     "output_type": "stream",
     "text": [
      "Processing EW...\n",
      "Processing TPL...\n",
      "Processing MCO...\n",
      "Processing SSNC...\n"
     ]
    },
    {
     "name": "stderr",
     "output_type": "stream",
     "text": [
      "C:\\Users\\hilun\\AppData\\Local\\Temp\\ipykernel_16436\\1872005112.py:254: RuntimeWarning: invalid value encountered in scalar divide\n",
      "  f1=2*precision*recall/(precision+recall)\n"
     ]
    },
    {
     "name": "stdout",
     "output_type": "stream",
     "text": [
      "Processing CVNA...\n",
      "Processing ENTG...\n",
      "Processing APLE...\n"
     ]
    },
    {
     "name": "stderr",
     "output_type": "stream",
     "text": [
      "C:\\Users\\hilun\\AppData\\Local\\Temp\\ipykernel_16436\\1872005112.py:252: RuntimeWarning: invalid value encountered in scalar divide\n",
      "  precision=true_p/(true_p+false_p)\n"
     ]
    },
    {
     "name": "stdout",
     "output_type": "stream",
     "text": [
      "Processing ALKS...\n"
     ]
    },
    {
     "name": "stderr",
     "output_type": "stream",
     "text": [
      "C:\\Users\\hilun\\AppData\\Local\\Temp\\ipykernel_16436\\1872005112.py:252: RuntimeWarning: invalid value encountered in scalar divide\n",
      "  precision=true_p/(true_p+false_p)\n"
     ]
    },
    {
     "name": "stdout",
     "output_type": "stream",
     "text": [
      "Processing TRMB...\n",
      "Processing BIO...\n",
      "Processing MAC...\n"
     ]
    },
    {
     "name": "stderr",
     "output_type": "stream",
     "text": [
      "C:\\Users\\hilun\\AppData\\Local\\Temp\\ipykernel_16436\\1872005112.py:252: RuntimeWarning: invalid value encountered in scalar divide\n",
      "  precision=true_p/(true_p+false_p)\n",
      "C:\\Users\\hilun\\AppData\\Local\\Temp\\ipykernel_16436\\1872005112.py:253: RuntimeWarning: invalid value encountered in scalar divide\n",
      "  recall=true_p/(true_p+false_neg)\n"
     ]
    },
    {
     "name": "stdout",
     "output_type": "stream",
     "text": [
      "Processing GL...\n"
     ]
    },
    {
     "name": "stderr",
     "output_type": "stream",
     "text": [
      "C:\\Users\\hilun\\AppData\\Local\\Temp\\ipykernel_16436\\1872005112.py:254: RuntimeWarning: invalid value encountered in scalar divide\n",
      "  f1=2*precision*recall/(precision+recall)\n"
     ]
    },
    {
     "name": "stdout",
     "output_type": "stream",
     "text": [
      "Processing KBH...\n",
      "Processing NOW...\n",
      "Processing FXC...\n",
      "Skipping FXC: No data found.\n",
      "Processing MMC...\n",
      "Processing OKE...\n",
      "Processing AZEK...\n",
      "Processing BDC...\n",
      "Processing CADE...\n",
      "Processing ENLC...\n",
      "Processing BOOT...\n"
     ]
    },
    {
     "name": "stderr",
     "output_type": "stream",
     "text": [
      "C:\\Users\\hilun\\AppData\\Local\\Temp\\ipykernel_16436\\1872005112.py:252: RuntimeWarning: invalid value encountered in scalar divide\n",
      "  precision=true_p/(true_p+false_p)\n"
     ]
    },
    {
     "name": "stdout",
     "output_type": "stream",
     "text": [
      "Processing ALSN...\n",
      "Processing VEEV...\n",
      "Processing STLA...\n",
      "Processing PCAR...\n",
      "Processing CERE...\n"
     ]
    },
    {
     "name": "stderr",
     "output_type": "stream",
     "text": [
      "C:\\Users\\hilun\\AppData\\Local\\Temp\\ipykernel_16436\\1872005112.py:253: RuntimeWarning: invalid value encountered in scalar divide\n",
      "  recall=true_p/(true_p+false_neg)\n"
     ]
    },
    {
     "name": "stdout",
     "output_type": "stream",
     "text": [
      "Processing CNMD...\n",
      "Processing TSLA...\n",
      "Processing FOX...\n",
      "Processing SUI...\n"
     ]
    },
    {
     "name": "stderr",
     "output_type": "stream",
     "text": [
      "C:\\Users\\hilun\\AppData\\Local\\Temp\\ipykernel_16436\\1872005112.py:252: RuntimeWarning: invalid value encountered in scalar divide\n",
      "  precision=true_p/(true_p+false_p)\n"
     ]
    },
    {
     "name": "stdout",
     "output_type": "stream",
     "text": [
      "Processing INVH...\n",
      "Processing HSIC...\n",
      "Processing DOCU...\n",
      "Processing COKE...\n",
      "Processing DUK...\n",
      "Processing NUE...\n",
      "Processing LNG...\n",
      "Processing DOW...\n",
      "Processing CTRE...\n",
      "Processing LRCX...\n",
      "Processing LDOS...\n",
      "Processing GAP...\n"
     ]
    },
    {
     "name": "stderr",
     "output_type": "stream",
     "text": [
      "C:\\Users\\hilun\\AppData\\Local\\Temp\\ipykernel_16436\\1872005112.py:252: RuntimeWarning: invalid value encountered in scalar divide\n",
      "  precision=true_p/(true_p+false_p)\n"
     ]
    },
    {
     "name": "stdout",
     "output_type": "stream",
     "text": [
      "Processing APP...\n",
      "Processing PAYX...\n",
      "Processing WFRD...\n",
      "Processing SMCI...\n",
      "Processing AIT...\n",
      "Processing CAT...\n",
      "Processing CACI...\n",
      "Processing WSO...\n",
      "Processing LANC...\n"
     ]
    },
    {
     "name": "stderr",
     "output_type": "stream",
     "text": [
      "C:\\Users\\hilun\\AppData\\Local\\Temp\\ipykernel_16436\\1872005112.py:252: RuntimeWarning: invalid value encountered in scalar divide\n",
      "  precision=true_p/(true_p+false_p)\n"
     ]
    },
    {
     "name": "stdout",
     "output_type": "stream",
     "text": [
      "Processing MA...\n",
      "Processing SFM...\n",
      "Processing FITB...\n",
      "Processing UNP...\n",
      "Processing SBRA...\n"
     ]
    },
    {
     "name": "stderr",
     "output_type": "stream",
     "text": [
      "C:\\Users\\hilun\\AppData\\Local\\Temp\\ipykernel_16436\\1872005112.py:252: RuntimeWarning: invalid value encountered in scalar divide\n",
      "  precision=true_p/(true_p+false_p)\n"
     ]
    },
    {
     "name": "stdout",
     "output_type": "stream",
     "text": [
      "Processing MKL...\n",
      "Processing LNW...\n"
     ]
    },
    {
     "name": "stderr",
     "output_type": "stream",
     "text": [
      "C:\\Users\\hilun\\AppData\\Local\\Temp\\ipykernel_16436\\1872005112.py:252: RuntimeWarning: invalid value encountered in scalar divide\n",
      "  precision=true_p/(true_p+false_p)\n"
     ]
    },
    {
     "name": "stdout",
     "output_type": "stream",
     "text": [
      "Processing NKE...\n",
      "Processing RPM...\n",
      "Processing PYPL...\n",
      "Processing PPG...\n",
      "Processing JEF...\n",
      "Processing GEN...\n",
      "Processing TEM...\n",
      "Processing FLO...\n",
      "Processing ROKU...\n",
      "Processing RIOT...\n",
      "Processing AER...\n",
      "Processing PAGP...\n"
     ]
    },
    {
     "name": "stderr",
     "output_type": "stream",
     "text": [
      "C:\\Users\\hilun\\AppData\\Local\\Temp\\ipykernel_16436\\1872005112.py:252: RuntimeWarning: invalid value encountered in scalar divide\n",
      "  precision=true_p/(true_p+false_p)\n",
      "C:\\Users\\hilun\\AppData\\Local\\Temp\\ipykernel_16436\\1872005112.py:253: RuntimeWarning: invalid value encountered in scalar divide\n",
      "  recall=true_p/(true_p+false_neg)\n"
     ]
    },
    {
     "name": "stdout",
     "output_type": "stream",
     "text": [
      "Processing BA...\n",
      "Processing MRVL...\n",
      "Processing BBY...\n",
      "Processing CHRD...\n",
      "Processing W...\n",
      "Processing HON...\n",
      "Processing VPN...\n",
      "Skipping VPN: No data found.\n",
      "Processing SGEN...\n"
     ]
    },
    {
     "name": "stderr",
     "output_type": "stream",
     "text": [
      "C:\\Users\\hilun\\AppData\\Local\\Temp\\ipykernel_16436\\1872005112.py:252: RuntimeWarning: invalid value encountered in scalar divide\n",
      "  precision=true_p/(true_p+false_p)\n",
      "C:\\Users\\hilun\\AppData\\Local\\Temp\\ipykernel_16436\\1872005112.py:253: RuntimeWarning: invalid value encountered in scalar divide\n",
      "  recall=true_p/(true_p+false_neg)\n"
     ]
    },
    {
     "name": "stdout",
     "output_type": "stream",
     "text": [
      "Processing MCK...\n",
      "Processing UPST...\n",
      "Processing CL...\n",
      "Processing ESI...\n",
      "Processing SEDG...\n",
      "Processing HUN...\n",
      "Processing BRK.B...\n",
      "Skipping BRK.B: No data found.\n",
      "Processing USB...\n",
      "Processing DNLI...\n",
      "Processing FG...\n",
      "Processing NI...\n",
      "Processing AZTA...\n",
      "Processing EXEL...\n",
      "Processing CHE...\n",
      "Processing NET...\n",
      "Processing CSGP...\n",
      "Processing CYTK...\n",
      "Processing PBH...\n"
     ]
    },
    {
     "name": "stderr",
     "output_type": "stream",
     "text": [
      "C:\\Users\\hilun\\AppData\\Local\\Temp\\ipykernel_16436\\1872005112.py:252: RuntimeWarning: invalid value encountered in scalar divide\n",
      "  precision=true_p/(true_p+false_p)\n"
     ]
    },
    {
     "name": "stdout",
     "output_type": "stream",
     "text": [
      "Processing APO...\n",
      "Processing DT...\n",
      "Processing BIIB...\n",
      "Processing ULTA...\n",
      "Processing ESLT...\n"
     ]
    },
    {
     "name": "stderr",
     "output_type": "stream",
     "text": [
      "C:\\Users\\hilun\\AppData\\Local\\Temp\\ipykernel_16436\\1872005112.py:252: RuntimeWarning: invalid value encountered in scalar divide\n",
      "  precision=true_p/(true_p+false_p)\n"
     ]
    },
    {
     "name": "stdout",
     "output_type": "stream",
     "text": [
      "Processing GILD...\n",
      "Processing THC...\n",
      "Processing FXF...\n",
      "Skipping FXF: No data found.\n",
      "Processing SHC...\n",
      "Processing LULU...\n",
      "Processing IDA...\n",
      "Processing CMG...\n",
      "Processing BPMC...\n"
     ]
    },
    {
     "name": "stderr",
     "output_type": "stream",
     "text": [
      "C:\\Users\\hilun\\AppData\\Local\\Temp\\ipykernel_16436\\1872005112.py:254: RuntimeWarning: invalid value encountered in scalar divide\n",
      "  f1=2*precision*recall/(precision+recall)\n"
     ]
    },
    {
     "name": "stdout",
     "output_type": "stream",
     "text": [
      "Processing SCCO...\n",
      "Processing RF...\n",
      "Processing BXMT...\n",
      "Processing ZION...\n",
      "Processing TXN...\n",
      "Processing ARRY...\n"
     ]
    },
    {
     "name": "stderr",
     "output_type": "stream",
     "text": [
      "C:\\Users\\hilun\\AppData\\Local\\Temp\\ipykernel_16436\\1872005112.py:252: RuntimeWarning: invalid value encountered in scalar divide\n",
      "  precision=true_p/(true_p+false_p)\n",
      "C:\\Users\\hilun\\AppData\\Local\\Temp\\ipykernel_16436\\1872005112.py:253: RuntimeWarning: invalid value encountered in scalar divide\n",
      "  recall=true_p/(true_p+false_neg)\n"
     ]
    },
    {
     "name": "stdout",
     "output_type": "stream",
     "text": [
      "Processing BYD...\n",
      "Processing HXL...\n",
      "Processing DAL...\n",
      "Processing VLO...\n",
      "Processing FYBR...\n"
     ]
    },
    {
     "name": "stderr",
     "output_type": "stream",
     "text": [
      "C:\\Users\\hilun\\AppData\\Local\\Temp\\ipykernel_16436\\1872005112.py:252: RuntimeWarning: invalid value encountered in scalar divide\n",
      "  precision=true_p/(true_p+false_p)\n"
     ]
    },
    {
     "name": "stdout",
     "output_type": "stream",
     "text": [
      "Processing ALK...\n",
      "Processing RHI...\n",
      "Processing NEOG...\n"
     ]
    },
    {
     "name": "stderr",
     "output_type": "stream",
     "text": [
      "C:\\Users\\hilun\\AppData\\Local\\Temp\\ipykernel_16436\\1872005112.py:252: RuntimeWarning: invalid value encountered in scalar divide\n",
      "  precision=true_p/(true_p+false_p)\n"
     ]
    },
    {
     "name": "stdout",
     "output_type": "stream",
     "text": [
      "Processing SKY...\n",
      "Processing L...\n",
      "Processing CNC...\n",
      "Processing EURN...\n",
      "Processing GXO...\n",
      "Processing FCN...\n"
     ]
    },
    {
     "name": "stderr",
     "output_type": "stream",
     "text": [
      "C:\\Users\\hilun\\AppData\\Local\\Temp\\ipykernel_16436\\1872005112.py:254: RuntimeWarning: invalid value encountered in scalar divide\n",
      "  f1=2*precision*recall/(precision+recall)\n"
     ]
    },
    {
     "name": "stdout",
     "output_type": "stream",
     "text": [
      "Processing DXCM...\n",
      "Processing CBZ...\n",
      "Processing ACA...\n",
      "Processing AS...\n"
     ]
    },
    {
     "name": "stderr",
     "output_type": "stream",
     "text": [
      "C:\\Users\\hilun\\AppData\\Local\\Temp\\ipykernel_16436\\1872005112.py:252: RuntimeWarning: invalid value encountered in scalar divide\n",
      "  precision=true_p/(true_p+false_p)\n",
      "C:\\Users\\hilun\\AppData\\Local\\Temp\\ipykernel_16436\\1872005112.py:253: RuntimeWarning: invalid value encountered in scalar divide\n",
      "  recall=true_p/(true_p+false_neg)\n"
     ]
    },
    {
     "name": "stdout",
     "output_type": "stream",
     "text": [
      "Processing UBER...\n",
      "Processing AIRC...\n"
     ]
    },
    {
     "name": "stderr",
     "output_type": "stream",
     "text": [
      "C:\\Users\\hilun\\AppData\\Local\\Temp\\ipykernel_16436\\1872005112.py:252: RuntimeWarning: invalid value encountered in scalar divide\n",
      "  precision=true_p/(true_p+false_p)\n",
      "C:\\Users\\hilun\\AppData\\Local\\Temp\\ipykernel_16436\\1872005112.py:253: RuntimeWarning: invalid value encountered in scalar divide\n",
      "  recall=true_p/(true_p+false_neg)\n"
     ]
    },
    {
     "name": "stdout",
     "output_type": "stream",
     "text": [
      "Processing TAP...\n",
      "Processing SPGI...\n",
      "Processing FWONA...\n"
     ]
    },
    {
     "name": "stderr",
     "output_type": "stream",
     "text": [
      "C:\\Users\\hilun\\AppData\\Local\\Temp\\ipykernel_16436\\1872005112.py:254: RuntimeWarning: invalid value encountered in scalar divide\n",
      "  f1=2*precision*recall/(precision+recall)\n"
     ]
    },
    {
     "name": "stdout",
     "output_type": "stream",
     "text": [
      "Processing UAA...\n",
      "Processing J...\n",
      "Processing GWW...\n"
     ]
    },
    {
     "name": "stderr",
     "output_type": "stream",
     "text": [
      "C:\\Users\\hilun\\AppData\\Local\\Temp\\ipykernel_16436\\1872005112.py:254: RuntimeWarning: invalid value encountered in scalar divide\n",
      "  f1=2*precision*recall/(precision+recall)\n"
     ]
    },
    {
     "name": "stdout",
     "output_type": "stream",
     "text": [
      "Processing RUN...\n",
      "Processing LECO...\n",
      "Processing MSTR...\n",
      "Processing CRWD...\n",
      "Processing HST...\n",
      "Processing ILMN...\n",
      "Processing FR...\n",
      "Processing BJ...\n",
      "Processing TMDX...\n",
      "Processing FI...\n",
      "Processing ELV...\n",
      "Processing PCG...\n",
      "Processing DOV...\n",
      "Processing NCLH...\n",
      "Processing SHW...\n",
      "Processing CARR...\n",
      "Processing FFIV...\n",
      "Processing CYBR...\n",
      "Processing ACIW...\n",
      "Processing FXA...\n",
      "Skipping FXA: No data found.\n",
      "Processing ICVT...\n",
      "Skipping ICVT: No data found.\n",
      "Processing PNW...\n",
      "Processing SUM...\n"
     ]
    },
    {
     "name": "stderr",
     "output_type": "stream",
     "text": [
      "C:\\Users\\hilun\\AppData\\Local\\Temp\\ipykernel_16436\\1872005112.py:252: RuntimeWarning: invalid value encountered in scalar divide\n",
      "  precision=true_p/(true_p+false_p)\n",
      "C:\\Users\\hilun\\AppData\\Local\\Temp\\ipykernel_16436\\1872005112.py:253: RuntimeWarning: invalid value encountered in scalar divide\n",
      "  recall=true_p/(true_p+false_neg)\n"
     ]
    },
    {
     "name": "stdout",
     "output_type": "stream",
     "text": [
      "Processing CMI...\n",
      "Processing IT...\n",
      "Processing ITT...\n",
      "Processing BRBR...\n"
     ]
    },
    {
     "name": "stderr",
     "output_type": "stream",
     "text": [
      "C:\\Users\\hilun\\AppData\\Local\\Temp\\ipykernel_16436\\1872005112.py:254: RuntimeWarning: invalid value encountered in scalar divide\n",
      "  f1=2*precision*recall/(precision+recall)\n"
     ]
    },
    {
     "name": "stdout",
     "output_type": "stream",
     "text": [
      "Processing FAST...\n"
     ]
    },
    {
     "name": "stderr",
     "output_type": "stream",
     "text": [
      "C:\\Users\\hilun\\AppData\\Local\\Temp\\ipykernel_16436\\1872005112.py:252: RuntimeWarning: invalid value encountered in scalar divide\n",
      "  precision=true_p/(true_p+false_p)\n"
     ]
    },
    {
     "name": "stdout",
     "output_type": "stream",
     "text": [
      "Processing CTAS...\n",
      "Processing DG...\n",
      "Processing EVRG...\n",
      "Processing GBDC...\n",
      "Processing QXO...\n",
      "Processing NJR...\n",
      "Processing COTY...\n",
      "Processing MS...\n",
      "Processing DLO...\n"
     ]
    },
    {
     "name": "stderr",
     "output_type": "stream",
     "text": [
      "C:\\Users\\hilun\\AppData\\Local\\Temp\\ipykernel_16436\\1872005112.py:253: RuntimeWarning: invalid value encountered in scalar divide\n",
      "  recall=true_p/(true_p+false_neg)\n"
     ]
    },
    {
     "name": "stdout",
     "output_type": "stream",
     "text": [
      "Processing GE...\n",
      "Processing OTTR...\n",
      "Processing PIPR...\n",
      "Processing WTFC...\n",
      "Processing MEDP...\n",
      "Processing UGI...\n",
      "Processing OVV...\n",
      "Processing NE...\n",
      "Processing VICR...\n",
      "Processing REXR...\n",
      "Processing SN...\n"
     ]
    },
    {
     "name": "stderr",
     "output_type": "stream",
     "text": [
      "C:\\Users\\hilun\\AppData\\Local\\Temp\\ipykernel_16436\\1872005112.py:252: RuntimeWarning: invalid value encountered in scalar divide\n",
      "  precision=true_p/(true_p+false_p)\n"
     ]
    },
    {
     "name": "stdout",
     "output_type": "stream",
     "text": [
      "Processing ETN...\n",
      "Processing DGX...\n",
      "Processing REG...\n",
      "Processing FICO...\n",
      "Processing PSA...\n",
      "Processing SRE...\n",
      "Processing CW...\n",
      "Processing FELE...\n"
     ]
    },
    {
     "name": "stderr",
     "output_type": "stream",
     "text": [
      "C:\\Users\\hilun\\AppData\\Local\\Temp\\ipykernel_16436\\1872005112.py:254: RuntimeWarning: invalid value encountered in scalar divide\n",
      "  f1=2*precision*recall/(precision+recall)\n"
     ]
    },
    {
     "name": "stdout",
     "output_type": "stream",
     "text": [
      "Processing AR...\n"
     ]
    },
    {
     "name": "stderr",
     "output_type": "stream",
     "text": [
      "C:\\Users\\hilun\\AppData\\Local\\Temp\\ipykernel_16436\\1872005112.py:254: RuntimeWarning: invalid value encountered in scalar divide\n",
      "  f1=2*precision*recall/(precision+recall)\n"
     ]
    },
    {
     "name": "stdout",
     "output_type": "stream",
     "text": [
      "Processing EQH...\n",
      "Processing PFE...\n",
      "Processing USO...\n",
      "Skipping USO: No data found.\n",
      "Processing PKG...\n",
      "Processing INFA...\n",
      "Processing ACM...\n",
      "Processing META...\n",
      "Processing GRMN...\n"
     ]
    },
    {
     "name": "stderr",
     "output_type": "stream",
     "text": [
      "C:\\Users\\hilun\\AppData\\Local\\Temp\\ipykernel_16436\\1872005112.py:254: RuntimeWarning: invalid value encountered in scalar divide\n",
      "  f1=2*precision*recall/(precision+recall)\n"
     ]
    },
    {
     "name": "stdout",
     "output_type": "stream",
     "text": [
      "Processing KO...\n",
      "Processing UHS...\n"
     ]
    },
    {
     "name": "stderr",
     "output_type": "stream",
     "text": [
      "C:\\Users\\hilun\\AppData\\Local\\Temp\\ipykernel_16436\\1872005112.py:252: RuntimeWarning: invalid value encountered in scalar divide\n",
      "  precision=true_p/(true_p+false_p)\n"
     ]
    },
    {
     "name": "stdout",
     "output_type": "stream",
     "text": [
      "Processing PR...\n"
     ]
    },
    {
     "name": "stderr",
     "output_type": "stream",
     "text": [
      "C:\\Users\\hilun\\AppData\\Local\\Temp\\ipykernel_16436\\1872005112.py:252: RuntimeWarning: invalid value encountered in scalar divide\n",
      "  precision=true_p/(true_p+false_p)\n",
      "C:\\Users\\hilun\\AppData\\Local\\Temp\\ipykernel_16436\\1872005112.py:253: RuntimeWarning: invalid value encountered in scalar divide\n",
      "  recall=true_p/(true_p+false_neg)\n"
     ]
    },
    {
     "name": "stdout",
     "output_type": "stream",
     "text": [
      "Processing SHLS...\n",
      "Processing BC...\n",
      "Processing FLNC...\n",
      "Processing DHI...\n",
      "Processing TSCO...\n",
      "Processing VKTX...\n",
      "Processing LBRDA...\n",
      "Processing STVN...\n",
      "Processing REZ...\n"
     ]
    },
    {
     "name": "stderr",
     "output_type": "stream",
     "text": [
      "C:\\Users\\hilun\\anaconda3\\Lib\\site-packages\\sklearn\\metrics\\_regression.py:1187: UndefinedMetricWarning: R^2 score is not well-defined with less than two samples.\n",
      "  warnings.warn(msg, UndefinedMetricWarning)\n",
      "C:\\Users\\hilun\\AppData\\Local\\Temp\\ipykernel_16436\\1872005112.py:252: RuntimeWarning: invalid value encountered in scalar divide\n",
      "  precision=true_p/(true_p+false_p)\n",
      "C:\\Users\\hilun\\AppData\\Local\\Temp\\ipykernel_16436\\1872005112.py:253: RuntimeWarning: invalid value encountered in scalar divide\n",
      "  recall=true_p/(true_p+false_neg)\n"
     ]
    },
    {
     "name": "stdout",
     "output_type": "stream",
     "text": [
      "Processing GKOS...\n",
      "Processing THO...\n",
      "Processing M...\n",
      "Processing ETSY...\n",
      "Processing BIL...\n"
     ]
    },
    {
     "name": "stderr",
     "output_type": "stream",
     "text": [
      "C:\\Users\\hilun\\AppData\\Local\\Temp\\ipykernel_16436\\1872005112.py:252: RuntimeWarning: invalid value encountered in scalar divide\n",
      "  precision=true_p/(true_p+false_p)\n",
      "C:\\Users\\hilun\\AppData\\Local\\Temp\\ipykernel_16436\\1872005112.py:253: RuntimeWarning: invalid value encountered in scalar divide\n",
      "  recall=true_p/(true_p+false_neg)\n"
     ]
    },
    {
     "name": "stdout",
     "output_type": "stream",
     "text": [
      "Processing GOOGL...\n",
      "Processing PSTG...\n",
      "Processing NWSA...\n",
      "Processing WIRE...\n"
     ]
    },
    {
     "name": "stderr",
     "output_type": "stream",
     "text": [
      "C:\\Users\\hilun\\AppData\\Local\\Temp\\ipykernel_16436\\1872005112.py:252: RuntimeWarning: invalid value encountered in scalar divide\n",
      "  precision=true_p/(true_p+false_p)\n",
      "C:\\Users\\hilun\\AppData\\Local\\Temp\\ipykernel_16436\\1872005112.py:253: RuntimeWarning: invalid value encountered in scalar divide\n",
      "  recall=true_p/(true_p+false_neg)\n"
     ]
    },
    {
     "name": "stdout",
     "output_type": "stream",
     "text": [
      "Processing TRNO...\n",
      "Processing PANW...\n",
      "Processing COLM...\n",
      "Processing IMVT...\n",
      "Processing HPQ...\n",
      "Processing MET...\n",
      "Processing SWN...\n"
     ]
    },
    {
     "name": "stderr",
     "output_type": "stream",
     "text": [
      "C:\\Users\\hilun\\AppData\\Local\\Temp\\ipykernel_16436\\1872005112.py:252: RuntimeWarning: invalid value encountered in scalar divide\n",
      "  precision=true_p/(true_p+false_p)\n"
     ]
    },
    {
     "name": "stdout",
     "output_type": "stream",
     "text": [
      "Processing PRGO...\n",
      "Processing APD...\n",
      "Processing AVTR...\n",
      "Processing HII...\n",
      "Processing TGT...\n",
      "Processing CZR...\n",
      "Processing RARE...\n",
      "Processing QTWO...\n",
      "Processing XOM...\n",
      "Processing SNOW...\n",
      "Processing CXM...\n",
      "Processing LLYVA...\n"
     ]
    },
    {
     "name": "stderr",
     "output_type": "stream",
     "text": [
      "C:\\Users\\hilun\\AppData\\Local\\Temp\\ipykernel_16436\\1872005112.py:252: RuntimeWarning: invalid value encountered in scalar divide\n",
      "  precision=true_p/(true_p+false_p)\n",
      "C:\\Users\\hilun\\AppData\\Local\\Temp\\ipykernel_16436\\1872005112.py:253: RuntimeWarning: invalid value encountered in scalar divide\n",
      "  recall=true_p/(true_p+false_neg)\n"
     ]
    },
    {
     "name": "stdout",
     "output_type": "stream",
     "text": [
      "Processing HSY...\n",
      "Processing ALGM...\n",
      "Processing KNX...\n"
     ]
    },
    {
     "name": "stderr",
     "output_type": "stream",
     "text": [
      "C:\\Users\\hilun\\AppData\\Local\\Temp\\ipykernel_16436\\1872005112.py:254: RuntimeWarning: invalid value encountered in scalar divide\n",
      "  f1=2*precision*recall/(precision+recall)\n"
     ]
    },
    {
     "name": "stdout",
     "output_type": "stream",
     "text": [
      "Processing WMS...\n",
      "Processing SWTX...\n",
      "Processing PEG...\n",
      "Processing ADI...\n",
      "Processing BOKF...\n",
      "Processing DKNG...\n",
      "Processing CCEP...\n",
      "Processing ESGR...\n"
     ]
    },
    {
     "name": "stderr",
     "output_type": "stream",
     "text": [
      "C:\\Users\\hilun\\AppData\\Local\\Temp\\ipykernel_16436\\1872005112.py:253: RuntimeWarning: invalid value encountered in scalar divide\n",
      "  recall=true_p/(true_p+false_neg)\n"
     ]
    },
    {
     "name": "stdout",
     "output_type": "stream",
     "text": [
      "Processing SRCL...\n"
     ]
    },
    {
     "name": "stderr",
     "output_type": "stream",
     "text": [
      "C:\\Users\\hilun\\AppData\\Local\\Temp\\ipykernel_16436\\1872005112.py:253: RuntimeWarning: invalid value encountered in scalar divide\n",
      "  recall=true_p/(true_p+false_neg)\n"
     ]
    },
    {
     "name": "stdout",
     "output_type": "stream",
     "text": [
      "Processing TPR...\n",
      "Processing MTH...\n",
      "Processing CAR...\n",
      "Processing SPSC...\n",
      "Processing CSWI...\n",
      "Processing MKTX...\n",
      "Processing BMRN...\n"
     ]
    },
    {
     "name": "stderr",
     "output_type": "stream",
     "text": [
      "C:\\Users\\hilun\\AppData\\Local\\Temp\\ipykernel_16436\\1872005112.py:254: RuntimeWarning: invalid value encountered in scalar divide\n",
      "  f1=2*precision*recall/(precision+recall)\n"
     ]
    },
    {
     "name": "stdout",
     "output_type": "stream",
     "text": [
      "Processing SMPL...\n",
      "Processing AEIS...\n"
     ]
    },
    {
     "name": "stderr",
     "output_type": "stream",
     "text": [
      "C:\\Users\\hilun\\AppData\\Local\\Temp\\ipykernel_16436\\1872005112.py:253: RuntimeWarning: invalid value encountered in scalar divide\n",
      "  recall=true_p/(true_p+false_neg)\n"
     ]
    },
    {
     "name": "stdout",
     "output_type": "stream",
     "text": [
      "Processing RRR...\n",
      "Processing TSEM...\n",
      "Processing AMKR...\n",
      "Processing LII...\n",
      "Processing COIN...\n",
      "Processing EPR...\n",
      "Processing TXRH...\n",
      "Processing NTRA...\n",
      "Processing CSX...\n",
      "Processing CWST...\n",
      "Processing TTEK...\n",
      "Processing AXTA...\n",
      "Processing EVH...\n",
      "Processing MSI...\n",
      "Processing UCBI...\n"
     ]
    },
    {
     "name": "stderr",
     "output_type": "stream",
     "text": [
      "C:\\Users\\hilun\\AppData\\Local\\Temp\\ipykernel_16436\\1872005112.py:252: RuntimeWarning: invalid value encountered in scalar divide\n",
      "  precision=true_p/(true_p+false_p)\n"
     ]
    },
    {
     "name": "stdout",
     "output_type": "stream",
     "text": [
      "Processing IPGP...\n",
      "Processing AIG...\n",
      "Processing ADBE...\n",
      "Processing HQY...\n",
      "Processing CTSH...\n",
      "Processing FUN...\n"
     ]
    },
    {
     "name": "stderr",
     "output_type": "stream",
     "text": [
      "C:\\Users\\hilun\\AppData\\Local\\Temp\\ipykernel_16436\\1872005112.py:252: RuntimeWarning: invalid value encountered in scalar divide\n",
      "  precision=true_p/(true_p+false_p)\n",
      "C:\\Users\\hilun\\AppData\\Local\\Temp\\ipykernel_16436\\1872005112.py:253: RuntimeWarning: invalid value encountered in scalar divide\n",
      "  recall=true_p/(true_p+false_neg)\n"
     ]
    },
    {
     "name": "stdout",
     "output_type": "stream",
     "text": [
      "Processing NOC...\n",
      "Processing SON...\n",
      "Processing ZS...\n",
      "Processing IOVA...\n",
      "Processing BCC...\n",
      "Processing WLK...\n",
      "Processing FHN...\n",
      "Processing CMC...\n",
      "Processing PXD...\n",
      "Processing FOUR...\n",
      "Processing MRNA...\n",
      "Processing ELF...\n",
      "Processing X...\n",
      "Processing WRK...\n",
      "Processing CMBT...\n",
      "Skipping CMBT: No data found.\n",
      "Processing H...\n",
      "Processing SNV...\n",
      "Processing RTX...\n",
      "Processing PCTY...\n",
      "Processing LH...\n",
      "Processing WM...\n",
      "Processing DUOL...\n",
      "Processing WAB...\n",
      "Processing LYB...\n",
      "Processing WU...\n",
      "Processing ELS...\n",
      "Processing RHP...\n",
      "Processing GFS...\n",
      "Processing O...\n",
      "Processing AEE...\n",
      "Processing KR...\n",
      "Processing UI...\n",
      "Processing RVTY...\n",
      "Processing GPK...\n",
      "Processing OLLI...\n",
      "Processing CNX...\n"
     ]
    },
    {
     "name": "stderr",
     "output_type": "stream",
     "text": [
      "C:\\Users\\hilun\\AppData\\Local\\Temp\\ipykernel_16436\\1872005112.py:254: RuntimeWarning: invalid value encountered in scalar divide\n",
      "  f1=2*precision*recall/(precision+recall)\n"
     ]
    },
    {
     "name": "stdout",
     "output_type": "stream",
     "text": [
      "Processing SPR...\n"
     ]
    },
    {
     "name": "stderr",
     "output_type": "stream",
     "text": [
      "C:\\Users\\hilun\\AppData\\Local\\Temp\\ipykernel_16436\\1872005112.py:252: RuntimeWarning: invalid value encountered in scalar divide\n",
      "  precision=true_p/(true_p+false_p)\n"
     ]
    },
    {
     "name": "stdout",
     "output_type": "stream",
     "text": [
      "Processing HHH...\n"
     ]
    },
    {
     "name": "stderr",
     "output_type": "stream",
     "text": [
      "C:\\Users\\hilun\\AppData\\Local\\Temp\\ipykernel_16436\\1872005112.py:253: RuntimeWarning: invalid value encountered in scalar divide\n",
      "  recall=true_p/(true_p+false_neg)\n"
     ]
    },
    {
     "name": "stdout",
     "output_type": "stream",
     "text": [
      "Processing ENSG...\n",
      "Processing HOLX...\n",
      "Processing CSL...\n",
      "Processing MAIN...\n",
      "Processing ELAN...\n"
     ]
    },
    {
     "name": "stderr",
     "output_type": "stream",
     "text": [
      "C:\\Users\\hilun\\AppData\\Local\\Temp\\ipykernel_16436\\1872005112.py:252: RuntimeWarning: invalid value encountered in scalar divide\n",
      "  precision=true_p/(true_p+false_p)\n"
     ]
    },
    {
     "name": "stdout",
     "output_type": "stream",
     "text": [
      "Processing HOG...\n",
      "Processing MO...\n",
      "Processing TECH...\n",
      "Processing JLL...\n",
      "Processing PFG...\n",
      "Processing DE...\n",
      "Processing KD...\n"
     ]
    },
    {
     "name": "stderr",
     "output_type": "stream",
     "text": [
      "C:\\Users\\hilun\\AppData\\Local\\Temp\\ipykernel_16436\\1872005112.py:253: RuntimeWarning: invalid value encountered in scalar divide\n",
      "  recall=true_p/(true_p+false_neg)\n"
     ]
    },
    {
     "name": "stdout",
     "output_type": "stream",
     "text": [
      "Processing RMBS...\n",
      "Processing KFY...\n",
      "Processing TDG...\n",
      "Processing WMT...\n",
      "Processing AMR...\n",
      "Processing CDW...\n",
      "Processing MQ...\n"
     ]
    },
    {
     "name": "stderr",
     "output_type": "stream",
     "text": [
      "C:\\Users\\hilun\\AppData\\Local\\Temp\\ipykernel_16436\\1872005112.py:252: RuntimeWarning: invalid value encountered in scalar divide\n",
      "  precision=true_p/(true_p+false_p)\n"
     ]
    },
    {
     "name": "stdout",
     "output_type": "stream",
     "text": [
      "Processing UDR...\n",
      "Processing ATI...\n",
      "Processing GT...\n",
      "Processing ENS...\n",
      "Processing FTI...\n",
      "Processing NTAP...\n",
      "Processing FERG...\n",
      "Processing PG...\n",
      "Processing OLED...\n",
      "Processing GPC...\n",
      "Processing TDW...\n",
      "Processing CACC...\n",
      "Processing MBLY...\n",
      "Processing RNA...\n",
      "Processing FLS...\n",
      "Processing FTLS...\n"
     ]
    },
    {
     "name": "stderr",
     "output_type": "stream",
     "text": [
      "C:\\Users\\hilun\\anaconda3\\Lib\\site-packages\\xgboost\\core.py:158: UserWarning: [08:17:59] WARNING: D:\\bld\\xgboost-split_1737531311373\\work\\src\\common\\error_msg.cc:52: Empty dataset at worker: 0\n",
      "  warnings.warn(smsg, UserWarning)\n",
      "C:\\Users\\hilun\\anaconda3\\Lib\\site-packages\\sklearn\\metrics\\_regression.py:1187: UndefinedMetricWarning: R^2 score is not well-defined with less than two samples.\n",
      "  warnings.warn(msg, UndefinedMetricWarning)\n",
      "C:\\Users\\hilun\\AppData\\Local\\Temp\\ipykernel_16436\\1872005112.py:252: RuntimeWarning: invalid value encountered in scalar divide\n",
      "  precision=true_p/(true_p+false_p)\n",
      "C:\\Users\\hilun\\AppData\\Local\\Temp\\ipykernel_16436\\1872005112.py:253: RuntimeWarning: invalid value encountered in scalar divide\n",
      "  recall=true_p/(true_p+false_neg)\n"
     ]
    },
    {
     "name": "stdout",
     "output_type": "stream",
     "text": [
      "Processing MNST...\n",
      "Processing AAL...\n",
      "Processing BECN...\n",
      "Processing GLW...\n",
      "Processing IBP...\n",
      "Processing MAT...\n",
      "Processing CRDO...\n",
      "Processing GWRE...\n",
      "Processing DPZ...\n",
      "Processing AXS...\n",
      "Processing BAC...\n",
      "Processing INSP...\n",
      "Processing WIX...\n"
     ]
    },
    {
     "name": "stderr",
     "output_type": "stream",
     "text": [
      "C:\\Users\\hilun\\AppData\\Local\\Temp\\ipykernel_16436\\1872005112.py:254: RuntimeWarning: invalid value encountered in scalar divide\n",
      "  f1=2*precision*recall/(precision+recall)\n"
     ]
    },
    {
     "name": "stdout",
     "output_type": "stream",
     "text": [
      "Processing ASGN...\n",
      "Processing VPC...\n",
      "Skipping VPC: No data found.\n",
      "Processing UA...\n",
      "Processing HP...\n"
     ]
    },
    {
     "name": "stderr",
     "output_type": "stream",
     "text": [
      "C:\\Users\\hilun\\AppData\\Local\\Temp\\ipykernel_16436\\1872005112.py:254: RuntimeWarning: invalid value encountered in scalar divide\n",
      "  f1=2*precision*recall/(precision+recall)\n"
     ]
    },
    {
     "name": "stdout",
     "output_type": "stream",
     "text": [
      "Processing LFUS...\n",
      "Processing NSIT...\n",
      "Processing DD...\n",
      "Processing SFBS...\n"
     ]
    },
    {
     "name": "stderr",
     "output_type": "stream",
     "text": [
      "C:\\Users\\hilun\\AppData\\Local\\Temp\\ipykernel_16436\\1872005112.py:254: RuntimeWarning: invalid value encountered in scalar divide\n",
      "  f1=2*precision*recall/(precision+recall)\n"
     ]
    },
    {
     "name": "stdout",
     "output_type": "stream",
     "text": [
      "Processing BAP...\n",
      "Processing ABBV...\n",
      "Processing CCCS...\n",
      "Processing ABNB...\n",
      "Processing TTWO...\n",
      "Processing DLR...\n",
      "Processing WDFC...\n"
     ]
    },
    {
     "name": "stderr",
     "output_type": "stream",
     "text": [
      "C:\\Users\\hilun\\AppData\\Local\\Temp\\ipykernel_16436\\1872005112.py:252: RuntimeWarning: invalid value encountered in scalar divide\n",
      "  precision=true_p/(true_p+false_p)\n",
      "C:\\Users\\hilun\\AppData\\Local\\Temp\\ipykernel_16436\\1872005112.py:253: RuntimeWarning: invalid value encountered in scalar divide\n",
      "  recall=true_p/(true_p+false_neg)\n"
     ]
    },
    {
     "name": "stdout",
     "output_type": "stream",
     "text": [
      "Processing ARCC...\n"
     ]
    },
    {
     "name": "stderr",
     "output_type": "stream",
     "text": [
      "C:\\Users\\hilun\\AppData\\Local\\Temp\\ipykernel_16436\\1872005112.py:254: RuntimeWarning: invalid value encountered in scalar divide\n",
      "  f1=2*precision*recall/(precision+recall)\n"
     ]
    },
    {
     "name": "stdout",
     "output_type": "stream",
     "text": [
      "Processing VRTX...\n",
      "Processing BCIM...\n",
      "Skipping BCIM: No data found.\n",
      "Processing WST...\n"
     ]
    },
    {
     "name": "stderr",
     "output_type": "stream",
     "text": [
      "C:\\Users\\hilun\\AppData\\Local\\Temp\\ipykernel_16436\\1872005112.py:254: RuntimeWarning: invalid value encountered in scalar divide\n",
      "  f1=2*precision*recall/(precision+recall)\n"
     ]
    },
    {
     "name": "stdout",
     "output_type": "stream",
     "text": [
      "Processing FAF...\n",
      "Processing YUMC...\n",
      "Processing RBC...\n",
      "Processing VVV...\n",
      "Processing HLNE...\n",
      "Processing GMED...\n",
      "Processing NVMI...\n",
      "Processing NVT...\n",
      "Processing WCC...\n",
      "Processing EXPE...\n",
      "Processing EQIX...\n",
      "Processing WCN...\n",
      "Processing MTB...\n",
      "Processing VFS...\n"
     ]
    },
    {
     "name": "stderr",
     "output_type": "stream",
     "text": [
      "C:\\Users\\hilun\\AppData\\Local\\Temp\\ipykernel_16436\\1872005112.py:252: RuntimeWarning: invalid value encountered in scalar divide\n",
      "  precision=true_p/(true_p+false_p)\n"
     ]
    },
    {
     "name": "stdout",
     "output_type": "stream",
     "text": [
      "Processing MTSI...\n",
      "Processing PAYC...\n",
      "Processing LKQ...\n",
      "Processing TJX...\n",
      "Processing OHI...\n",
      "Processing URBN...\n",
      "Processing GH...\n",
      "Processing GLD...\n"
     ]
    },
    {
     "name": "stderr",
     "output_type": "stream",
     "text": [
      "C:\\Users\\hilun\\AppData\\Local\\Temp\\ipykernel_16436\\1872005112.py:252: RuntimeWarning: invalid value encountered in scalar divide\n",
      "  precision=true_p/(true_p+false_p)\n"
     ]
    },
    {
     "name": "stdout",
     "output_type": "stream",
     "text": [
      "Processing NFE...\n",
      "Processing FUL...\n",
      "Processing DFH...\n",
      "Processing ORLY...\n",
      "Processing CHKP...\n",
      "Processing KEYS...\n",
      "Processing CINF...\n",
      "Processing COP...\n",
      "Processing BCO...\n",
      "Processing RDNT...\n",
      "Processing JKHY...\n",
      "Processing ACHC...\n"
     ]
    },
    {
     "name": "stderr",
     "output_type": "stream",
     "text": [
      "C:\\Users\\hilun\\AppData\\Local\\Temp\\ipykernel_16436\\1872005112.py:252: RuntimeWarning: invalid value encountered in scalar divide\n",
      "  precision=true_p/(true_p+false_p)\n"
     ]
    },
    {
     "name": "stdout",
     "output_type": "stream",
     "text": [
      "Processing WTRG...\n",
      "Processing NBIX...\n",
      "Processing NNN...\n",
      "Processing MSA...\n",
      "Processing CNH...\n",
      "Processing BKR...\n",
      "Processing CNM...\n",
      "Processing DOC...\n",
      "Processing IVZ...\n",
      "Processing SSD...\n",
      "Processing ED...\n",
      "Processing MDU...\n",
      "Processing KWR...\n",
      "Processing IQV...\n",
      "Processing PRCT...\n",
      "Processing JBL...\n"
     ]
    },
    {
     "name": "stderr",
     "output_type": "stream",
     "text": [
      "C:\\Users\\hilun\\AppData\\Local\\Temp\\ipykernel_16436\\1872005112.py:254: RuntimeWarning: invalid value encountered in scalar divide\n",
      "  f1=2*precision*recall/(precision+recall)\n"
     ]
    },
    {
     "name": "stdout",
     "output_type": "stream",
     "text": [
      "Processing BILL...\n"
     ]
    },
    {
     "name": "stderr",
     "output_type": "stream",
     "text": [
      "C:\\Users\\hilun\\AppData\\Local\\Temp\\ipykernel_16436\\1872005112.py:252: RuntimeWarning: invalid value encountered in scalar divide\n",
      "  precision=true_p/(true_p+false_p)\n"
     ]
    },
    {
     "name": "stdout",
     "output_type": "stream",
     "text": [
      "Processing BURL...\n",
      "Processing IRM...\n",
      "Processing NTNX...\n",
      "Processing RVMD...\n",
      "Processing DLTR...\n",
      "Processing VRT...\n",
      "Processing AVB...\n",
      "Processing DLB...\n",
      "Processing PPC...\n",
      "Processing ARW...\n",
      "Processing AME...\n",
      "Processing AFRM...\n",
      "Processing CELH...\n",
      "Processing ASTS...\n",
      "Processing INGR...\n",
      "Processing CROX...\n",
      "Processing MRO...\n",
      "Processing DIOD...\n",
      "Processing MATX...\n",
      "Processing WBS...\n",
      "Processing CLVT...\n",
      "Processing VCTR...\n",
      "Processing AWI...\n",
      "Processing EXPO...\n",
      "Processing KKR...\n",
      "Processing PVH...\n",
      "Processing SIG...\n",
      "Processing FXB...\n",
      "Skipping FXB: No data found.\n",
      "Processing BIRK...\n"
     ]
    },
    {
     "name": "stderr",
     "output_type": "stream",
     "text": [
      "C:\\Users\\hilun\\AppData\\Local\\Temp\\ipykernel_16436\\1872005112.py:252: RuntimeWarning: invalid value encountered in scalar divide\n",
      "  precision=true_p/(true_p+false_p)\n",
      "C:\\Users\\hilun\\AppData\\Local\\Temp\\ipykernel_16436\\1872005112.py:253: RuntimeWarning: invalid value encountered in scalar divide\n",
      "  recall=true_p/(true_p+false_neg)\n"
     ]
    },
    {
     "name": "stdout",
     "output_type": "stream",
     "text": [
      "Processing BGC...\n",
      "Processing AGO...\n"
     ]
    },
    {
     "name": "stderr",
     "output_type": "stream",
     "text": [
      "C:\\Users\\hilun\\AppData\\Local\\Temp\\ipykernel_16436\\1872005112.py:252: RuntimeWarning: invalid value encountered in scalar divide\n",
      "  precision=true_p/(true_p+false_p)\n"
     ]
    },
    {
     "name": "stdout",
     "output_type": "stream",
     "text": [
      "Processing LFST...\n",
      "Processing THG...\n",
      "Processing WHD...\n",
      "Processing PFSI...\n"
     ]
    },
    {
     "name": "stderr",
     "output_type": "stream",
     "text": [
      "C:\\Users\\hilun\\AppData\\Local\\Temp\\ipykernel_16436\\1872005112.py:252: RuntimeWarning: invalid value encountered in scalar divide\n",
      "  precision=true_p/(true_p+false_p)\n"
     ]
    },
    {
     "name": "stdout",
     "output_type": "stream",
     "text": [
      "Processing WTW...\n",
      "Processing CRUS...\n",
      "Processing FLEX...\n",
      "Processing TKO...\n"
     ]
    },
    {
     "name": "stderr",
     "output_type": "stream",
     "text": [
      "C:\\Users\\hilun\\AppData\\Local\\Temp\\ipykernel_16436\\1872005112.py:254: RuntimeWarning: invalid value encountered in scalar divide\n",
      "  f1=2*precision*recall/(precision+recall)\n"
     ]
    },
    {
     "name": "stdout",
     "output_type": "stream",
     "text": [
      "Processing ZG...\n",
      "Processing SPG...\n",
      "Processing GRAB...\n",
      "Processing BG...\n",
      "Processing MGY...\n"
     ]
    },
    {
     "name": "stderr",
     "output_type": "stream",
     "text": [
      "C:\\Users\\hilun\\AppData\\Local\\Temp\\ipykernel_16436\\1872005112.py:254: RuntimeWarning: invalid value encountered in scalar divide\n",
      "  f1=2*precision*recall/(precision+recall)\n"
     ]
    },
    {
     "name": "stdout",
     "output_type": "stream",
     "text": [
      "Processing NOG...\n",
      "Processing FRO...\n",
      "Processing FFIN...\n",
      "Processing IRT...\n",
      "Processing WK...\n"
     ]
    },
    {
     "name": "stderr",
     "output_type": "stream",
     "text": [
      "C:\\Users\\hilun\\AppData\\Local\\Temp\\ipykernel_16436\\1872005112.py:254: RuntimeWarning: invalid value encountered in scalar divide\n",
      "  f1=2*precision*recall/(precision+recall)\n"
     ]
    },
    {
     "name": "stdout",
     "output_type": "stream",
     "text": [
      "Processing NWE...\n",
      "Processing PWSC...\n"
     ]
    },
    {
     "name": "stderr",
     "output_type": "stream",
     "text": [
      "C:\\Users\\hilun\\AppData\\Local\\Temp\\ipykernel_16436\\1872005112.py:253: RuntimeWarning: invalid value encountered in scalar divide\n",
      "  recall=true_p/(true_p+false_neg)\n"
     ]
    },
    {
     "name": "stdout",
     "output_type": "stream",
     "text": [
      "Processing BMY...\n",
      "Processing ABG...\n",
      "Processing BKNG...\n",
      "Processing UFPI...\n",
      "Processing FNF...\n",
      "Processing KTB...\n",
      "Processing CRM...\n",
      "Processing SMAR...\n"
     ]
    },
    {
     "name": "stderr",
     "output_type": "stream",
     "text": [
      "C:\\Users\\hilun\\AppData\\Local\\Temp\\ipykernel_16436\\1872005112.py:252: RuntimeWarning: invalid value encountered in scalar divide\n",
      "  precision=true_p/(true_p+false_p)\n",
      "C:\\Users\\hilun\\AppData\\Local\\Temp\\ipykernel_16436\\1872005112.py:253: RuntimeWarning: invalid value encountered in scalar divide\n",
      "  recall=true_p/(true_p+false_neg)\n"
     ]
    },
    {
     "name": "stdout",
     "output_type": "stream",
     "text": [
      "Processing BIPC...\n",
      "Processing WDAY...\n",
      "Processing CORT...\n"
     ]
    },
    {
     "name": "stderr",
     "output_type": "stream",
     "text": [
      "C:\\Users\\hilun\\AppData\\Local\\Temp\\ipykernel_16436\\1872005112.py:252: RuntimeWarning: invalid value encountered in scalar divide\n",
      "  precision=true_p/(true_p+false_p)\n",
      "C:\\Users\\hilun\\AppData\\Local\\Temp\\ipykernel_16436\\1872005112.py:253: RuntimeWarning: invalid value encountered in scalar divide\n",
      "  recall=true_p/(true_p+false_neg)\n"
     ]
    },
    {
     "name": "stdout",
     "output_type": "stream",
     "text": [
      "Processing QS...\n"
     ]
    },
    {
     "name": "stderr",
     "output_type": "stream",
     "text": [
      "C:\\Users\\hilun\\AppData\\Local\\Temp\\ipykernel_16436\\1872005112.py:253: RuntimeWarning: invalid value encountered in scalar divide\n",
      "  recall=true_p/(true_p+false_neg)\n"
     ]
    },
    {
     "name": "stdout",
     "output_type": "stream",
     "text": [
      "Processing CPB...\n",
      "Processing AM...\n",
      "Processing TT...\n",
      "Processing HWC...\n",
      "Processing SWK...\n",
      "Processing COR...\n",
      "Processing NOVT...\n",
      "Processing TEAM...\n",
      "Processing ALGN...\n",
      "Processing PECO...\n",
      "Processing CHWY...\n"
     ]
    },
    {
     "name": "stderr",
     "output_type": "stream",
     "text": [
      "C:\\Users\\hilun\\AppData\\Local\\Temp\\ipykernel_16436\\1872005112.py:254: RuntimeWarning: invalid value encountered in scalar divide\n",
      "  f1=2*precision*recall/(precision+recall)\n"
     ]
    },
    {
     "name": "stdout",
     "output_type": "stream",
     "text": [
      "Processing WBD...\n",
      "Processing BRK.A...\n",
      "Skipping BRK.A: No data found.\n",
      "Processing AOS...\n",
      "Processing SBUX...\n",
      "Processing CCK...\n",
      "Processing WBA...\n",
      "Processing QAI...\n",
      "Skipping QAI: No data found.\n",
      "Processing WAL...\n",
      "Processing MLI...\n"
     ]
    },
    {
     "name": "stderr",
     "output_type": "stream",
     "text": [
      "C:\\Users\\hilun\\AppData\\Local\\Temp\\ipykernel_16436\\1872005112.py:252: RuntimeWarning: invalid value encountered in scalar divide\n",
      "  precision=true_p/(true_p+false_p)\n"
     ]
    },
    {
     "name": "stdout",
     "output_type": "stream",
     "text": [
      "Processing MUSA...\n",
      "Processing CHX...\n"
     ]
    },
    {
     "name": "stderr",
     "output_type": "stream",
     "text": [
      "C:\\Users\\hilun\\AppData\\Local\\Temp\\ipykernel_16436\\1872005112.py:254: RuntimeWarning: invalid value encountered in scalar divide\n",
      "  f1=2*precision*recall/(precision+recall)\n"
     ]
    },
    {
     "name": "stdout",
     "output_type": "stream",
     "text": [
      "Processing EL...\n",
      "Processing WOOD...\n",
      "Skipping WOOD: No data found.\n",
      "Processing FSK...\n"
     ]
    },
    {
     "name": "stderr",
     "output_type": "stream",
     "text": [
      "C:\\Users\\hilun\\AppData\\Local\\Temp\\ipykernel_16436\\1872005112.py:252: RuntimeWarning: invalid value encountered in scalar divide\n",
      "  precision=true_p/(true_p+false_p)\n",
      "C:\\Users\\hilun\\AppData\\Local\\Temp\\ipykernel_16436\\1872005112.py:253: RuntimeWarning: invalid value encountered in scalar divide\n",
      "  recall=true_p/(true_p+false_neg)\n"
     ]
    },
    {
     "name": "stdout",
     "output_type": "stream",
     "text": [
      "Processing LOGI...\n",
      "Processing DELL...\n",
      "Processing MU...\n",
      "Processing TW...\n",
      "Processing OILK...\n",
      "Skipping OILK: No data found.\n",
      "Processing CVLT...\n",
      "Processing FXE...\n",
      "Skipping FXE: No data found.\n",
      "Processing ONON...\n",
      "Processing NEU...\n",
      "Processing BLK...\n",
      "Processing COLB...\n",
      "Processing FXY...\n",
      "Skipping FXY: No data found.\n",
      "Processing CART...\n",
      "Processing RCM...\n"
     ]
    },
    {
     "name": "stderr",
     "output_type": "stream",
     "text": [
      "C:\\Users\\hilun\\AppData\\Local\\Temp\\ipykernel_16436\\1872005112.py:252: RuntimeWarning: invalid value encountered in scalar divide\n",
      "  precision=true_p/(true_p+false_p)\n",
      "C:\\Users\\hilun\\AppData\\Local\\Temp\\ipykernel_16436\\1872005112.py:253: RuntimeWarning: invalid value encountered in scalar divide\n",
      "  recall=true_p/(true_p+false_neg)\n"
     ]
    },
    {
     "name": "stdout",
     "output_type": "stream",
     "text": [
      "Processing EEFT...\n",
      "Processing LAND...\n",
      "Processing COO...\n",
      "Processing CMCSA...\n",
      "Processing CPAY...\n",
      "Processing HOMB...\n",
      "Processing STLD...\n",
      "Processing CE...\n",
      "Processing LHX...\n",
      "Processing NNI...\n",
      "Processing POR...\n",
      "Processing BPOP...\n",
      "Processing MDLZ...\n",
      "Processing UHAL...\n",
      "Processing PCVX...\n",
      "Processing ROK...\n",
      "Processing DFS...\n",
      "Processing SGRY...\n",
      "Processing REGN...\n",
      "Processing DV...\n",
      "Processing UAL...\n",
      "Processing UNH...\n",
      "Processing CVX...\n",
      "Processing APG...\n",
      "Processing CHTR...\n",
      "Processing FIVE...\n",
      "Processing AJG...\n",
      "Processing EFX...\n",
      "Processing GBCI...\n",
      "Processing CHDN...\n",
      "Processing STAG...\n",
      "Processing FIS...\n",
      "Processing CHK...\n",
      "Processing VST...\n",
      "Processing LAD...\n",
      "Processing BF.B...\n",
      "Skipping BF.B: No data found.\n",
      "Processing BK...\n"
     ]
    },
    {
     "name": "stderr",
     "output_type": "stream",
     "text": [
      "C:\\Users\\hilun\\AppData\\Local\\Temp\\ipykernel_16436\\1872005112.py:254: RuntimeWarning: invalid value encountered in scalar divide\n",
      "  f1=2*precision*recall/(precision+recall)\n"
     ]
    },
    {
     "name": "stdout",
     "output_type": "stream",
     "text": [
      "Processing ETR...\n",
      "Processing TWLO...\n",
      "Processing FTAI...\n",
      "Processing NXST...\n",
      "Processing FDX...\n",
      "Processing CLF...\n",
      "Processing HUM...\n",
      "Processing HWM...\n",
      "Processing HCA...\n",
      "Processing CLX...\n",
      "Processing YETI...\n",
      "Processing TRI...\n",
      "Processing QCOM...\n",
      "Processing SYF...\n",
      "Processing TEL...\n",
      "Processing MAS...\n",
      "Processing PRU...\n",
      "Processing CDNS...\n",
      "Processing ONB...\n",
      "Processing MSGS...\n",
      "Processing STNE...\n",
      "Processing FCNCA...\n",
      "Processing PRI...\n",
      "Processing MORN...\n",
      "Processing OGS...\n",
      "Processing NEM...\n",
      "Processing ANF...\n",
      "Processing MCHP...\n",
      "Processing HLT...\n",
      "Processing GMS...\n"
     ]
    },
    {
     "name": "stderr",
     "output_type": "stream",
     "text": [
      "C:\\Users\\hilun\\AppData\\Local\\Temp\\ipykernel_16436\\1872005112.py:254: RuntimeWarning: invalid value encountered in scalar divide\n",
      "  f1=2*precision*recall/(precision+recall)\n"
     ]
    },
    {
     "name": "stdout",
     "output_type": "stream",
     "text": [
      "Processing AAP...\n",
      "Processing NXPI...\n",
      "Processing QYLD...\n"
     ]
    },
    {
     "name": "stderr",
     "output_type": "stream",
     "text": [
      "C:\\Users\\hilun\\anaconda3\\Lib\\site-packages\\sklearn\\metrics\\_regression.py:1187: UndefinedMetricWarning: R^2 score is not well-defined with less than two samples.\n",
      "  warnings.warn(msg, UndefinedMetricWarning)\n",
      "C:\\Users\\hilun\\AppData\\Local\\Temp\\ipykernel_16436\\1872005112.py:253: RuntimeWarning: invalid value encountered in scalar divide\n",
      "  recall=true_p/(true_p+false_neg)\n"
     ]
    },
    {
     "name": "stdout",
     "output_type": "stream",
     "text": [
      "Processing FHI...\n"
     ]
    },
    {
     "name": "stderr",
     "output_type": "stream",
     "text": [
      "C:\\Users\\hilun\\AppData\\Local\\Temp\\ipykernel_16436\\1872005112.py:252: RuntimeWarning: invalid value encountered in scalar divide\n",
      "  precision=true_p/(true_p+false_p)\n",
      "C:\\Users\\hilun\\AppData\\Local\\Temp\\ipykernel_16436\\1872005112.py:253: RuntimeWarning: invalid value encountered in scalar divide\n",
      "  recall=true_p/(true_p+false_neg)\n"
     ]
    },
    {
     "name": "stdout",
     "output_type": "stream",
     "text": [
      "Processing RITM...\n",
      "Processing LYV...\n",
      "Processing BSX...\n"
     ]
    },
    {
     "name": "stderr",
     "output_type": "stream",
     "text": [
      "C:\\Users\\hilun\\AppData\\Local\\Temp\\ipykernel_16436\\1872005112.py:254: RuntimeWarning: invalid value encountered in scalar divide\n",
      "  f1=2*precision*recall/(precision+recall)\n"
     ]
    },
    {
     "name": "stdout",
     "output_type": "stream",
     "text": [
      "Processing EGP...\n"
     ]
    },
    {
     "name": "stderr",
     "output_type": "stream",
     "text": [
      "C:\\Users\\hilun\\AppData\\Local\\Temp\\ipykernel_16436\\1872005112.py:254: RuntimeWarning: invalid value encountered in scalar divide\n",
      "  f1=2*precision*recall/(precision+recall)\n"
     ]
    },
    {
     "name": "stdout",
     "output_type": "stream",
     "text": [
      "Processing LPX...\n",
      "Processing FDS...\n"
     ]
    },
    {
     "name": "stderr",
     "output_type": "stream",
     "text": [
      "C:\\Users\\hilun\\AppData\\Local\\Temp\\ipykernel_16436\\1872005112.py:254: RuntimeWarning: invalid value encountered in scalar divide\n",
      "  f1=2*precision*recall/(precision+recall)\n"
     ]
    },
    {
     "name": "stdout",
     "output_type": "stream",
     "text": [
      "Processing LEG...\n",
      "Processing OMF...\n",
      "Processing LUMN...\n",
      "Processing GME...\n",
      "Processing AEP...\n",
      "Processing CPRI...\n",
      "Processing AMG...\n"
     ]
    },
    {
     "name": "stderr",
     "output_type": "stream",
     "text": [
      "C:\\Users\\hilun\\AppData\\Local\\Temp\\ipykernel_16436\\1872005112.py:254: RuntimeWarning: invalid value encountered in scalar divide\n",
      "  f1=2*precision*recall/(precision+recall)\n"
     ]
    },
    {
     "name": "stdout",
     "output_type": "stream",
     "text": [
      "Processing RDN...\n",
      "Processing MSM...\n",
      "Processing NFG...\n",
      "Processing SNDR...\n",
      "Processing AAPL...\n",
      "Processing CMA...\n",
      "Processing RELY...\n",
      "Processing EA...\n",
      "Processing LLYVK...\n"
     ]
    },
    {
     "name": "stderr",
     "output_type": "stream",
     "text": [
      "C:\\Users\\hilun\\AppData\\Local\\Temp\\ipykernel_16436\\1872005112.py:252: RuntimeWarning: invalid value encountered in scalar divide\n",
      "  precision=true_p/(true_p+false_p)\n",
      "C:\\Users\\hilun\\AppData\\Local\\Temp\\ipykernel_16436\\1872005112.py:253: RuntimeWarning: invalid value encountered in scalar divide\n",
      "  recall=true_p/(true_p+false_neg)\n"
     ]
    },
    {
     "name": "stdout",
     "output_type": "stream",
     "text": [
      "Processing DTCR...\n",
      "Skipping DTCR: No data found.\n",
      "Processing RIG...\n",
      "Processing OXY...\n",
      "Processing KMI...\n",
      "Processing SAM...\n",
      "Processing TSN...\n",
      "Processing GM...\n",
      "Processing AI...\n",
      "Processing AXNX...\n"
     ]
    },
    {
     "name": "stderr",
     "output_type": "stream",
     "text": [
      "C:\\Users\\hilun\\AppData\\Local\\Temp\\ipykernel_16436\\1872005112.py:252: RuntimeWarning: invalid value encountered in scalar divide\n",
      "  precision=true_p/(true_p+false_p)\n",
      "C:\\Users\\hilun\\AppData\\Local\\Temp\\ipykernel_16436\\1872005112.py:253: RuntimeWarning: invalid value encountered in scalar divide\n",
      "  recall=true_p/(true_p+false_neg)\n"
     ]
    },
    {
     "name": "stdout",
     "output_type": "stream",
     "text": [
      "Processing SQ...\n",
      "Processing CPA...\n"
     ]
    },
    {
     "name": "stderr",
     "output_type": "stream",
     "text": [
      "C:\\Users\\hilun\\AppData\\Local\\Temp\\ipykernel_16436\\1872005112.py:254: RuntimeWarning: invalid value encountered in scalar divide\n",
      "  f1=2*precision*recall/(precision+recall)\n"
     ]
    },
    {
     "name": "stdout",
     "output_type": "stream",
     "text": [
      "Processing BXP...\n",
      "Processing C...\n",
      "Processing SITE...\n",
      "Processing JOBY...\n",
      "Processing SYNA...\n",
      "Processing DVA...\n",
      "Processing HASI...\n"
     ]
    },
    {
     "name": "stderr",
     "output_type": "stream",
     "text": [
      "C:\\Users\\hilun\\AppData\\Local\\Temp\\ipykernel_16436\\1872005112.py:252: RuntimeWarning: invalid value encountered in scalar divide\n",
      "  precision=true_p/(true_p+false_p)\n",
      "C:\\Users\\hilun\\AppData\\Local\\Temp\\ipykernel_16436\\1872005112.py:253: RuntimeWarning: invalid value encountered in scalar divide\n",
      "  recall=true_p/(true_p+false_neg)\n"
     ]
    },
    {
     "name": "stdout",
     "output_type": "stream",
     "text": [
      "Processing LEN...\n",
      "Processing ALLE...\n",
      "Processing RL...\n",
      "Processing JNJ...\n",
      "Processing CRSP...\n",
      "Processing PODD...\n",
      "Processing FRT...\n",
      "Processing SCHW...\n",
      "Processing ICLR...\n",
      "Processing BKH...\n",
      "Processing AMZN...\n",
      "Processing ALV...\n",
      "Processing SM...\n",
      "Processing MMSI...\n",
      "Processing AGR...\n"
     ]
    },
    {
     "name": "stderr",
     "output_type": "stream",
     "text": [
      "C:\\Users\\hilun\\AppData\\Local\\Temp\\ipykernel_16436\\1872005112.py:252: RuntimeWarning: invalid value encountered in scalar divide\n",
      "  precision=true_p/(true_p+false_p)\n",
      "C:\\Users\\hilun\\AppData\\Local\\Temp\\ipykernel_16436\\1872005112.py:253: RuntimeWarning: invalid value encountered in scalar divide\n",
      "  recall=true_p/(true_p+false_neg)\n"
     ]
    },
    {
     "name": "stdout",
     "output_type": "stream",
     "text": [
      "Processing IEX...\n",
      "Processing DY...\n",
      "Processing GEV...\n",
      "Processing OKTA...\n",
      "Processing CWAN...\n",
      "Processing FSLR...\n",
      "Processing CUBE...\n",
      "Processing GLBE...\n",
      "Processing FCFS...\n",
      "Processing IRDM...\n",
      "Processing XYL...\n",
      "Processing PHM...\n",
      "Processing EPAM...\n",
      "Processing LNT...\n",
      "Processing MOH...\n",
      "Processing VNT...\n",
      "Processing ITW...\n"
     ]
    },
    {
     "name": "stderr",
     "output_type": "stream",
     "text": [
      "C:\\Users\\hilun\\AppData\\Local\\Temp\\ipykernel_16436\\1872005112.py:254: RuntimeWarning: invalid value encountered in scalar divide\n",
      "  f1=2*precision*recall/(precision+recall)\n"
     ]
    },
    {
     "name": "stdout",
     "output_type": "stream",
     "text": [
      "Processing KRG...\n"
     ]
    },
    {
     "name": "stderr",
     "output_type": "stream",
     "text": [
      "C:\\Users\\hilun\\AppData\\Local\\Temp\\ipykernel_16436\\1872005112.py:253: RuntimeWarning: invalid value encountered in scalar divide\n",
      "  recall=true_p/(true_p+false_neg)\n"
     ]
    },
    {
     "name": "stdout",
     "output_type": "stream",
     "text": [
      "Processing PEGA...\n",
      "Processing KBR...\n",
      "Processing WING...\n",
      "Processing COF...\n",
      "Processing JJSF...\n",
      "Processing CFR...\n"
     ]
    },
    {
     "name": "stderr",
     "output_type": "stream",
     "text": [
      "C:\\Users\\hilun\\AppData\\Local\\Temp\\ipykernel_16436\\1872005112.py:254: RuntimeWarning: invalid value encountered in scalar divide\n",
      "  f1=2*precision*recall/(precision+recall)\n"
     ]
    },
    {
     "name": "stdout",
     "output_type": "stream",
     "text": [
      "Processing MKC...\n"
     ]
    },
    {
     "name": "stderr",
     "output_type": "stream",
     "text": [
      "C:\\Users\\hilun\\AppData\\Local\\Temp\\ipykernel_16436\\1872005112.py:254: RuntimeWarning: invalid value encountered in scalar divide\n",
      "  f1=2*precision*recall/(precision+recall)\n"
     ]
    },
    {
     "name": "stdout",
     "output_type": "stream",
     "text": [
      "Processing LPLA...\n",
      "Processing SPT...\n",
      "Processing OWL...\n",
      "Processing PBDC...\n",
      "Skipping PBDC: No data found.\n",
      "Processing TYL...\n",
      "Processing MPWR...\n",
      "Processing NTRS...\n",
      "Processing CSCO...\n",
      "Processing CVI...\n",
      "Processing SOLV...\n",
      "Processing CAVA...\n",
      "Processing OPCH...\n"
     ]
    },
    {
     "name": "stderr",
     "output_type": "stream",
     "text": [
      "C:\\Users\\hilun\\AppData\\Local\\Temp\\ipykernel_16436\\1872005112.py:252: RuntimeWarning: invalid value encountered in scalar divide\n",
      "  precision=true_p/(true_p+false_p)\n"
     ]
    },
    {
     "name": "stdout",
     "output_type": "stream",
     "text": [
      "Processing AMD...\n",
      "Processing MRK...\n",
      "Processing PBF...\n",
      "Processing HALO...\n",
      "Processing AVT...\n",
      "Processing KNSL...\n",
      "Processing CBRE...\n",
      "Processing RBLX...\n",
      "Processing WSM...\n",
      "Processing CBSH...\n",
      "Processing RSG...\n",
      "Processing PWR...\n",
      "Processing QSR...\n"
     ]
    },
    {
     "name": "stderr",
     "output_type": "stream",
     "text": [
      "C:\\Users\\hilun\\AppData\\Local\\Temp\\ipykernel_16436\\1872005112.py:254: RuntimeWarning: invalid value encountered in scalar divide\n",
      "  f1=2*precision*recall/(precision+recall)\n"
     ]
    },
    {
     "name": "stdout",
     "output_type": "stream",
     "text": [
      "Processing DVN...\n",
      "Processing BLDR...\n"
     ]
    },
    {
     "name": "stderr",
     "output_type": "stream",
     "text": [
      "C:\\Users\\hilun\\AppData\\Local\\Temp\\ipykernel_16436\\1872005112.py:254: RuntimeWarning: invalid value encountered in scalar divide\n",
      "  f1=2*precision*recall/(precision+recall)\n"
     ]
    },
    {
     "name": "stdout",
     "output_type": "stream",
     "text": [
      "Processing BERY...\n",
      "Processing SEE...\n",
      "Processing ADM...\n",
      "Processing VLTO...\n",
      "Processing BAX...\n",
      "Processing ASO...\n",
      "Processing PH...\n",
      "Processing PAGS...\n",
      "Processing RGLD...\n",
      "Processing GPS...\n",
      "Processing EG...\n",
      "Processing FRHC...\n"
     ]
    },
    {
     "name": "stderr",
     "output_type": "stream",
     "text": [
      "C:\\Users\\hilun\\AppData\\Local\\Temp\\ipykernel_16436\\1872005112.py:252: RuntimeWarning: invalid value encountered in scalar divide\n",
      "  precision=true_p/(true_p+false_p)\n",
      "C:\\Users\\hilun\\AppData\\Local\\Temp\\ipykernel_16436\\1872005112.py:253: RuntimeWarning: invalid value encountered in scalar divide\n",
      "  recall=true_p/(true_p+false_neg)\n"
     ]
    },
    {
     "name": "stdout",
     "output_type": "stream",
     "text": [
      "Processing DDS...\n"
     ]
    },
    {
     "name": "stderr",
     "output_type": "stream",
     "text": [
      "C:\\Users\\hilun\\AppData\\Local\\Temp\\ipykernel_16436\\1872005112.py:252: RuntimeWarning: invalid value encountered in scalar divide\n",
      "  precision=true_p/(true_p+false_p)\n"
     ]
    },
    {
     "name": "stdout",
     "output_type": "stream",
     "text": [
      "Processing OGN...\n",
      "Processing CIEN...\n",
      "Processing CAH...\n"
     ]
    },
    {
     "name": "stderr",
     "output_type": "stream",
     "text": [
      "C:\\Users\\hilun\\AppData\\Local\\Temp\\ipykernel_16436\\1872005112.py:254: RuntimeWarning: invalid value encountered in scalar divide\n",
      "  f1=2*precision*recall/(precision+recall)\n"
     ]
    },
    {
     "name": "stdout",
     "output_type": "stream",
     "text": [
      "Processing BRX...\n",
      "Processing ESS...\n",
      "Processing EHC...\n"
     ]
    },
    {
     "name": "stderr",
     "output_type": "stream",
     "text": [
      "C:\\Users\\hilun\\AppData\\Local\\Temp\\ipykernel_16436\\1872005112.py:254: RuntimeWarning: invalid value encountered in scalar divide\n",
      "  f1=2*precision*recall/(precision+recall)\n"
     ]
    },
    {
     "name": "stdout",
     "output_type": "stream",
     "text": [
      "Processing SYK...\n",
      "Processing D...\n",
      "Processing NXE...\n",
      "Processing ES...\n",
      "Processing HGV...\n",
      "Processing ROP...\n",
      "Processing STZ...\n",
      "Processing DDOG...\n",
      "Processing FRPT...\n",
      "Processing RPD...\n",
      "Processing AWK...\n",
      "Processing MHK...\n",
      "Processing Z...\n",
      "Processing RCL...\n",
      "Processing ESTC...\n",
      "Processing ON...\n",
      "Processing TMUS...\n",
      "Processing IR...\n",
      "Processing DHR...\n",
      "Processing ECL...\n",
      "Processing IRTC...\n"
     ]
    },
    {
     "name": "stderr",
     "output_type": "stream",
     "text": [
      "C:\\Users\\hilun\\AppData\\Local\\Temp\\ipykernel_16436\\1872005112.py:252: RuntimeWarning: invalid value encountered in scalar divide\n",
      "  precision=true_p/(true_p+false_p)\n",
      "C:\\Users\\hilun\\AppData\\Local\\Temp\\ipykernel_16436\\1872005112.py:253: RuntimeWarning: invalid value encountered in scalar divide\n",
      "  recall=true_p/(true_p+false_neg)\n"
     ]
    },
    {
     "name": "stdout",
     "output_type": "stream",
     "text": [
      "Processing REYN...\n",
      "Processing EXE...\n"
     ]
    },
    {
     "name": "stderr",
     "output_type": "stream",
     "text": [
      "C:\\Users\\hilun\\AppData\\Local\\Temp\\ipykernel_16436\\1872005112.py:253: RuntimeWarning: invalid value encountered in scalar divide\n",
      "  recall=true_p/(true_p+false_neg)\n"
     ]
    },
    {
     "name": "stdout",
     "output_type": "stream",
     "text": [
      "Processing GIS...\n",
      "Processing SQSP...\n"
     ]
    },
    {
     "name": "stderr",
     "output_type": "stream",
     "text": [
      "C:\\Users\\hilun\\AppData\\Local\\Temp\\ipykernel_16436\\1872005112.py:253: RuntimeWarning: invalid value encountered in scalar divide\n",
      "  recall=true_p/(true_p+false_neg)\n"
     ]
    },
    {
     "name": "stdout",
     "output_type": "stream",
     "text": [
      "Processing ANSS...\n",
      "Processing MTDR...\n",
      "Processing APH...\n",
      "Processing PNFP...\n"
     ]
    },
    {
     "name": "stderr",
     "output_type": "stream",
     "text": [
      "C:\\Users\\hilun\\AppData\\Local\\Temp\\ipykernel_16436\\1872005112.py:253: RuntimeWarning: invalid value encountered in scalar divide\n",
      "  recall=true_p/(true_p+false_neg)\n"
     ]
    },
    {
     "name": "stdout",
     "output_type": "stream",
     "text": [
      "Processing TXT...\n",
      "Processing GLPI...\n",
      "Processing FWONK...\n"
     ]
    },
    {
     "name": "stderr",
     "output_type": "stream",
     "text": [
      "C:\\Users\\hilun\\AppData\\Local\\Temp\\ipykernel_16436\\1872005112.py:253: RuntimeWarning: invalid value encountered in scalar divide\n",
      "  recall=true_p/(true_p+false_neg)\n"
     ]
    },
    {
     "name": "stdout",
     "output_type": "stream",
     "text": [
      "Processing LAZ...\n",
      "Processing AMCR...\n",
      "Processing LEVI...\n",
      "Processing GTES...\n",
      "Processing HD...\n",
      "Processing GLOB...\n",
      "Processing CPRT...\n",
      "Processing EBAY...\n",
      "Processing ACI...\n",
      "Processing LOW...\n",
      "Processing SLGN...\n",
      "Processing CRH...\n",
      "Processing VOYA...\n",
      "Processing AGNC...\n",
      "Processing A...\n",
      "Processing USFD...\n",
      "Processing BITO...\n",
      "Processing STWD...\n"
     ]
    },
    {
     "name": "stderr",
     "output_type": "stream",
     "text": [
      "C:\\Users\\hilun\\AppData\\Local\\Temp\\ipykernel_16436\\1872005112.py:252: RuntimeWarning: invalid value encountered in scalar divide\n",
      "  precision=true_p/(true_p+false_p)\n"
     ]
    },
    {
     "name": "stdout",
     "output_type": "stream",
     "text": [
      "Processing ALNY...\n",
      "Processing BX...\n",
      "Processing PSN...\n",
      "Processing GD...\n",
      "Processing CRC...\n",
      "Processing TRGP...\n",
      "Processing TFSL...\n",
      "Processing ULS...\n",
      "Processing POOL...\n",
      "Processing DBB...\n",
      "Skipping DBB: No data found.\n",
      "Processing SLM...\n",
      "Processing MKSI...\n",
      "Processing IP...\n"
     ]
    },
    {
     "name": "stderr",
     "output_type": "stream",
     "text": [
      "C:\\Users\\hilun\\AppData\\Local\\Temp\\ipykernel_16436\\1872005112.py:254: RuntimeWarning: invalid value encountered in scalar divide\n",
      "  f1=2*precision*recall/(precision+recall)\n"
     ]
    },
    {
     "name": "stdout",
     "output_type": "stream",
     "text": [
      "Processing UBSI...\n",
      "Processing GNRC...\n",
      "Processing ANET...\n",
      "Processing FMC...\n",
      "Processing ZBH...\n",
      "Processing LEA...\n",
      "Processing PB...\n",
      "Processing ZTS...\n",
      "Processing IBKR...\n",
      "Processing SWKS...\n",
      "Processing INCY...\n",
      "Processing PTEN...\n",
      "Processing IGT...\n",
      "Processing EXLS...\n",
      "Processing PATH...\n",
      "Processing CHH...\n",
      "Processing MTD...\n",
      "Processing AMAT...\n",
      "Processing MMM...\n",
      "Processing TEX...\n",
      "Processing MAA...\n"
     ]
    },
    {
     "name": "stderr",
     "output_type": "stream",
     "text": [
      "C:\\Users\\hilun\\AppData\\Local\\Temp\\ipykernel_16436\\1872005112.py:252: RuntimeWarning: invalid value encountered in scalar divide\n",
      "  precision=true_p/(true_p+false_p)\n"
     ]
    },
    {
     "name": "stdout",
     "output_type": "stream",
     "text": [
      "Processing JCI...\n"
     ]
    },
    {
     "name": "stderr",
     "output_type": "stream",
     "text": [
      "C:\\Users\\hilun\\AppData\\Local\\Temp\\ipykernel_16436\\1872005112.py:254: RuntimeWarning: invalid value encountered in scalar divide\n",
      "  f1=2*precision*recall/(precision+recall)\n"
     ]
    },
    {
     "name": "stdout",
     "output_type": "stream",
     "text": [
      "Processing LOAR...\n",
      "Processing COST...\n",
      "Processing MTN...\n",
      "Processing ATO...\n"
     ]
    },
    {
     "name": "stderr",
     "output_type": "stream",
     "text": [
      "C:\\Users\\hilun\\AppData\\Local\\Temp\\ipykernel_16436\\1872005112.py:254: RuntimeWarning: invalid value encountered in scalar divide\n",
      "  f1=2*precision*recall/(precision+recall)\n"
     ]
    },
    {
     "name": "stdout",
     "output_type": "stream",
     "text": [
      "Processing HRB...\n",
      "Processing ACT...\n",
      "Processing FCX...\n",
      "Processing AA...\n",
      "Processing KAI...\n",
      "Processing TOST...\n",
      "Processing WSC...\n",
      "Processing UMBF...\n"
     ]
    },
    {
     "name": "stderr",
     "output_type": "stream",
     "text": [
      "C:\\Users\\hilun\\AppData\\Local\\Temp\\ipykernel_16436\\1872005112.py:252: RuntimeWarning: invalid value encountered in scalar divide\n",
      "  precision=true_p/(true_p+false_p)\n"
     ]
    },
    {
     "name": "stdout",
     "output_type": "stream",
     "text": [
      "Processing WWD...\n",
      "Processing SLV...\n",
      "Processing LYFT...\n",
      "Processing LBRDK...\n",
      "Processing PGNY...\n",
      "Processing AON...\n"
     ]
    },
    {
     "name": "stderr",
     "output_type": "stream",
     "text": [
      "C:\\Users\\hilun\\AppData\\Local\\Temp\\ipykernel_16436\\1872005112.py:254: RuntimeWarning: invalid value encountered in scalar divide\n",
      "  f1=2*precision*recall/(precision+recall)\n"
     ]
    },
    {
     "name": "stdout",
     "output_type": "stream",
     "text": [
      "Processing AXP...\n",
      "Processing FIVN...\n",
      "Processing ALB...\n",
      "Processing RYN...\n",
      "Processing IOT...\n",
      "Processing OTIS...\n",
      "Processing LBTYA...\n",
      "Processing BLD...\n",
      "Processing MPW...\n"
     ]
    },
    {
     "name": "stderr",
     "output_type": "stream",
     "text": [
      "C:\\Users\\hilun\\AppData\\Local\\Temp\\ipykernel_16436\\1872005112.py:252: RuntimeWarning: invalid value encountered in scalar divide\n",
      "  precision=true_p/(true_p+false_p)\n"
     ]
    },
    {
     "name": "stdout",
     "output_type": "stream",
     "text": [
      "Processing MSCI...\n",
      "Processing BSY...\n",
      "Processing DKS...\n",
      "Processing FOXA...\n",
      "Processing RGEN...\n",
      "Processing BE...\n"
     ]
    },
    {
     "name": "stderr",
     "output_type": "stream",
     "text": [
      "C:\\Users\\hilun\\AppData\\Local\\Temp\\ipykernel_16436\\1872005112.py:253: RuntimeWarning: invalid value encountered in scalar divide\n",
      "  recall=true_p/(true_p+false_neg)\n"
     ]
    },
    {
     "name": "stdout",
     "output_type": "stream",
     "text": [
      "Processing GTLB...\n",
      "Processing HAS...\n",
      "Processing OC...\n",
      "Processing CCL...\n",
      "Processing AMT...\n",
      "Processing KEX...\n",
      "Processing CHD...\n"
     ]
    },
    {
     "name": "stderr",
     "output_type": "stream",
     "text": [
      "C:\\Users\\hilun\\AppData\\Local\\Temp\\ipykernel_16436\\1872005112.py:252: RuntimeWarning: invalid value encountered in scalar divide\n",
      "  precision=true_p/(true_p+false_p)\n"
     ]
    },
    {
     "name": "stdout",
     "output_type": "stream",
     "text": [
      "Processing ZWS...\n",
      "Processing NRG...\n"
     ]
    },
    {
     "name": "stderr",
     "output_type": "stream",
     "text": [
      "C:\\Users\\hilun\\AppData\\Local\\Temp\\ipykernel_16436\\1872005112.py:254: RuntimeWarning: invalid value encountered in scalar divide\n",
      "  f1=2*precision*recall/(precision+recall)\n"
     ]
    },
    {
     "name": "stdout",
     "output_type": "stream",
     "text": [
      "Processing AEO...\n",
      "Processing SRLN...\n",
      "Skipping SRLN: No data found.\n",
      "Processing CTVA...\n",
      "Processing CTLT...\n"
     ]
    },
    {
     "name": "stderr",
     "output_type": "stream",
     "text": [
      "C:\\Users\\hilun\\AppData\\Local\\Temp\\ipykernel_16436\\1872005112.py:252: RuntimeWarning: invalid value encountered in scalar divide\n",
      "  precision=true_p/(true_p+false_p)\n"
     ]
    },
    {
     "name": "stdout",
     "output_type": "stream",
     "text": [
      "Processing SBAC...\n",
      "Processing CHRW...\n"
     ]
    },
    {
     "name": "stderr",
     "output_type": "stream",
     "text": [
      "C:\\Users\\hilun\\AppData\\Local\\Temp\\ipykernel_16436\\1872005112.py:254: RuntimeWarning: invalid value encountered in scalar divide\n",
      "  f1=2*precision*recall/(precision+recall)\n"
     ]
    },
    {
     "name": "stdout",
     "output_type": "stream",
     "text": [
      "Processing INTU...\n",
      "Processing TFC...\n",
      "Processing ARWR...\n",
      "Processing APA...\n",
      "Processing MNA...\n",
      "Skipping MNA: No data found.\n",
      "Processing ALL...\n"
     ]
    },
    {
     "name": "stderr",
     "output_type": "stream",
     "text": [
      "C:\\Users\\hilun\\AppData\\Local\\Temp\\ipykernel_16436\\1872005112.py:254: RuntimeWarning: invalid value encountered in scalar divide\n",
      "  f1=2*precision*recall/(precision+recall)\n"
     ]
    },
    {
     "name": "stdout",
     "output_type": "stream",
     "text": [
      "Processing V...\n",
      "Processing BRO...\n",
      "Processing CNA...\n",
      "Processing FNB...\n",
      "Processing EOG...\n",
      "Processing FN...\n"
     ]
    },
    {
     "name": "stderr",
     "output_type": "stream",
     "text": [
      "C:\\Users\\hilun\\AppData\\Local\\Temp\\ipykernel_16436\\1872005112.py:252: RuntimeWarning: invalid value encountered in scalar divide\n",
      "  precision=true_p/(true_p+false_p)\n"
     ]
    },
    {
     "name": "stdout",
     "output_type": "stream",
     "text": [
      "Processing MCD...\n",
      "Processing NUVL...\n",
      "Processing ACN...\n",
      "Processing DNA...\n",
      "Processing ACAD...\n",
      "Processing EWBC...\n",
      "Processing WH...\n",
      "Processing TFX...\n",
      "Processing ASH...\n",
      "Processing SNPS...\n",
      "Processing ITRI...\n",
      "Processing VMC...\n",
      "Processing WHR...\n",
      "Processing CBT...\n",
      "Processing POWI...\n",
      "Processing FLYW...\n",
      "Processing MTZ...\n",
      "Processing TDC...\n"
     ]
    },
    {
     "name": "stderr",
     "output_type": "stream",
     "text": [
      "C:\\Users\\hilun\\AppData\\Local\\Temp\\ipykernel_16436\\1872005112.py:252: RuntimeWarning: invalid value encountered in scalar divide\n",
      "  precision=true_p/(true_p+false_p)\n"
     ]
    },
    {
     "name": "stdout",
     "output_type": "stream",
     "text": [
      "Processing KGC...\n",
      "Processing EW Index...\n",
      "Skipping EW Index: No data found.\n",
      "Processing SNA...\n",
      "Processing ACLS...\n",
      "Processing BALL...\n",
      "Processing AL...\n",
      "Processing DTE...\n",
      "Processing CNS...\n",
      "Processing HEI...\n",
      "Processing RACE...\n",
      "Processing LLY...\n",
      "Processing PARA...\n",
      "Processing PM...\n",
      "Processing INDS...\n",
      "Skipping INDS: No data found.\n",
      "Processing ABCB...\n",
      "Processing SANM...\n"
     ]
    },
    {
     "name": "stderr",
     "output_type": "stream",
     "text": [
      "C:\\Users\\hilun\\AppData\\Local\\Temp\\ipykernel_16436\\1872005112.py:252: RuntimeWarning: invalid value encountered in scalar divide\n",
      "  precision=true_p/(true_p+false_p)\n",
      "C:\\Users\\hilun\\AppData\\Local\\Temp\\ipykernel_16436\\1872005112.py:253: RuntimeWarning: invalid value encountered in scalar divide\n",
      "  recall=true_p/(true_p+false_neg)\n"
     ]
    },
    {
     "name": "stdout",
     "output_type": "stream",
     "text": [
      "Processing LMT...\n",
      "Processing BWXT...\n",
      "Processing EXPD...\n",
      "Processing LBRT...\n",
      "Processing IDXX...\n",
      "Processing ALAB...\n"
     ]
    },
    {
     "name": "stderr",
     "output_type": "stream",
     "text": [
      "C:\\Users\\hilun\\AppData\\Local\\Temp\\ipykernel_16436\\1872005112.py:252: RuntimeWarning: invalid value encountered in scalar divide\n",
      "  precision=true_p/(true_p+false_p)\n",
      "C:\\Users\\hilun\\AppData\\Local\\Temp\\ipykernel_16436\\1872005112.py:253: RuntimeWarning: invalid value encountered in scalar divide\n",
      "  recall=true_p/(true_p+false_neg)\n"
     ]
    },
    {
     "name": "stdout",
     "output_type": "stream",
     "text": [
      "Processing TTC...\n",
      "Processing RPRX...\n",
      "Processing UNM...\n",
      "Processing CRNX...\n",
      "Processing DRS...\n",
      "Processing FOXF...\n",
      "Processing SATS...\n",
      "Processing HR...\n",
      "Processing RLI...\n",
      "Processing PLTR...\n",
      "Processing SMG...\n"
     ]
    },
    {
     "name": "stderr",
     "output_type": "stream",
     "text": [
      "C:\\Users\\hilun\\AppData\\Local\\Temp\\ipykernel_16436\\1872005112.py:252: RuntimeWarning: invalid value encountered in scalar divide\n",
      "  precision=true_p/(true_p+false_p)\n"
     ]
    },
    {
     "name": "stdout",
     "output_type": "stream",
     "text": [
      "Processing HUBB...\n",
      "Processing GNTX...\n",
      "Processing FLR...\n",
      "Processing HAE...\n",
      "Processing PLNT...\n",
      "Processing PSP...\n",
      "Skipping PSP: No data found.\n",
      "Processing NSC...\n",
      "Processing DNB...\n",
      "Processing EMN...\n",
      "Processing WEN...\n",
      "Processing ROL...\n",
      "Processing AXSM...\n",
      "Processing IPAR...\n",
      "Processing AMGN...\n",
      "Processing RRX...\n",
      "Processing ICE...\n",
      "Processing ARE...\n",
      "Processing XP...\n",
      "Processing NCNO...\n",
      "Processing LEN.B...\n",
      "Skipping LEN.B: No data found.\n",
      "Processing CEG...\n",
      "Processing LNC...\n",
      "Processing DIS...\n",
      "Processing NARI...\n"
     ]
    },
    {
     "name": "stderr",
     "output_type": "stream",
     "text": [
      "C:\\Users\\hilun\\AppData\\Local\\Temp\\ipykernel_16436\\1872005112.py:252: RuntimeWarning: invalid value encountered in scalar divide\n",
      "  precision=true_p/(true_p+false_p)\n"
     ]
    },
    {
     "name": "stdout",
     "output_type": "stream",
     "text": [
      "Processing DINO...\n",
      "Processing CMS...\n",
      "Processing AVGO...\n",
      "Processing SLG...\n",
      "Processing AXON...\n",
      "Processing APLS...\n"
     ]
    },
    {
     "name": "stderr",
     "output_type": "stream",
     "text": [
      "C:\\Users\\hilun\\AppData\\Local\\Temp\\ipykernel_16436\\1872005112.py:253: RuntimeWarning: invalid value encountered in scalar divide\n",
      "  recall=true_p/(true_p+false_neg)\n"
     ]
    },
    {
     "name": "stdout",
     "output_type": "stream",
     "text": [
      "Processing TMO...\n",
      "Processing ESNT...\n",
      "Processing DOCN...\n",
      "Processing SIGI...\n",
      "Processing HRI...\n",
      "Processing XEL...\n",
      "Processing JWN...\n",
      "Processing AYI...\n",
      "Processing ICLN...\n",
      "Processing BBWI...\n",
      "Processing NWS...\n",
      "Processing NWL...\n"
     ]
    },
    {
     "name": "stderr",
     "output_type": "stream",
     "text": [
      "C:\\Users\\hilun\\AppData\\Local\\Temp\\ipykernel_16436\\1872005112.py:252: RuntimeWarning: invalid value encountered in scalar divide\n",
      "  precision=true_p/(true_p+false_p)\n",
      "C:\\Users\\hilun\\AppData\\Local\\Temp\\ipykernel_16436\\1872005112.py:253: RuntimeWarning: invalid value encountered in scalar divide\n",
      "  recall=true_p/(true_p+false_neg)\n"
     ]
    },
    {
     "name": "stdout",
     "output_type": "stream",
     "text": [
      "Processing TXG...\n",
      "Processing RJF...\n",
      "Processing DXC...\n",
      "Processing MMS...\n",
      "Processing HOOD...\n",
      "Processing BR...\n",
      "Processing FND...\n",
      "Processing NDSN...\n",
      "Processing SR...\n",
      "Processing PNR...\n",
      "Processing LNTH...\n",
      "Processing MIDD...\n",
      "Processing HPE...\n",
      "Processing MOD...\n",
      "Processing FIX...\n",
      "Processing LUV...\n",
      "Processing DRI...\n",
      "Processing JHG...\n"
     ]
    },
    {
     "name": "stderr",
     "output_type": "stream",
     "text": [
      "C:\\Users\\hilun\\AppData\\Local\\Temp\\ipykernel_16436\\1872005112.py:252: RuntimeWarning: invalid value encountered in scalar divide\n",
      "  precision=true_p/(true_p+false_p)\n"
     ]
    },
    {
     "name": "stdout",
     "output_type": "stream",
     "text": [
      "Processing SF...\n",
      "Processing KLAC...\n",
      "Processing ALIT...\n",
      "Processing SWX...\n",
      "Processing CALX...\n"
     ]
    },
    {
     "name": "stderr",
     "output_type": "stream",
     "text": [
      "C:\\Users\\hilun\\AppData\\Local\\Temp\\ipykernel_16436\\1872005112.py:252: RuntimeWarning: invalid value encountered in scalar divide\n",
      "  precision=true_p/(true_p+false_p)\n"
     ]
    },
    {
     "name": "stdout",
     "output_type": "stream",
     "text": [
      "Processing LW...\n",
      "Processing WEX...\n",
      "Processing JOE...\n"
     ]
    },
    {
     "name": "stderr",
     "output_type": "stream",
     "text": [
      "C:\\Users\\hilun\\AppData\\Local\\Temp\\ipykernel_16436\\1872005112.py:252: RuntimeWarning: invalid value encountered in scalar divide\n",
      "  precision=true_p/(true_p+false_p)\n",
      "C:\\Users\\hilun\\AppData\\Local\\Temp\\ipykernel_16436\\1872005112.py:253: RuntimeWarning: invalid value encountered in scalar divide\n",
      "  recall=true_p/(true_p+false_neg)\n"
     ]
    },
    {
     "name": "stdout",
     "output_type": "stream",
     "text": [
      "Processing HAL...\n",
      "Processing MOG.A...\n",
      "Skipping MOG.A: No data found.\n",
      "Processing JXN...\n",
      "Processing BRKR...\n",
      "Processing ETRN...\n",
      "Processing ADSK...\n",
      "Processing GFF...\n"
     ]
    },
    {
     "name": "stderr",
     "output_type": "stream",
     "text": [
      "C:\\Users\\hilun\\AppData\\Local\\Temp\\ipykernel_16436\\1872005112.py:252: RuntimeWarning: invalid value encountered in scalar divide\n",
      "  precision=true_p/(true_p+false_p)\n"
     ]
    },
    {
     "name": "stdout",
     "output_type": "stream",
     "text": [
      "Processing ORI...\n",
      "Processing KEY...\n",
      "Processing RYAN...\n"
     ]
    },
    {
     "name": "stderr",
     "output_type": "stream",
     "text": [
      "C:\\Users\\hilun\\AppData\\Local\\Temp\\ipykernel_16436\\1872005112.py:252: RuntimeWarning: invalid value encountered in scalar divide\n",
      "  precision=true_p/(true_p+false_p)\n"
     ]
    },
    {
     "name": "stdout",
     "output_type": "stream",
     "text": [
      "Processing ZBRA...\n",
      "Processing NFLX...\n",
      "Processing PDBC...\n"
     ]
    },
    {
     "name": "stderr",
     "output_type": "stream",
     "text": [
      "C:\\Users\\hilun\\anaconda3\\Lib\\site-packages\\sklearn\\metrics\\_regression.py:1187: UndefinedMetricWarning: R^2 score is not well-defined with less than two samples.\n",
      "  warnings.warn(msg, UndefinedMetricWarning)\n",
      "C:\\Users\\hilun\\AppData\\Local\\Temp\\ipykernel_16436\\1872005112.py:252: RuntimeWarning: invalid value encountered in scalar divide\n",
      "  precision=true_p/(true_p+false_p)\n"
     ]
    },
    {
     "name": "stdout",
     "output_type": "stream",
     "text": [
      "Processing YUM...\n",
      "Processing DAY...\n",
      "Processing HIG...\n",
      "Processing FBIN...\n",
      "Processing AFG...\n",
      "Processing PEP...\n",
      "Processing MANH...\n",
      "Processing VMI...\n",
      "Processing ACLX...\n"
     ]
    },
    {
     "name": "stderr",
     "output_type": "stream",
     "text": [
      "C:\\Users\\hilun\\AppData\\Local\\Temp\\ipykernel_16436\\1872005112.py:253: RuntimeWarning: invalid value encountered in scalar divide\n",
      "  recall=true_p/(true_p+false_neg)\n"
     ]
    },
    {
     "name": "stdout",
     "output_type": "stream",
     "text": [
      "Processing PAVE...\n"
     ]
    },
    {
     "name": "stderr",
     "output_type": "stream",
     "text": [
      "C:\\Users\\hilun\\anaconda3\\Lib\\site-packages\\sklearn\\metrics\\_regression.py:1187: UndefinedMetricWarning: R^2 score is not well-defined with less than two samples.\n",
      "  warnings.warn(msg, UndefinedMetricWarning)\n",
      "C:\\Users\\hilun\\AppData\\Local\\Temp\\ipykernel_16436\\1872005112.py:252: RuntimeWarning: invalid value encountered in scalar divide\n",
      "  precision=true_p/(true_p+false_p)\n",
      "C:\\Users\\hilun\\AppData\\Local\\Temp\\ipykernel_16436\\1872005112.py:253: RuntimeWarning: invalid value encountered in scalar divide\n",
      "  recall=true_p/(true_p+false_neg)\n"
     ]
    },
    {
     "name": "stdout",
     "output_type": "stream",
     "text": [
      "Processing K...\n"
     ]
    },
    {
     "name": "stderr",
     "output_type": "stream",
     "text": [
      "C:\\Users\\hilun\\AppData\\Local\\Temp\\ipykernel_16436\\1872005112.py:252: RuntimeWarning: invalid value encountered in scalar divide\n",
      "  precision=true_p/(true_p+false_p)\n",
      "C:\\Users\\hilun\\AppData\\Local\\Temp\\ipykernel_16436\\1872005112.py:253: RuntimeWarning: invalid value encountered in scalar divide\n",
      "  recall=true_p/(true_p+false_neg)\n"
     ]
    },
    {
     "name": "stdout",
     "output_type": "stream",
     "text": [
      "Processing FTNT...\n",
      "Processing OGE...\n",
      "Processing MC...\n",
      "Processing ICUI...\n"
     ]
    },
    {
     "name": "stderr",
     "output_type": "stream",
     "text": [
      "C:\\Users\\hilun\\AppData\\Local\\Temp\\ipykernel_16436\\1872005112.py:252: RuntimeWarning: invalid value encountered in scalar divide\n",
      "  precision=true_p/(true_p+false_p)\n"
     ]
    },
    {
     "name": "stdout",
     "output_type": "stream",
     "text": [
      "Processing MSFT...\n",
      "Processing EXP...\n",
      "Processing CIVI...\n",
      "Processing CASY...\n"
     ]
    },
    {
     "name": "stderr",
     "output_type": "stream",
     "text": [
      "C:\\Users\\hilun\\AppData\\Local\\Temp\\ipykernel_16436\\1872005112.py:254: RuntimeWarning: invalid value encountered in scalar divide\n",
      "  f1=2*precision*recall/(precision+recall)\n"
     ]
    },
    {
     "name": "stdout",
     "output_type": "stream",
     "text": [
      "Processing CG...\n",
      "Processing DBX...\n"
     ]
    },
    {
     "name": "stderr",
     "output_type": "stream",
     "text": [
      "C:\\Users\\hilun\\AppData\\Local\\Temp\\ipykernel_16436\\1872005112.py:252: RuntimeWarning: invalid value encountered in scalar divide\n",
      "  precision=true_p/(true_p+false_p)\n"
     ]
    },
    {
     "name": "stdout",
     "output_type": "stream",
     "text": [
      "Processing WDC...\n",
      "Processing TTD...\n",
      "Processing MOS...\n",
      "Processing VFC...\n",
      "Processing MP...\n",
      "Processing ODFL...\n",
      "Processing NVR...\n",
      "Processing AEL...\n"
     ]
    },
    {
     "name": "stderr",
     "output_type": "stream",
     "text": [
      "C:\\Users\\hilun\\AppData\\Local\\Temp\\ipykernel_16436\\1872005112.py:252: RuntimeWarning: invalid value encountered in scalar divide\n",
      "  precision=true_p/(true_p+false_p)\n",
      "C:\\Users\\hilun\\AppData\\Local\\Temp\\ipykernel_16436\\1872005112.py:253: RuntimeWarning: invalid value encountered in scalar divide\n",
      "  recall=true_p/(true_p+false_neg)\n"
     ]
    },
    {
     "name": "stdout",
     "output_type": "stream",
     "text": [
      "Processing NU...\n",
      "Processing WEC...\n",
      "Processing ARMK...\n",
      "Processing G...\n",
      "Processing MDC...\n"
     ]
    },
    {
     "name": "stderr",
     "output_type": "stream",
     "text": [
      "C:\\Users\\hilun\\AppData\\Local\\Temp\\ipykernel_16436\\1872005112.py:252: RuntimeWarning: invalid value encountered in scalar divide\n",
      "  precision=true_p/(true_p+false_p)\n",
      "C:\\Users\\hilun\\AppData\\Local\\Temp\\ipykernel_16436\\1872005112.py:253: RuntimeWarning: invalid value encountered in scalar divide\n",
      "  recall=true_p/(true_p+false_neg)\n"
     ]
    },
    {
     "name": "stdout",
     "output_type": "stream",
     "text": [
      "Processing EQR...\n",
      "Processing WPC...\n",
      "Processing SO...\n",
      "Processing TGNA...\n"
     ]
    },
    {
     "name": "stderr",
     "output_type": "stream",
     "text": [
      "C:\\Users\\hilun\\AppData\\Local\\Temp\\ipykernel_16436\\1872005112.py:252: RuntimeWarning: invalid value encountered in scalar divide\n",
      "  precision=true_p/(true_p+false_p)\n",
      "C:\\Users\\hilun\\AppData\\Local\\Temp\\ipykernel_16436\\1872005112.py:253: RuntimeWarning: invalid value encountered in scalar divide\n",
      "  recall=true_p/(true_p+false_neg)\n"
     ]
    },
    {
     "name": "stdout",
     "output_type": "stream",
     "text": [
      "Processing CR...\n",
      "Processing PCOR...\n"
     ]
    },
    {
     "name": "stderr",
     "output_type": "stream",
     "text": [
      "C:\\Users\\hilun\\AppData\\Local\\Temp\\ipykernel_16436\\1872005112.py:252: RuntimeWarning: invalid value encountered in scalar divide\n",
      "  precision=true_p/(true_p+false_p)\n"
     ]
    },
    {
     "name": "stdout",
     "output_type": "stream",
     "text": [
      "Processing LSXMK...\n",
      "Processing OZK...\n",
      "Processing FSS...\n",
      "Processing PTC...\n",
      "Processing ADMA...\n",
      "Processing MDGL...\n",
      "Processing SYY...\n",
      "Processing KMX...\n",
      "Processing APPN...\n"
     ]
    },
    {
     "name": "stderr",
     "output_type": "stream",
     "text": [
      "C:\\Users\\hilun\\AppData\\Local\\Temp\\ipykernel_16436\\1872005112.py:252: RuntimeWarning: invalid value encountered in scalar divide\n",
      "  precision=true_p/(true_p+false_p)\n",
      "C:\\Users\\hilun\\AppData\\Local\\Temp\\ipykernel_16436\\1872005112.py:253: RuntimeWarning: invalid value encountered in scalar divide\n",
      "  recall=true_p/(true_p+false_neg)\n"
     ]
    },
    {
     "name": "stdout",
     "output_type": "stream",
     "text": [
      "Processing EME...\n",
      "Processing UTHR...\n",
      "Processing SJM...\n",
      "Processing LTH...\n",
      "Processing BWA...\n",
      "Processing CPNG...\n",
      "Processing CI...\n",
      "Processing SEM...\n",
      "Processing XRAY...\n"
     ]
    },
    {
     "name": "stderr",
     "output_type": "stream",
     "text": [
      "C:\\Users\\hilun\\AppData\\Local\\Temp\\ipykernel_16436\\1872005112.py:254: RuntimeWarning: invalid value encountered in scalar divide\n",
      "  f1=2*precision*recall/(precision+recall)\n"
     ]
    },
    {
     "name": "stdout",
     "output_type": "stream",
     "text": [
      "Processing PSX...\n",
      "Processing RUSHA...\n",
      "Processing STX...\n",
      "Processing EMR...\n",
      "Processing VIK...\n",
      "Processing LAMR...\n",
      "Processing CNXC...\n",
      "Processing PCH...\n",
      "Processing NVDA...\n",
      "Processing LSTR...\n",
      "Processing ALLY...\n",
      "Processing GDDY...\n",
      "Processing IBOC...\n"
     ]
    },
    {
     "name": "stderr",
     "output_type": "stream",
     "text": [
      "C:\\Users\\hilun\\AppData\\Local\\Temp\\ipykernel_16436\\1872005112.py:252: RuntimeWarning: invalid value encountered in scalar divide\n",
      "  precision=true_p/(true_p+false_p)\n"
     ]
    },
    {
     "name": "stdout",
     "output_type": "stream",
     "text": [
      "Processing APTV...\n",
      "Processing STE...\n",
      "Processing VAL...\n",
      "Processing KRTX...\n"
     ]
    },
    {
     "name": "stderr",
     "output_type": "stream",
     "text": [
      "C:\\Users\\hilun\\AppData\\Local\\Temp\\ipykernel_16436\\1872005112.py:252: RuntimeWarning: invalid value encountered in scalar divide\n",
      "  precision=true_p/(true_p+false_p)\n",
      "C:\\Users\\hilun\\AppData\\Local\\Temp\\ipykernel_16436\\1872005112.py:253: RuntimeWarning: invalid value encountered in scalar divide\n",
      "  recall=true_p/(true_p+false_neg)\n"
     ]
    },
    {
     "name": "stdout",
     "output_type": "stream",
     "text": [
      "Processing WTS...\n"
     ]
    },
    {
     "name": "stderr",
     "output_type": "stream",
     "text": [
      "C:\\Users\\hilun\\AppData\\Local\\Temp\\ipykernel_16436\\1872005112.py:254: RuntimeWarning: invalid value encountered in scalar divide\n",
      "  f1=2*precision*recall/(precision+recall)\n"
     ]
    },
    {
     "name": "stdout",
     "output_type": "stream",
     "text": [
      "Processing USM...\n"
     ]
    },
    {
     "name": "stderr",
     "output_type": "stream",
     "text": [
      "C:\\Users\\hilun\\AppData\\Local\\Temp\\ipykernel_16436\\1872005112.py:253: RuntimeWarning: invalid value encountered in scalar divide\n",
      "  recall=true_p/(true_p+false_neg)\n"
     ]
    },
    {
     "name": "stdout",
     "output_type": "stream",
     "text": [
      "Processing KVUE...\n",
      "Processing VRSN...\n",
      "Processing OSCR...\n",
      "Processing ITCI...\n",
      "Processing MTCH...\n",
      "Processing WYNN...\n",
      "Processing CFG...\n",
      "Processing ORCL...\n",
      "Processing VRRM...\n",
      "Processing F...\n",
      "Processing CF...\n",
      "Processing EXC...\n",
      "Processing FOLD...\n",
      "Processing MLM...\n",
      "Processing WRB...\n"
     ]
    },
    {
     "name": "stderr",
     "output_type": "stream",
     "text": [
      "C:\\Users\\hilun\\AppData\\Local\\Temp\\ipykernel_16436\\1872005112.py:254: RuntimeWarning: invalid value encountered in scalar divide\n",
      "  f1=2*precision*recall/(precision+recall)\n"
     ]
    },
    {
     "name": "stdout",
     "output_type": "stream",
     "text": [
      "Processing OLN...\n",
      "Processing WMB...\n",
      "Processing DECK...\n",
      "Processing AES...\n",
      "Processing ADC...\n",
      "Processing ZETA...\n"
     ]
    },
    {
     "name": "stderr",
     "output_type": "stream",
     "text": [
      "C:\\Users\\hilun\\AppData\\Local\\Temp\\ipykernel_16436\\1872005112.py:252: RuntimeWarning: invalid value encountered in scalar divide\n",
      "  precision=true_p/(true_p+false_p)\n"
     ]
    },
    {
     "name": "stdout",
     "output_type": "stream",
     "text": [
      "Processing MMYT...\n",
      "Processing JAZZ...\n",
      "Processing ICL...\n",
      "Processing SPXC...\n",
      "Processing IPG...\n",
      "Processing OTEX...\n",
      "Processing KRYS...\n",
      "Processing HLI...\n",
      "Processing PFGC...\n",
      "Processing AFL...\n",
      "Processing DBMF...\n",
      "Skipping DBMF: No data found.\n",
      "Processing CAMT...\n",
      "Processing TPH...\n",
      "Processing CRBG...\n",
      "Processing TOL...\n",
      "Processing VRSK...\n",
      "Processing ADT...\n",
      "Processing BCPC...\n",
      "Processing AVNT...\n",
      "Processing TNET...\n",
      "Processing SAIC...\n",
      "Processing MARA...\n",
      "Processing AIZ...\n",
      "Processing TKR...\n",
      "Processing TRIP...\n"
     ]
    },
    {
     "name": "stderr",
     "output_type": "stream",
     "text": [
      "C:\\Users\\hilun\\AppData\\Local\\Temp\\ipykernel_16436\\1872005112.py:252: RuntimeWarning: invalid value encountered in scalar divide\n",
      "  precision=true_p/(true_p+false_p)\n"
     ]
    },
    {
     "name": "stdout",
     "output_type": "stream",
     "text": [
      "Processing DJT...\n",
      "Processing PK...\n",
      "Processing TER...\n",
      "Processing CRVL...\n",
      "Processing DASH...\n",
      "Processing SWAV...\n"
     ]
    },
    {
     "name": "stderr",
     "output_type": "stream",
     "text": [
      "C:\\Users\\hilun\\AppData\\Local\\Temp\\ipykernel_16436\\1872005112.py:252: RuntimeWarning: invalid value encountered in scalar divide\n",
      "  precision=true_p/(true_p+false_p)\n",
      "C:\\Users\\hilun\\AppData\\Local\\Temp\\ipykernel_16436\\1872005112.py:253: RuntimeWarning: invalid value encountered in scalar divide\n",
      "  recall=true_p/(true_p+false_neg)\n"
     ]
    },
    {
     "name": "stdout",
     "output_type": "stream",
     "text": [
      "Processing CAG...\n",
      "Processing NYCB...\n",
      "Processing NEE...\n",
      "Processing EIX...\n",
      "Processing FORM...\n",
      "Processing UPS...\n",
      "Processing XPO...\n",
      "Processing IFF...\n",
      "Processing VICI...\n",
      "Processing EVR...\n",
      "Processing GOLF...\n",
      "Processing FRSH...\n",
      "Processing SCI...\n"
     ]
    },
    {
     "name": "stderr",
     "output_type": "stream",
     "text": [
      "C:\\Users\\hilun\\AppData\\Local\\Temp\\ipykernel_16436\\1872005112.py:253: RuntimeWarning: invalid value encountered in scalar divide\n",
      "  recall=true_p/(true_p+false_neg)\n"
     ]
    },
    {
     "name": "stdout",
     "output_type": "stream",
     "text": [
      "Processing SAIA...\n",
      "Processing APPF...\n",
      "Processing AN...\n",
      "Processing OSK...\n",
      "Processing U...\n",
      "Processing XENE...\n",
      "Processing HES...\n",
      "Processing ONTO...\n",
      "Processing ASML...\n",
      "Processing ALTR...\n",
      "Processing PHO...\n",
      "Skipping PHO: No data found.\n",
      "Processing GATX...\n",
      "Processing SPOT...\n",
      "Processing UBS...\n",
      "Processing PYCR...\n"
     ]
    },
    {
     "name": "stderr",
     "output_type": "stream",
     "text": [
      "C:\\Users\\hilun\\AppData\\Local\\Temp\\ipykernel_16436\\1872005112.py:252: RuntimeWarning: invalid value encountered in scalar divide\n",
      "  precision=true_p/(true_p+false_p)\n",
      "C:\\Users\\hilun\\AppData\\Local\\Temp\\ipykernel_16436\\1872005112.py:253: RuntimeWarning: invalid value encountered in scalar divide\n",
      "  recall=true_p/(true_p+false_neg)\n"
     ]
    },
    {
     "name": "stdout",
     "output_type": "stream",
     "text": [
      "Processing KDP...\n",
      "Processing MUR...\n",
      "Processing BHVN...\n",
      "Processing CFLT...\n",
      "Processing AUR...\n",
      "Processing MTG...\n",
      "Processing VC...\n"
     ]
    },
    {
     "name": "stderr",
     "output_type": "stream",
     "text": [
      "C:\\Users\\hilun\\AppData\\Local\\Temp\\ipykernel_16436\\1872005112.py:253: RuntimeWarning: invalid value encountered in scalar divide\n",
      "  recall=true_p/(true_p+false_neg)\n"
     ]
    },
    {
     "name": "stdout",
     "output_type": "stream",
     "text": [
      "Processing CXT...\n"
     ]
    },
    {
     "name": "stderr",
     "output_type": "stream",
     "text": [
      "C:\\Users\\hilun\\AppData\\Local\\Temp\\ipykernel_16436\\1872005112.py:253: RuntimeWarning: invalid value encountered in scalar divide\n",
      "  recall=true_p/(true_p+false_neg)\n"
     ]
    },
    {
     "name": "stdout",
     "output_type": "stream",
     "text": [
      "Processing PFFD...\n",
      "Skipping PFFD: No data found.\n",
      "Processing VTR...\n",
      "Processing AKAM...\n",
      "Processing MDT...\n",
      "Processing KMB...\n",
      "Processing MELI...\n",
      "Processing TROW...\n",
      "Processing ERIE...\n",
      "Processing HUBS...\n",
      "Processing ATR...\n",
      "Processing PI...\n",
      "Processing EQT...\n",
      "Processing INSM...\n"
     ]
    },
    {
     "name": "stderr",
     "output_type": "stream",
     "text": [
      "C:\\Users\\hilun\\AppData\\Local\\Temp\\ipykernel_16436\\1872005112.py:254: RuntimeWarning: invalid value encountered in scalar divide\n",
      "  f1=2*precision*recall/(precision+recall)\n"
     ]
    },
    {
     "name": "stdout",
     "output_type": "stream",
     "text": [
      "Processing PGR...\n",
      "Processing PLUG...\n"
     ]
    },
    {
     "name": "stderr",
     "output_type": "stream",
     "text": [
      "C:\\Users\\hilun\\AppData\\Local\\Temp\\ipykernel_16436\\1872005112.py:253: RuntimeWarning: invalid value encountered in scalar divide\n",
      "  recall=true_p/(true_p+false_neg)\n"
     ]
    },
    {
     "name": "stdout",
     "output_type": "stream",
     "text": [
      "Processing SVV...\n"
     ]
    },
    {
     "name": "stderr",
     "output_type": "stream",
     "text": [
      "C:\\Users\\hilun\\AppData\\Local\\Temp\\ipykernel_16436\\1872005112.py:253: RuntimeWarning: invalid value encountered in scalar divide\n",
      "  recall=true_p/(true_p+false_neg)\n"
     ]
    },
    {
     "name": "stdout",
     "output_type": "stream",
     "text": [
      "Processing ZI...\n"
     ]
    },
    {
     "name": "stderr",
     "output_type": "stream",
     "text": [
      "C:\\Users\\hilun\\AppData\\Local\\Temp\\ipykernel_16436\\1872005112.py:253: RuntimeWarning: invalid value encountered in scalar divide\n",
      "  recall=true_p/(true_p+false_neg)\n"
     ]
    },
    {
     "name": "stdout",
     "output_type": "stream",
     "text": [
      "Processing BAH...\n",
      "Processing ISRG...\n",
      "Processing TPX...\n",
      "Processing PII...\n",
      "Processing COOP...\n",
      "Processing WTM...\n"
     ]
    },
    {
     "name": "stderr",
     "output_type": "stream",
     "text": [
      "C:\\Users\\hilun\\AppData\\Local\\Temp\\ipykernel_16436\\1872005112.py:253: RuntimeWarning: invalid value encountered in scalar divide\n",
      "  recall=true_p/(true_p+false_neg)\n"
     ]
    },
    {
     "name": "stdout",
     "output_type": "stream",
     "text": [
      "Processing LSCC...\n",
      "Processing SSB...\n",
      "Processing AMP...\n",
      "Processing MASI...\n",
      "Processing AMN...\n"
     ]
    },
    {
     "name": "stderr",
     "output_type": "stream",
     "text": [
      "C:\\Users\\hilun\\AppData\\Local\\Temp\\ipykernel_16436\\1872005112.py:252: RuntimeWarning: invalid value encountered in scalar divide\n",
      "  precision=true_p/(true_p+false_p)\n"
     ]
    },
    {
     "name": "stdout",
     "output_type": "stream",
     "text": [
      "Processing RH...\n",
      "Processing VZ...\n",
      "Processing KVYO...\n"
     ]
    },
    {
     "name": "stderr",
     "output_type": "stream",
     "text": [
      "C:\\Users\\hilun\\AppData\\Local\\Temp\\ipykernel_16436\\1872005112.py:253: RuntimeWarning: invalid value encountered in scalar divide\n",
      "  recall=true_p/(true_p+false_neg)\n"
     ]
    },
    {
     "name": "stdout",
     "output_type": "stream",
     "text": [
      "Processing ASAN...\n",
      "Processing ORA...\n",
      "Processing ATKR...\n",
      "Processing TREX...\n",
      "Processing DCI...\n",
      "Processing PRKS...\n"
     ]
    },
    {
     "name": "stderr",
     "output_type": "stream",
     "text": [
      "C:\\Users\\hilun\\anaconda3\\Lib\\site-packages\\sklearn\\metrics\\_regression.py:1187: UndefinedMetricWarning: R^2 score is not well-defined with less than two samples.\n",
      "  warnings.warn(msg, UndefinedMetricWarning)\n",
      "C:\\Users\\hilun\\AppData\\Local\\Temp\\ipykernel_16436\\1872005112.py:252: RuntimeWarning: invalid value encountered in scalar divide\n",
      "  precision=true_p/(true_p+false_p)\n",
      "C:\\Users\\hilun\\AppData\\Local\\Temp\\ipykernel_16436\\1872005112.py:253: RuntimeWarning: invalid value encountered in scalar divide\n",
      "  recall=true_p/(true_p+false_neg)\n"
     ]
    },
    {
     "name": "stdout",
     "output_type": "stream",
     "text": [
      "Processing REET...\n",
      "Skipping REET: No data found.\n",
      "Processing HBAN...\n",
      "Processing RRC...\n",
      "Processing MAN...\n",
      "Processing HRL...\n",
      "Processing PPL...\n",
      "Processing MHO...\n",
      "Processing BL...\n",
      "Processing SHAK...\n",
      "Processing AAON...\n",
      "Processing AMH...\n",
      "Processing CRL...\n",
      "Processing BRZE...\n",
      "Processing URI...\n",
      "Processing CNHI...\n",
      "Processing IAC...\n",
      "Processing FLG...\n"
     ]
    },
    {
     "name": "stderr",
     "output_type": "stream",
     "text": [
      "C:\\Users\\hilun\\anaconda3\\Lib\\site-packages\\sklearn\\metrics\\_regression.py:1187: UndefinedMetricWarning: R^2 score is not well-defined with less than two samples.\n",
      "  warnings.warn(msg, UndefinedMetricWarning)\n",
      "C:\\Users\\hilun\\AppData\\Local\\Temp\\ipykernel_16436\\1872005112.py:252: RuntimeWarning: invalid value encountered in scalar divide\n",
      "  precision=true_p/(true_p+false_p)\n"
     ]
    },
    {
     "name": "stdout",
     "output_type": "stream",
     "text": [
      "Processing VLY...\n",
      "Processing IBM...\n",
      "Processing GO...\n"
     ]
    },
    {
     "name": "stderr",
     "output_type": "stream",
     "text": [
      "C:\\Users\\hilun\\AppData\\Local\\Temp\\ipykernel_16436\\1872005112.py:254: RuntimeWarning: invalid value encountered in scalar divide\n",
      "  f1=2*precision*recall/(precision+recall)\n"
     ]
    },
    {
     "name": "stdout",
     "output_type": "stream",
     "text": [
      "Processing KNF...\n"
     ]
    },
    {
     "name": "stderr",
     "output_type": "stream",
     "text": [
      "C:\\Users\\hilun\\AppData\\Local\\Temp\\ipykernel_16436\\1872005112.py:254: RuntimeWarning: invalid value encountered in scalar divide\n",
      "  f1=2*precision*recall/(precision+recall)\n"
     ]
    },
    {
     "name": "stdout",
     "output_type": "stream",
     "text": [
      "Processing COHR...\n",
      "Processing NSP...\n",
      "Processing PAG...\n"
     ]
    },
    {
     "name": "stderr",
     "output_type": "stream",
     "text": [
      "C:\\Users\\hilun\\AppData\\Local\\Temp\\ipykernel_16436\\1872005112.py:252: RuntimeWarning: invalid value encountered in scalar divide\n",
      "  precision=true_p/(true_p+false_p)\n"
     ]
    },
    {
     "name": "stdout",
     "output_type": "stream",
     "text": [
      "Processing FTV...\n"
     ]
    },
    {
     "name": "stderr",
     "output_type": "stream",
     "text": [
      "C:\\Users\\hilun\\AppData\\Local\\Temp\\ipykernel_16436\\1872005112.py:254: RuntimeWarning: invalid value encountered in scalar divide\n",
      "  f1=2*precision*recall/(precision+recall)\n"
     ]
    },
    {
     "name": "stdout",
     "output_type": "stream",
     "text": [
      "Processing STT...\n",
      "Processing VERX...\n"
     ]
    },
    {
     "name": "stderr",
     "output_type": "stream",
     "text": [
      "C:\\Users\\hilun\\AppData\\Local\\Temp\\ipykernel_16436\\1872005112.py:252: RuntimeWarning: invalid value encountered in scalar divide\n",
      "  precision=true_p/(true_p+false_p)\n"
     ]
    },
    {
     "name": "stdout",
     "output_type": "stream",
     "text": [
      "Processing DTM...\n",
      "Processing CRS...\n",
      "Processing SRPT...\n",
      "Processing WELL...\n",
      "Processing ENPH...\n",
      "Processing WAY...\n"
     ]
    },
    {
     "name": "stderr",
     "output_type": "stream",
     "text": [
      "C:\\Users\\hilun\\AppData\\Local\\Temp\\ipykernel_16436\\1872005112.py:252: RuntimeWarning: invalid value encountered in scalar divide\n",
      "  precision=true_p/(true_p+false_p)\n",
      "C:\\Users\\hilun\\AppData\\Local\\Temp\\ipykernel_16436\\1872005112.py:253: RuntimeWarning: invalid value encountered in scalar divide\n",
      "  recall=true_p/(true_p+false_neg)\n"
     ]
    },
    {
     "name": "stdout",
     "output_type": "stream",
     "text": [
      "Processing MNDY...\n",
      "Processing KIM...\n",
      "Processing SLAB...\n",
      "Processing TENB...\n",
      "Processing LSXMA...\n",
      "Processing SPLK...\n"
     ]
    },
    {
     "name": "stderr",
     "output_type": "stream",
     "text": [
      "C:\\Users\\hilun\\AppData\\Local\\Temp\\ipykernel_16436\\1872005112.py:252: RuntimeWarning: invalid value encountered in scalar divide\n",
      "  precision=true_p/(true_p+false_p)\n",
      "C:\\Users\\hilun\\AppData\\Local\\Temp\\ipykernel_16436\\1872005112.py:253: RuntimeWarning: invalid value encountered in scalar divide\n",
      "  recall=true_p/(true_p+false_neg)\n"
     ]
    },
    {
     "name": "stdout",
     "output_type": "stream",
     "text": [
      "Processing GOOG...\n",
      "Processing NDAQ...\n",
      "Processing Cap Weighted Index...\n",
      "Skipping Cap Weighted Index: No data found.\n",
      "Processing CB...\n",
      "Processing PFIX...\n"
     ]
    },
    {
     "name": "stderr",
     "output_type": "stream",
     "text": [
      "C:\\Users\\hilun\\anaconda3\\Lib\\site-packages\\sklearn\\metrics\\_regression.py:1187: UndefinedMetricWarning: R^2 score is not well-defined with less than two samples.\n",
      "  warnings.warn(msg, UndefinedMetricWarning)\n"
     ]
    },
    {
     "name": "stdout",
     "output_type": "stream",
     "text": [
      "Processing AX...\n",
      "Processing LOPE...\n",
      "Execution Time: 4236.36891 seconds\n",
      "     symbol        MAE  r-square  all categories classification accuracy  \\\n",
      "0      JNPR   0.770718  0.415012                                0.631579   \n",
      "1       TPG   2.233478  0.680189                                0.363636   \n",
      "2       AVY   1.901908 -0.253975                                0.266667   \n",
      "3        WY   1.962662  0.342093                                0.600000   \n",
      "4       KRC   3.350552  0.325471                                0.375000   \n",
      "...     ...        ...       ...                                     ...   \n",
      "1349   NDAQ   0.980791  0.226316                                0.363636   \n",
      "1350     CB   0.621710  0.511360                                0.629630   \n",
      "1351   PFIX  47.941093       NaN                                0.000000   \n",
      "1352     AX   5.568264  0.299836                                0.500000   \n",
      "1353   LOPE   1.967123  0.324066                                0.571429   \n",
      "\n",
      "      article count  word count  total days used for analysis  \\\n",
      "0               162        1305                            95   \n",
      "1                69         969                            52   \n",
      "2               123         662                            75   \n",
      "3                74         676                            49   \n",
      "4                50         470                            37   \n",
      "...             ...         ...                           ...   \n",
      "1349            295        2539                           163   \n",
      "1350            292        1709                           135   \n",
      "1351              5          53                             4   \n",
      "1352             39         375                            28   \n",
      "1353             99         486                            70   \n",
      "\n",
      "      Price drop precision  price drop recall  price drop f1 score  \\\n",
      "0                     1.00           0.333333             0.500000   \n",
      "1                     0.75           0.750000             0.750000   \n",
      "2                     0.20           0.250000             0.222222   \n",
      "3                     1.00           1.000000             1.000000   \n",
      "4                     1.00           1.000000             1.000000   \n",
      "...                    ...                ...                  ...   \n",
      "1349                  0.20           0.250000             0.222222   \n",
      "1350                  0.50           0.500000             0.500000   \n",
      "1351                  1.00           1.000000             1.000000   \n",
      "1352                  0.50           1.000000             0.666667   \n",
      "1353                  0.00           0.000000                  NaN   \n",
      "\n",
      "      true positive  false negative  false positive  true negative  \n",
      "0                 1               2               0             16  \n",
      "1                 3               1               1              6  \n",
      "2                 1               3               4              7  \n",
      "3                 3               0               0              7  \n",
      "4                 2               0               0              6  \n",
      "...             ...             ...             ...            ...  \n",
      "1349              1               3               4             25  \n",
      "1350              2               2               2             21  \n",
      "1351              1               0               0              0  \n",
      "1352              1               0               1              4  \n",
      "1353              0               3               1             10  \n",
      "\n",
      "[1354 rows x 14 columns]\n"
     ]
    },
    {
     "name": "stderr",
     "output_type": "stream",
     "text": [
      "C:\\Users\\hilun\\AppData\\Local\\Temp\\ipykernel_16436\\1872005112.py:254: RuntimeWarning: invalid value encountered in scalar divide\n",
      "  f1=2*precision*recall/(precision+recall)\n"
     ]
    }
   ],
   "source": [
    "# Define column names\n",
    "columns = [\"symbol\", \"MAE\", \"r-square\", \"all categories classification accuracy\",\"article count\",\"word count\", \"total days used for analysis\",'Price drop precision','price drop recall','price drop f1 score','true positive','false negative','false positive','true negative']\n",
    "result_df = pd.DataFrame(columns=columns)\n",
    "\n",
    "# **Main Execution Loop**\n",
    "for ticker in ticker_all:\n",
    "    process_ticker(ticker, nyse, stop_words, result_df)\n",
    "\n",
    "end_time = time.time()  # End time measurement\n",
    "elapsed_time = end_time - start_time  # Calculate elapsed time\n",
    "\n",
    "print(f\"Execution Time: {elapsed_time:.5f} seconds\")  # Print execution time\n",
    "\n",
    "print(result_df)\n",
    "# **Save Final Results**\n",
    "result_df.to_csv(\"result_data_words_stock_score.csv\", index=False)"
   ]
  }
 ],
 "metadata": {
  "kernelspec": {
   "display_name": "Python 3 (ipykernel)",
   "language": "python",
   "name": "python3"
  },
  "language_info": {
   "codemirror_mode": {
    "name": "ipython",
    "version": 3
   },
   "file_extension": ".py",
   "mimetype": "text/x-python",
   "name": "python",
   "nbconvert_exporter": "python",
   "pygments_lexer": "ipython3",
   "version": "3.12.3"
  }
 },
 "nbformat": 4,
 "nbformat_minor": 5
}
